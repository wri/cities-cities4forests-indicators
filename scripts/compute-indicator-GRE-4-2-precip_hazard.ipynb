{
 "cells": [
  {
   "cell_type": "code",
   "execution_count": null,
   "id": "c4f58363-f8c1-44a8-81de-1961176f6630",
   "metadata": {},
   "outputs": [],
   "source": [
    "# import sys\n",
    "# !{sys.executable} -m pip install pip earthengine-api\n",
    "# !{sys.executable} -m pip install pip geemap"
   ]
  },
  {
   "cell_type": "code",
   "execution_count": null,
   "id": "e86c4ef8-8afc-4376-95bd-59a10f8040b6",
   "metadata": {},
   "outputs": [],
   "source": [
    "import numpy as np\n",
    "import pandas as pd\n",
    "import matplotlib.pyplot as plt\n",
    "import shapely.geometry\n",
    "import requests\n",
    "import geemap\n",
    "import os\n",
    "import seaborn as sns\n",
    "import boto3\n",
    "sns.set_theme(style=\"darkgrid\")\n",
    "import ee\n",
    "#ee.Authenticate()"
   ]
  },
  {
   "cell_type": "code",
   "execution_count": null,
   "id": "36a2b0f6-402a-48ca-930b-4d1e998e0e3a",
   "metadata": {},
   "outputs": [],
   "source": [
    "ee.Initialize()"
   ]
  },
  {
   "cell_type": "code",
   "execution_count": null,
   "id": "1ae63479-a341-41bb-807e-cf2d337cf75e",
   "metadata": {},
   "outputs": [],
   "source": [
    "# define directory\n",
    "out_dir = os.getcwd()\n",
    "aws_s3_dir = \"https://cities-cities4forests.s3.eu-west-3.amazonaws.com/data\"\n",
    "# aws_s3_dir = \"https://cities-urbanshift.s3.eu-west-3.amazonaws.com/data\""
   ]
  },
  {
   "cell_type": "code",
   "execution_count": null,
   "id": "63ef9ae4-0ba7-44c2-9d06-466181f30976",
   "metadata": {},
   "outputs": [],
   "source": [
    "# USER INPUTS\n",
    "\n",
    "YEARS = range(2020, 2099)\n",
    "startyear = 2020\n",
    "endyear = 2050\n",
    "\n",
    "startyearStr = str(startyear)\n",
    "endyearStr = str(endyear)\n",
    "\n",
    "LONLAT = (76.383896, 10.426311,) # (x, y) for Kerala\n",
    "\n",
    "current_geom = ee.Geometry.Point(LONLAT)"
   ]
  },
  {
   "cell_type": "code",
   "execution_count": null,
   "id": "a5c66cdc-3d41-4047-b66e-bc708a3655bb",
   "metadata": {},
   "outputs": [],
   "source": [
    "maxprecip_probs = ee.ImageCollection('users/tedwongwri/dataportal/posterior_probs/maxprecip')"
   ]
  },
  {
   "cell_type": "code",
   "execution_count": null,
   "id": "9aed816a-92cd-4587-b0d6-0e21530ae1d8",
   "metadata": {},
   "outputs": [],
   "source": [
    "def expected_value(year, geom, probdata):\n",
    "# Return expected value of hazard for given year\n",
    "    probs = probdata.filterMetadata('year', 'equals', year).first().reduceRegion(reducer=ee.Reducer.mean(), geometry=geom, scale=250, bestEffort=True).getInfo()\n",
    "    if np.sum([float(i) for i in probs.values()]) == 0:\n",
    "        return 0, 1\n",
    "    dataprobs = np.array([float(i) for i in probs.values()]) / np.sum([float(i) for i in probs.values()])\n",
    "    mag_range = [(j.split('-')[0], j.split('-')[1]) for j in [i.split('_')[1] for i in list(probs.keys())]]\n",
    "    avg_mags = np.array([(float(i[0].replace('neg', '-')) + float(i[1].replace('neg', '-'))) / 2 for i in mag_range])\n",
    "    ev = np.dot(dataprobs, avg_mags) \n",
    "    for idx in range(len(mag_range)):\n",
    "        mag_pair = mag_range[idx]\n",
    "        if ev >= float(mag_pair[0].replace('neg', '-')) and ev < float(mag_pair[1].replace('neg', '-')):\n",
    "            break\n",
    "    key = list(probs.keys())[idx]\n",
    "    return ev"
   ]
  },
  {
   "cell_type": "code",
   "execution_count": null,
   "id": "0f91ad5a-e844-4f46-8b17-1083a5691655",
   "metadata": {},
   "outputs": [],
   "source": [
    "# get list of c4f cities\n",
    "boundary_georef = pd.read_csv('https://cities-cities4forests.s3.eu-west-3.amazonaws.com/data/boundaries/v_0/boundary_georef.csv')\n",
    "# boundary_georef = pd.read_csv('https://cities-urbanshift.s3.eu-west-3.amazonaws.com/data/boundaries/v_0/boundary_georef.csv')\n",
    "boundary_georef"
   ]
  },
  {
   "cell_type": "code",
   "execution_count": null,
   "id": "0ef0deb2-aefa-42fb-8693-ee514dc073fb",
   "metadata": {},
   "outputs": [],
   "source": [
    "this_indicatorDF = pd.DataFrame() "
   ]
  },
  {
   "cell_type": "code",
   "execution_count": null,
   "id": "68e16c06-d37d-498c-a945-98e97e1211fb",
   "metadata": {},
   "outputs": [],
   "source": [
    "for i in range(0, len(boundary_georef)):\n",
    "    print(i)\n",
    "    geo_name = boundary_georef.loc[i, 'geo_name']\n",
    "    \n",
    "    boundary_id_aoi = boundary_georef.loc[i, 'geo_name']+'-'+boundary_georef.loc[i, 'aoi_boundary_name']\n",
    "    boundary_id_unit = boundary_georef.loc[i, 'geo_name']+'-'+boundary_georef.loc[i, 'units_boundary_name']\n",
    "    \n",
    "    print(\"\\n geo_name: \"+boundary_id_aoi)\n",
    "    \n",
    "    # process aoi level ------\n",
    "    print(\"\\n boundary_id_aoi: \"+boundary_id_aoi)\n",
    "    # read boundaries\n",
    "    boundary_path = aws_s3_dir +'/boundaries/v_0/boundary-'+boundary_id_aoi+'.geojson'\n",
    "    boundary_geo = requests.get(boundary_path).json()\n",
    "    boundary_geo_ee = geemap.geojson_to_ee(boundary_geo)\n",
    "    for feature in boundary_geo['features']:\n",
    "            # print(\"\\n     geo_id: \" + feature['properties']['geo_id'])\n",
    "            shape = shapely.geometry.shape(feature['geometry'])\n",
    "            centroid = shape.centroid\n",
    "            clon, clat = centroid.coords[0]\n",
    "            LONLAT = (clon, clat,)\n",
    "            current_geom = ee.Geometry.Point(LONLAT)\n",
    "            geo_id = feature['properties']['geo_id']\n",
    "            # maxprecip_evs = [expected_value(y, current_geom, maxprecip_probs) for y in YEARS]\n",
    "            maxprecip_startev = expected_value(startyear, current_geom, maxprecip_probs)\n",
    "            maxprecip_endev = expected_value(endyear, current_geom, maxprecip_probs)\n",
    "            pctChange = ((maxprecip_endev /maxprecip_startev) - 1) # * 100\n",
    "            df = pd.DataFrame({'geo_id':geo_id, 'maxDailymmPrecipin'+endyearStr+'': maxprecip_endev, 'GRE_4_2_percentChangeinMaxDailyPrecip'+startyearStr+'to'+endyearStr+'':pctChange}, index=[0])\n",
    "            this_indicatorDF = pd.concat([this_indicatorDF,df])\n",
    "\n",
    "    # # process unit of analysis level ------\n",
    "    # print(\"\\n boundary_id_unit: \"+boundary_id_unit)\n",
    "    # # read boundaries\n",
    "    # boundary_path = aws_s3_dir +'/boundaries/v_0/boundary-'+boundary_id_unit+'.geojson'\n",
    "    # boundary_geo = requests.get(boundary_path).json()\n",
    "    # boundary_geo_ee = geemap.geojson_to_ee(boundary_geo)\n",
    "    # for feature in boundary_geo['features']:\n",
    "    #         # print(\"\\n     geo_id: \" + feature['properties']['geo_id'])\n",
    "    #         shape = shapely.geometry.shape(feature['geometry'])\n",
    "    #         centroid = shape.centroid\n",
    "    #         clon, clat = centroid.coords[0]\n",
    "    #         LONLAT = (clon, clat,)\n",
    "    #         current_geom = ee.Geometry.Point(LONLAT)\n",
    "    #         geo_id = feature['properties']['geo_id']\n",
    "    #         # maxprecip_evs = [expected_value(y, current_geom, maxprecip_probs) for y in YEARS]\n",
    "    #         maxprecip_startev = expected_value(startyear, current_geom, maxprecip_probs)\n",
    "    #         maxprecip_endev = expected_value(endyear, current_geom, maxprecip_probs)\n",
    "    #         pctChange = ((maxprecip_endev /maxprecip_startev) - 1) # * 100\n",
    "    #         df = pd.DataFrame({'geo_id':geo_id, 'maxDailymmPrecipin'+endyearStr+'': maxprecip_endev, 'percentChangeinMaxDailyPrecip'+startyearStr+'to'+endyearStr+'':pctChange}, index=[0])\n",
    "    #         DF = pd.concat([DF,df])\n",
    "            "
   ]
  },
  {
   "cell_type": "code",
   "execution_count": null,
   "id": "bffa52c5-bb83-4e68-bf70-aaf87ea9ee85",
   "metadata": {},
   "outputs": [],
   "source": [
    "this_indicatorDF"
   ]
  },
  {
   "cell_type": "markdown",
   "id": "25839a7a-cca0-4981-9bea-bead40fc8f0a",
   "metadata": {},
   "source": [
    "# Merge with indicator table"
   ]
  },
  {
   "cell_type": "code",
   "execution_count": null,
   "id": "d3d75f48-4e26-4d60-a02a-03775c6c8cce",
   "metadata": {},
   "outputs": [],
   "source": [
    "# read indicator table\n",
    "cities_indicators = pd.read_csv(aws_s3_dir + '/indicators/cities_indicators_v2test.csv') \n",
    "cities_indicators#.head()"
   ]
  },
  {
   "cell_type": "code",
   "execution_count": null,
   "id": "8059e9c9-90ae-4ddc-a867-2702022c0dd7",
   "metadata": {},
   "outputs": [],
   "source": [
    "def merge_indicators(indicator_table, new_indicator_table, indicator_name):\n",
    "    if indicator_name in indicator_table.columns:\n",
    "        print(\"replace with new calculations\")\n",
    "        indicator_table.drop(indicator_name, inplace=True, axis=1)\n",
    "        new_indicator_table = new_indicator_table.drop_duplicates()\n",
    "        cities_indicators_df = indicator_table.merge(new_indicator_table[[\"geo_id\",indicator_name]], \n",
    "                                                     on='geo_id', \n",
    "                                                     how='left',\n",
    "                                                     validate='one_to_many')\n",
    "    else:\n",
    "        print(\"add new indicators\")\n",
    "        new_indicator_table = new_indicator_table.drop_duplicates()\n",
    "        cities_indicators_df = indicator_table.merge(new_indicator_table[[\"geo_id\",indicator_name]], \n",
    "                                                     on='geo_id', \n",
    "                                                     how='left',\n",
    "                                                     validate='one_to_many')\n",
    "    return(cities_indicators_df)"
   ]
  },
  {
   "cell_type": "code",
   "execution_count": null,
   "id": "fe55c009-9cf7-41cc-ad32-6e9d23e08059",
   "metadata": {},
   "outputs": [],
   "source": [
    "cities_indicators_merged = merge_indicators(indicator_table = cities_indicators,\n",
    "                                            new_indicator_table = this_indicatorDF,\n",
    "                                            indicator_name = 'GRE_4_2_percentChangeinMaxDailyPrecip'+startyearStr+'to'+endyearStr+'')"
   ]
  },
  {
   "cell_type": "code",
   "execution_count": null,
   "id": "822e9389-049e-4279-ba18-6c349901ab47",
   "metadata": {},
   "outputs": [],
   "source": [
    "cities_indicators_merged"
   ]
  },
  {
   "cell_type": "markdown",
   "id": "e0d7369e-9c8a-47aa-adcb-b3ff3d4b8dac",
   "metadata": {},
   "source": [
    "# Upload in aws s3"
   ]
  },
  {
   "cell_type": "code",
   "execution_count": null,
   "id": "63835e94-c9ec-49aa-96b9-d0cb3af5d743",
   "metadata": {},
   "outputs": [],
   "source": [
    "# connect to s3\n",
    "aws_credentials = pd.read_csv('/home/jovyan/PlanetaryComputerExamples/aws_credentials.csv')\n",
    "aws_key = aws_credentials.iloc[0]['Access key ID']\n",
    "aws_secret = aws_credentials.iloc[0]['Secret access key']\n",
    "\n",
    "s3 = boto3.resource(\n",
    "    service_name='s3',\n",
    "    aws_access_key_id=aws_key,\n",
    "    aws_secret_access_key=aws_secret\n",
    ")"
   ]
  },
  {
   "cell_type": "code",
   "execution_count": null,
   "id": "8c8e81f2-a996-443b-92cc-3bb1f64e9aef",
   "metadata": {},
   "outputs": [],
   "source": [
    "# upload to aws\n",
    "key_data = 'data/indicators/cities_indicators_v2test.csv'\n",
    "bucket_name = 'cities-cities4forests' \n",
    "cities_indicators_merged.to_csv(\n",
    "    f\"s3://{bucket_name}/{key_data}\",\n",
    "    index=False,\n",
    "    storage_options={\n",
    "        \"key\": aws_key,\n",
    "        \"secret\": aws_secret\n",
    "    },\n",
    ")"
   ]
  },
  {
   "cell_type": "code",
   "execution_count": null,
   "id": "34c6b7a1-f66e-41fc-b22a-f1e6f762e862",
   "metadata": {},
   "outputs": [],
   "source": [
    "# make it public\n",
    "object_acl = s3.ObjectAcl(bucket_name,key_data)\n",
    "response = object_acl.put(ACL='public-read')"
   ]
  },
  {
   "cell_type": "code",
   "execution_count": null,
   "id": "20822539-f12d-4734-a78b-3a062bb8a58a",
   "metadata": {},
   "outputs": [],
   "source": []
  }
 ],
 "metadata": {
  "kernelspec": {
   "display_name": "Python 3 (ipykernel)",
   "language": "python",
   "name": "python3"
  },
  "language_info": {
   "codemirror_mode": {
    "name": "ipython",
    "version": 3
   },
   "file_extension": ".py",
   "mimetype": "text/x-python",
   "name": "python",
   "nbconvert_exporter": "python",
   "pygments_lexer": "ipython3",
   "version": "3.10.6"
  }
 },
 "nbformat": 4,
 "nbformat_minor": 5
}
