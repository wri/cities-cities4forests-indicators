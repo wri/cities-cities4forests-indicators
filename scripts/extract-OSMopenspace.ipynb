{
 "cells": [
  {
   "cell_type": "code",
   "execution_count": 1,
   "id": "f1e565e6-751d-461a-a315-8f964c79f464",
   "metadata": {
    "tags": []
   },
   "outputs": [],
   "source": [
    "# import sys\n",
    "# !{sys.executable} -m pip install pip earthengine-api\n",
    "# !{sys.executable} -m pip install pip geemap"
   ]
  },
  {
   "cell_type": "code",
   "execution_count": 2,
   "id": "3f4715cc-5ef4-4017-9e18-a91716a1d0e0",
   "metadata": {},
   "outputs": [],
   "source": [
    "import ee\n",
    "#ee.Authenticate()"
   ]
  },
  {
   "cell_type": "code",
   "execution_count": 3,
   "id": "42aac093-e263-47b9-a88b-a4998b5c7dda",
   "metadata": {},
   "outputs": [],
   "source": [
    "ee.Initialize()"
   ]
  },
  {
   "cell_type": "code",
   "execution_count": 4,
   "id": "4f1bc907-8871-46ee-8fce-f9befdd48f7b",
   "metadata": {},
   "outputs": [],
   "source": [
    "import geemap\n",
    "# geemap.update_package()\n",
    "import ipyleaflet\n",
    "import numpy as np\n",
    "import requests\n",
    "import os\n",
    "import pandas as pd\n",
    "import rasterio\n",
    "import boto3\n",
    "import geopandas as gpd\n",
    "import glob"
   ]
  },
  {
   "cell_type": "markdown",
   "id": "0b7d4e26-7d56-4da5-a1df-7bca2f46cec6",
   "metadata": {},
   "source": [
    "# Load data"
   ]
  },
  {
   "cell_type": "code",
   "execution_count": 10,
   "id": "f425e4cb-e18a-4c86-92ba-dd4cb9c8321d",
   "metadata": {},
   "outputs": [
    {
     "data": {
      "text/html": [
       "<div>\n",
       "<style scoped>\n",
       "    .dataframe tbody tr th:only-of-type {\n",
       "        vertical-align: middle;\n",
       "    }\n",
       "\n",
       "    .dataframe tbody tr th {\n",
       "        vertical-align: top;\n",
       "    }\n",
       "\n",
       "    .dataframe thead th {\n",
       "        text-align: right;\n",
       "    }\n",
       "</style>\n",
       "<table border=\"1\" class=\"dataframe\">\n",
       "  <thead>\n",
       "    <tr style=\"text-align: right;\">\n",
       "      <th></th>\n",
       "      <th>city_name</th>\n",
       "      <th>geo_name</th>\n",
       "      <th>aoi_boundary_name</th>\n",
       "      <th>units_boundary_name</th>\n",
       "      <th>city_boundary_name</th>\n",
       "      <th>country_code</th>\n",
       "      <th>geo_level</th>\n",
       "    </tr>\n",
       "  </thead>\n",
       "  <tbody>\n",
       "    <tr>\n",
       "      <th>0</th>\n",
       "      <td>Salvador</td>\n",
       "      <td>BRA-Salvador</td>\n",
       "      <td>ADM4union</td>\n",
       "      <td>ADM4</td>\n",
       "      <td>BRA-Salvador-ADM4</td>\n",
       "      <td>BRA</td>\n",
       "      <td>ADM4</td>\n",
       "    </tr>\n",
       "    <tr>\n",
       "      <th>1</th>\n",
       "      <td>Bukavu</td>\n",
       "      <td>COD-Bukavu</td>\n",
       "      <td>ADM3union</td>\n",
       "      <td>ADM3</td>\n",
       "      <td>COD-Bukavu-ADM2</td>\n",
       "      <td>COD</td>\n",
       "      <td>ADM2</td>\n",
       "    </tr>\n",
       "    <tr>\n",
       "      <th>2</th>\n",
       "      <td>Uvira</td>\n",
       "      <td>COD-Uvira</td>\n",
       "      <td>ADM3union</td>\n",
       "      <td>ADM3</td>\n",
       "      <td>COD-Uvira-ADM3</td>\n",
       "      <td>COD</td>\n",
       "      <td>ADM3</td>\n",
       "    </tr>\n",
       "    <tr>\n",
       "      <th>3</th>\n",
       "      <td>Brazzaville</td>\n",
       "      <td>COG-Brazzaville</td>\n",
       "      <td>ADM4union</td>\n",
       "      <td>ADM4</td>\n",
       "      <td>COG-Brazzaville-ADM4</td>\n",
       "      <td>COG</td>\n",
       "      <td>ADM4</td>\n",
       "    </tr>\n",
       "    <tr>\n",
       "      <th>4</th>\n",
       "      <td>Barranquilla</td>\n",
       "      <td>COL-Barranquilla</td>\n",
       "      <td>ADM4union</td>\n",
       "      <td>ADM4</td>\n",
       "      <td>COL-Barranquilla-ADM4</td>\n",
       "      <td>COL</td>\n",
       "      <td>ADM4</td>\n",
       "    </tr>\n",
       "    <tr>\n",
       "      <th>5</th>\n",
       "      <td>Addis_Ababa</td>\n",
       "      <td>ETH-Addis_Ababa</td>\n",
       "      <td>ADM4union</td>\n",
       "      <td>ADM4</td>\n",
       "      <td>ETH-Addis_Ababa-ADM4</td>\n",
       "      <td>ETH</td>\n",
       "      <td>ADM4</td>\n",
       "    </tr>\n",
       "    <tr>\n",
       "      <th>6</th>\n",
       "      <td>Dire_Dawa</td>\n",
       "      <td>ETH-Dire_Dawa</td>\n",
       "      <td>ADM3union</td>\n",
       "      <td>ADM3</td>\n",
       "      <td>ETH-Dire_Dawa-ADM3</td>\n",
       "      <td>ETH</td>\n",
       "      <td>ADM3</td>\n",
       "    </tr>\n",
       "    <tr>\n",
       "      <th>7</th>\n",
       "      <td>Nairobi</td>\n",
       "      <td>KEN-Nairobi</td>\n",
       "      <td>ADM3union</td>\n",
       "      <td>ADM3</td>\n",
       "      <td>KEN-Nairobi-ADM3</td>\n",
       "      <td>KEN</td>\n",
       "      <td>ADM3</td>\n",
       "    </tr>\n",
       "    <tr>\n",
       "      <th>8</th>\n",
       "      <td>Antananarivo</td>\n",
       "      <td>MDG-Antananarivo</td>\n",
       "      <td>ADM4union</td>\n",
       "      <td>ADM4</td>\n",
       "      <td>MDG-Antananarivo-ADM4</td>\n",
       "      <td>MDG</td>\n",
       "      <td>ADM4</td>\n",
       "    </tr>\n",
       "    <tr>\n",
       "      <th>9</th>\n",
       "      <td>Mexico_City</td>\n",
       "      <td>MEX-Mexico_City</td>\n",
       "      <td>ADM2union</td>\n",
       "      <td>ADM2</td>\n",
       "      <td>MEX-Mexico_City-ADM2</td>\n",
       "      <td>MEX</td>\n",
       "      <td>ADM2</td>\n",
       "    </tr>\n",
       "    <tr>\n",
       "      <th>10</th>\n",
       "      <td>Monterrey</td>\n",
       "      <td>MEX-Monterrey</td>\n",
       "      <td>ADM2union</td>\n",
       "      <td>ADM2</td>\n",
       "      <td>MEX-Monterrey-ADM2</td>\n",
       "      <td>MEX</td>\n",
       "      <td>ADM2</td>\n",
       "    </tr>\n",
       "  </tbody>\n",
       "</table>\n",
       "</div>"
      ],
      "text/plain": [
       "       city_name          geo_name aoi_boundary_name units_boundary_name  \\\n",
       "0       Salvador      BRA-Salvador         ADM4union                ADM4   \n",
       "1         Bukavu        COD-Bukavu         ADM3union                ADM3   \n",
       "2          Uvira         COD-Uvira         ADM3union                ADM3   \n",
       "3    Brazzaville   COG-Brazzaville         ADM4union                ADM4   \n",
       "4   Barranquilla  COL-Barranquilla         ADM4union                ADM4   \n",
       "5    Addis_Ababa   ETH-Addis_Ababa         ADM4union                ADM4   \n",
       "6      Dire_Dawa     ETH-Dire_Dawa         ADM3union                ADM3   \n",
       "7        Nairobi       KEN-Nairobi         ADM3union                ADM3   \n",
       "8   Antananarivo  MDG-Antananarivo         ADM4union                ADM4   \n",
       "9    Mexico_City   MEX-Mexico_City         ADM2union                ADM2   \n",
       "10     Monterrey     MEX-Monterrey         ADM2union                ADM2   \n",
       "\n",
       "       city_boundary_name country_code geo_level  \n",
       "0       BRA-Salvador-ADM4          BRA      ADM4  \n",
       "1         COD-Bukavu-ADM2          COD      ADM2  \n",
       "2          COD-Uvira-ADM3          COD      ADM3  \n",
       "3    COG-Brazzaville-ADM4          COG      ADM4  \n",
       "4   COL-Barranquilla-ADM4          COL      ADM4  \n",
       "5    ETH-Addis_Ababa-ADM4          ETH      ADM4  \n",
       "6      ETH-Dire_Dawa-ADM3          ETH      ADM3  \n",
       "7        KEN-Nairobi-ADM3          KEN      ADM3  \n",
       "8   MDG-Antananarivo-ADM4          MDG      ADM4  \n",
       "9    MEX-Mexico_City-ADM2          MEX      ADM2  \n",
       "10     MEX-Monterrey-ADM2          MEX      ADM2  "
      ]
     },
     "execution_count": 10,
     "metadata": {},
     "output_type": "execute_result"
    }
   ],
   "source": [
    "# get list of cities\n",
    "boundary_georef = pd.read_csv('https://cities-cities4forests.s3.eu-west-3.amazonaws.com/data/boundaries/v_0/geo_ref.csv')\n",
    "boundary_georef"
   ]
  },
  {
   "cell_type": "markdown",
   "id": "9071a191-dab3-476a-b2ff-e2e2f91f72b3",
   "metadata": {},
   "source": [
    "# Extract OSM by city"
   ]
  },
  {
   "cell_type": "code",
   "execution_count": 9,
   "id": "324911c6-8ee9-4155-8be1-4f1c7201bc9d",
   "metadata": {},
   "outputs": [
    {
     "name": "stdout",
     "output_type": "stream",
     "text": [
      "0\n",
      "BRA-Salvador-ADM4union\n",
      "{'geodesic': False, 'type': 'Polygon', 'coordinates': [[[-38.6479090706965, -13.018044596390993], [-38.303629621586396, -13.018044596390993], [-38.303629621586396, -12.755388555364869], [-38.6479090706965, -12.755388555364869], [-38.6479090706965, -13.018044596390993]]]}\n"
     ]
    },
    {
     "name": "stderr",
     "output_type": "stream",
     "text": [
      "/srv/conda/envs/notebook/lib/python3.8/site-packages/osmnx/geometries.py:805: ShapelyDeprecationWarning: __len__ for multi-part geometries is deprecated and will be removed in Shapely 2.0. Check the length of the `geoms` property instead to get the  number of parts of a multi-part geometry.\n",
      "  for merged_outer_linestring in list(merged_outer_linestrings):\n",
      "/srv/conda/envs/notebook/lib/python3.8/site-packages/osmnx/geometries.py:805: ShapelyDeprecationWarning: Iteration over multi-part geometries is deprecated and will be removed in Shapely 2.0. Use the `geoms` property to access the constituent parts of a multi-part geometry.\n",
      "  for merged_outer_linestring in list(merged_outer_linestrings):\n"
     ]
    },
    {
     "name": "stdout",
     "output_type": "stream",
     "text": [
      "ExportingBRA-Salvador-ADM4union-OSM-OpenSpace\n",
      "1\n",
      "COD-Bukavu-ADM3union\n",
      "{'geodesic': False, 'type': 'Polygon', 'coordinates': [[[28.792793548602692, -2.5620678433716595], [28.893998020672637, -2.5620678433716595], [28.893998020672637, -2.4592572502108943], [28.792793548602692, -2.4592572502108943], [28.792793548602692, -2.5620678433716595]]]}\n",
      "ExportingCOD-Bukavu-ADM3union-OSM-OpenSpace\n",
      "2\n",
      "COD-Uvira-ADM3union\n",
      "{'geodesic': False, 'type': 'Polygon', 'coordinates': [[[28.82714294281798, -3.659985483396138], [29.235821625356785, -3.659985483396138], [29.235821625356785, -3.2694187180170435], [28.82714294281798, -3.2694187180170435], [28.82714294281798, -3.659985483396138]]]}\n",
      "ExportingCOD-Uvira-ADM3union-OSM-OpenSpace\n",
      "3\n",
      "COG-Brazzaville-ADM4union\n",
      "{'geodesic': False, 'type': 'Polygon', 'coordinates': [[[15.144029707041506, -4.376178909213759], [15.321870372221882, -4.376178909213759], [15.321870372221882, -4.075183005612928], [15.144029707041506, -4.075183005612928], [15.144029707041506, -4.376178909213759]]]}\n",
      "ExportingCOG-Brazzaville-ADM4union-OSM-OpenSpace\n",
      "4\n",
      "COL-Barranquilla-ADM4union\n",
      "{'geodesic': False, 'type': 'Polygon', 'coordinates': [[[-74.90627342105579, 10.919515683038517], [-74.75759279118958, 10.919515683038517], [-74.75759279118958, 11.107702533163621], [-74.90627342105579, 11.107702533163621], [-74.90627342105579, 10.919515683038517]]]}\n"
     ]
    },
    {
     "name": "stderr",
     "output_type": "stream",
     "text": [
      "/srv/conda/envs/notebook/lib/python3.8/site-packages/osmnx/geometries.py:805: ShapelyDeprecationWarning: __len__ for multi-part geometries is deprecated and will be removed in Shapely 2.0. Check the length of the `geoms` property instead to get the  number of parts of a multi-part geometry.\n",
      "  for merged_outer_linestring in list(merged_outer_linestrings):\n",
      "/srv/conda/envs/notebook/lib/python3.8/site-packages/osmnx/geometries.py:805: ShapelyDeprecationWarning: Iteration over multi-part geometries is deprecated and will be removed in Shapely 2.0. Use the `geoms` property to access the constituent parts of a multi-part geometry.\n",
      "  for merged_outer_linestring in list(merged_outer_linestrings):\n"
     ]
    },
    {
     "name": "stdout",
     "output_type": "stream",
     "text": [
      "ExportingCOL-Barranquilla-ADM4union-OSM-OpenSpace\n",
      "5\n",
      "ETH-Addis_Ababa-ADM4union\n",
      "{'geodesic': False, 'type': 'Polygon', 'coordinates': [[[38.63788144391243, 8.832375833352112], [38.907203886081845, 8.832375833352112], [38.907203886081845, 9.100240868864804], [38.63788144391243, 9.100240868864804], [38.63788144391243, 8.832375833352112]]]}\n",
      "ExportingETH-Addis_Ababa-ADM4union-OSM-OpenSpace\n",
      "6\n",
      "ETH-Dire_Dawa-ADM3union\n",
      "{'geodesic': False, 'type': 'Polygon', 'coordinates': [[[41.63224928538966, 9.444486174080263], [42.42288500867382, 9.444486174080263], [42.42288500867382, 9.842502079164673], [41.63224928538966, 9.842502079164673], [41.63224928538966, 9.444486174080263]]]}\n",
      "ExportingETH-Dire_Dawa-ADM3union-OSM-OpenSpace\n",
      "7\n",
      "KEN-Nairobi-ADM3union\n",
      "{'geodesic': False, 'type': 'Polygon', 'coordinates': [[[36.66356432482584, -1.4465086196452817], [37.10587899739047, -1.4465086196452817], [37.10587899739047, -1.1596843456754946], [36.66356432482584, -1.1596843456754946], [36.66356432482584, -1.4465086196452817]]]}\n",
      "ExportingKEN-Nairobi-ADM3union-OSM-OpenSpace\n",
      "8\n",
      "MDG-Antananarivo-ADM4union\n",
      "{'geodesic': False, 'type': 'Polygon', 'coordinates': [[[47.46514255042003, -18.957519310824967], [47.57803433700614, -18.957519310824967], [47.57803433700614, -18.837563258849304], [47.46514255042003, -18.837563258849304], [47.46514255042003, -18.957519310824967]]]}\n",
      "ExportingMDG-Antananarivo-ADM4union-OSM-OpenSpace\n",
      "9\n",
      "MEX-Mexico_City-ADM2union\n",
      "{'geodesic': False, 'type': 'Polygon', 'coordinates': [[[-99.65084303917575, 18.934440013120682], [-98.59591205234146, 18.934440013120682], [-98.59591205234146, 20.06915961817526], [-99.65084303917575, 20.06915961817526], [-99.65084303917575, 18.934440013120682]]]}\n"
     ]
    },
    {
     "name": "stderr",
     "output_type": "stream",
     "text": [
      "/srv/conda/envs/notebook/lib/python3.8/site-packages/osmnx/geometries.py:805: ShapelyDeprecationWarning: __len__ for multi-part geometries is deprecated and will be removed in Shapely 2.0. Check the length of the `geoms` property instead to get the  number of parts of a multi-part geometry.\n",
      "  for merged_outer_linestring in list(merged_outer_linestrings):\n",
      "/srv/conda/envs/notebook/lib/python3.8/site-packages/osmnx/geometries.py:805: ShapelyDeprecationWarning: Iteration over multi-part geometries is deprecated and will be removed in Shapely 2.0. Use the `geoms` property to access the constituent parts of a multi-part geometry.\n",
      "  for merged_outer_linestring in list(merged_outer_linestrings):\n"
     ]
    },
    {
     "name": "stdout",
     "output_type": "stream",
     "text": [
      "ExportingMEX-Mexico_City-ADM2union-OSM-OpenSpace\n",
      "10\n",
      "MEX-Monterrey-ADM2union\n",
      "{'geodesic': False, 'type': 'Polygon', 'coordinates': [[[-100.86290013026063, 25.222887827281006], [-99.68520109085905, 25.222887827281006], [-99.68520109085905, 26.396066640281617], [-100.86290013026063, 26.396066640281617], [-100.86290013026063, 25.222887827281006]]]}\n"
     ]
    },
    {
     "name": "stderr",
     "output_type": "stream",
     "text": [
      "/srv/conda/envs/notebook/lib/python3.8/site-packages/osmnx/geometries.py:805: ShapelyDeprecationWarning: __len__ for multi-part geometries is deprecated and will be removed in Shapely 2.0. Check the length of the `geoms` property instead to get the  number of parts of a multi-part geometry.\n",
      "  for merged_outer_linestring in list(merged_outer_linestrings):\n",
      "/srv/conda/envs/notebook/lib/python3.8/site-packages/osmnx/geometries.py:805: ShapelyDeprecationWarning: Iteration over multi-part geometries is deprecated and will be removed in Shapely 2.0. Use the `geoms` property to access the constituent parts of a multi-part geometry.\n",
      "  for merged_outer_linestring in list(merged_outer_linestrings):\n"
     ]
    },
    {
     "name": "stdout",
     "output_type": "stream",
     "text": [
      "ExportingMEX-Monterrey-ADM2union-OSM-OpenSpace\n"
     ]
    }
   ],
   "source": [
    "for i in range(0,len(boundary_georef)):\n",
    "    print(i)\n",
    "    boundary_id = boundary_georef.loc[i, 'geo_name'] + '-' + boundary_georef.loc[i, 'aoi_boundary_name']\n",
    "    print(boundary_id)\n",
    "    \n",
    "    # read boundaries\n",
    "    boundary_path = 'https://cities-cities4forests.s3.eu-west-3.amazonaws.com/data/boundaries/v_0/boundary-'+boundary_id+'.geojson'\n",
    "    boundary_geo = requests.get(boundary_path).json()\n",
    "    boundary_geo_ee = geemap.geojson_to_ee(boundary_geo)\n",
    "    \n",
    "    #query OSM\n",
    "    ## create bounding box\n",
    "    bb = boundary_geo_ee.union(1).geometry().buffer(100).bounds(1000)\n",
    "    print(bb.getInfo())\n",
    "    ## return the list of coordinates\n",
    "    listCoords = ee.Array.cat(bb.coordinates(), 1); \n",
    "    ##Casting it to an array makes it possible to slice out the x and y coordinates:\n",
    "    ##get the X-coordinates\n",
    "    xCoords = listCoords.slice(1, 0, 1); #print('xCoords', xCoords.getInfo());\n",
    "    yCoords = listCoords.slice(1, 1, 2); #print('yCoords', yCoords.getInfo());\n",
    "    ## Reducing each array reveals then the min and max values:\n",
    "    ## reduce the arrays to find the max (or min) value\n",
    "    West = ee.Number(xCoords.reduce('min', [0]).get([0,0])).getInfo(); \n",
    "    East = ee.Number(xCoords.reduce('max', [0]).get([0,0])).getInfo(); \n",
    "    North = ee.Number(yCoords.reduce('min', [0]).get([0,0])).getInfo(); \n",
    "    South = ee.Number(yCoords.reduce('max', [0]).get([0,0])).getInfo(); \n",
    "    \n",
    "    ## set OSM tags relevant to open space category\n",
    "    tags = {'leisure':['park','nature_reserve','common','playground','pitch','track'],'boundary':['protected_area','national_park']} #{'leisure':['park','nature_reserve','common','playground','pitch','track'],'boundary':['protected_area','national_park']} #}\n",
    "\n",
    "    # use bounding box to get geodataframe of all OSM data on recreation sites/parks. Use .drop to remove properties that have incompatible names with FeatureCollections\n",
    "    RecSites = geemap.osm_gdf_from_bbox(North, South, East, West, tags)#.drop(columns=['contact:p.o.box']) # use to remove properties that have incompatible names with FeatureCollections\n",
    "    RecSites = RecSites.reset_index()\n",
    "    #RecSites.sort_index()#.sample(3)\n",
    "    #RecSites.sort_values(by=['osmid'],axis='index')\n",
    "    \n",
    "    ## keep only columns desired to reduce file size \n",
    "    RecSites = RecSites[RecSites['element_type']!= 'node']\n",
    "    RecSites = RecSites[RecSites.geom_type != 'LineString']\n",
    "    RecSites = RecSites.loc[:, ['osmid','geometry']] #['element_type','osmid','leisure','boundary','name','geometry']\n",
    "    #RecSites#.sample(3)\n",
    "    \n",
    "    # convert Geodataframe to GeoJson\n",
    "    RecSitesGJ = geemap.gdf_to_geojson(RecSites)\n",
    "    \n",
    "    # convert GeoJson to ee.FeatureCollection\n",
    "    RecSitesFC = geemap.geojson_to_ee(RecSitesGJ)#.filter(ee.Filter.eq('element_type','way')).select(['osmid','element_type','geometry','leisure','boundary'])\n",
    "    \n",
    "    # Download FeatureCollection of OSM data (ways/polygons only) to Google Drive as geojson\n",
    "    # Set configuration parameters for output vector\n",
    "    task_config = {\n",
    "        'folder': 'data',  # output Google Drive folder\n",
    "        'fileFormat': 'Geojson',\n",
    "        'description': boundary_id + '-OSM-OpenSpace',\n",
    "        #'selectors': col_names,  # a list of properties/attributes to be exported\n",
    "    }\n",
    "\n",
    "    print('Exporting ' +boundary_id+ '-OSM-OpenSpace')\n",
    "    task = ee.batch.Export.table.toDrive(RecSitesFC, **task_config)\n",
    "    task.start()"
   ]
  },
  {
   "cell_type": "code",
   "execution_count": null,
   "id": "1c5f0a2e-8d5a-4b85-96f1-f0b2083c3bb6",
   "metadata": {},
   "outputs": [],
   "source": []
  },
  {
   "cell_type": "markdown",
   "id": "4d86f46e-4fad-44c7-b191-43e8d0ae6fb4",
   "metadata": {},
   "source": [
    "# Upload in aws\n",
    "\n",
    "Since we can't download directly the rasters locally due to their size, the rasters are stored in a google-drive folder and then downloaded locally in order to push them back to s3 bucket."
   ]
  },
  {
   "cell_type": "code",
   "execution_count": 11,
   "id": "80a8a6d1-47d1-428d-9386-18ec1dcb3c12",
   "metadata": {},
   "outputs": [],
   "source": [
    "# connect to s3\n",
    "aws_credentials = pd.read_csv('/home/jovyan/PlanetaryComputerExamples/aws_credentials.csv')\n",
    "aws_key = aws_credentials.iloc[0]['Access key ID']\n",
    "aws_secret = aws_credentials.iloc[0]['Secret access key']\n",
    "\n",
    "s3 = boto3.resource(\n",
    "    service_name='s3',\n",
    "    aws_access_key_id=aws_key,\n",
    "    aws_secret_access_key=aws_secret\n",
    ")\n",
    "\n",
    "# specify bucket name\n",
    "bucket_name = 'cities-cities4forests' "
   ]
  },
  {
   "cell_type": "code",
   "execution_count": 12,
   "id": "81e5ec65-c926-4913-9912-056e371c83f5",
   "metadata": {},
   "outputs": [],
   "source": [
    "out_dir = os.getcwd()"
   ]
  },
  {
   "cell_type": "code",
   "execution_count": 14,
   "id": "242653b9-d2bc-4918-bc8d-16f6a7f4e72f",
   "metadata": {},
   "outputs": [
    {
     "name": "stdout",
     "output_type": "stream",
     "text": [
      "\n",
      " boundary_id: BRA-Salvador-ADM4union\n",
      "\n",
      " boundary_id: COD-Bukavu-ADM3union\n",
      "\n",
      " boundary_id: COD-Uvira-ADM3union\n",
      "\n",
      " boundary_id: COG-Brazzaville-ADM4union\n",
      "\n",
      " boundary_id: COL-Barranquilla-ADM4union\n",
      "\n",
      " boundary_id: ETH-Addis_Ababa-ADM4union\n",
      "\n",
      " boundary_id: ETH-Dire_Dawa-ADM3union\n",
      "\n",
      " boundary_id: KEN-Nairobi-ADM3union\n",
      "\n",
      " boundary_id: MDG-Antananarivo-ADM4union\n",
      "\n",
      " boundary_id: MEX-Mexico_City-ADM2union\n",
      "\n",
      " boundary_id: MEX-Monterrey-ADM2union\n"
     ]
    }
   ],
   "source": [
    "for i in range(0, len(boundary_georef)):\n",
    "    boundary_id = boundary_georef.loc[i, 'geo_name']+'-'+boundary_georef.loc[i, 'aoi_boundary_name']\n",
    "    geo_name = boundary_georef.loc[i, 'geo_name']\n",
    "    print(\"\\n boundary_id: \"+boundary_id)\n",
    "\n",
    "    # read local raster\n",
    "    city_file = 'data/' + boundary_id +'-OSM-OpenSpace.geojson'\n",
    "    raster_path = os.path.join(out_dir, city_file)\n",
    "    \n",
    "    # upload in s3\n",
    "    s3.meta.client.upload_file(raster_path, \n",
    "                               bucket_name, \n",
    "                               'data/open_space/openstreetmap/v_0/'+ boundary_id + '-OSM-open_space-2022.geojson',\n",
    "                               ExtraArgs={'ACL':'public-read'})"
   ]
  },
  {
   "cell_type": "markdown",
   "id": "65055696-91a4-45b6-953d-33770c1e87dd",
   "metadata": {},
   "source": [
    "# Visualize"
   ]
  },
  {
   "cell_type": "code",
   "execution_count": 5,
   "id": "a674270a-e4e3-41c1-a630-9cfec22f09fb",
   "metadata": {},
   "outputs": [
    {
     "data": {
      "application/vnd.jupyter.widget-view+json": {
       "model_id": "4c522ec64fa542b3ad257ba8d5940786",
       "version_major": 2,
       "version_minor": 0
      },
      "text/plain": [
       "Map(center=[20, 0], controls=(WidgetControl(options=['position', 'transparent_bg'], widget=HBox(children=(Togg…"
      ]
     },
     "metadata": {},
     "output_type": "display_data"
    }
   ],
   "source": [
    "## create map\n",
    "Map = geemap.Map(height=\"350px\")\n",
    "Map"
   ]
  },
  {
   "cell_type": "code",
   "execution_count": 17,
   "id": "d3c8292d-d060-4325-83b2-83e91e66a7aa",
   "metadata": {},
   "outputs": [
    {
     "name": "stdout",
     "output_type": "stream",
     "text": [
      "MEX-Monterrey-ADM2union\n"
     ]
    }
   ],
   "source": [
    "i = 10\n",
    "boundary_id = boundary_georef.loc[i, 'geo_name'] + '-' + boundary_georef.loc[i, 'aoi_boundary_name']\n",
    "print(boundary_id)"
   ]
  },
  {
   "cell_type": "code",
   "execution_count": 18,
   "id": "53a3be4b-96da-4115-9d31-d87b15d8c565",
   "metadata": {},
   "outputs": [],
   "source": [
    "# read boundaries\n",
    "boundary_path = 'https://cities-cities4forests.s3.eu-west-3.amazonaws.com/data/boundaries/v_0/boundary-'+boundary_id+'.geojson'\n",
    "boundary_geo = requests.get(boundary_path).json()\n",
    "boundary_geo_ee = geemap.geojson_to_ee(boundary_geo)"
   ]
  },
  {
   "cell_type": "code",
   "execution_count": 19,
   "id": "d988bb38-f21c-4c2d-8a69-67eefb061ef0",
   "metadata": {},
   "outputs": [],
   "source": [
    "#read open space\n",
    "openspace_path = 'https://cities-cities4forests.s3.eu-west-3.amazonaws.com/data/open_space/openstreetmap/v_0/'+boundary_id+'-OSM-open_space-2022.geojson'\n",
    "openspace_geo = requests.get(openspace_path).json()\n",
    "openspace_geo_ee = geemap.geojson_to_ee(openspace_geo)"
   ]
  },
  {
   "cell_type": "code",
   "execution_count": 20,
   "id": "3f0dcad4-8a9e-43b7-820a-3e6da4c31bbc",
   "metadata": {},
   "outputs": [],
   "source": [
    "## add basemap and center on area of interest\n",
    "Map.add_basemap('HYBRID')\n",
    "Map.centerObject(boundary_geo_ee, zoom=12)"
   ]
  },
  {
   "cell_type": "code",
   "execution_count": 21,
   "id": "efa859a2-8f4c-4e88-9ed0-6df327af5118",
   "metadata": {},
   "outputs": [],
   "source": [
    "Map.addLayer(boundary_geo_ee, {'color': 'FF0000'}, 'City boundary')"
   ]
  },
  {
   "cell_type": "code",
   "execution_count": 22,
   "id": "7a7fab7a-3b58-4d0f-99ed-bc3522b432cd",
   "metadata": {},
   "outputs": [],
   "source": [
    "Map.addLayer(openspace_geo_ee,  {'color': 'FF00FF'}, 'Open space (OSM)')"
   ]
  },
  {
   "cell_type": "code",
   "execution_count": null,
   "id": "f400f46e-f36d-458f-8fa7-0033eff3d56a",
   "metadata": {},
   "outputs": [],
   "source": []
  }
 ],
 "metadata": {
  "kernelspec": {
   "display_name": "Python 3 (ipykernel)",
   "language": "python",
   "name": "python3"
  },
  "language_info": {
   "codemirror_mode": {
    "name": "ipython",
    "version": 3
   },
   "file_extension": ".py",
   "mimetype": "text/x-python",
   "name": "python",
   "nbconvert_exporter": "python",
   "pygments_lexer": "ipython3",
   "version": "3.10.5"
  }
 },
 "nbformat": 4,
 "nbformat_minor": 5
}
