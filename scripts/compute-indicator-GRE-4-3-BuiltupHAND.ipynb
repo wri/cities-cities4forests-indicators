{
 "cells": [
  {
   "cell_type": "code",
   "execution_count": null,
   "id": "910a66a1-a3b7-4aee-98ab-2b826a1b6e3b",
   "metadata": {},
   "outputs": [],
   "source": [
    "# import sys\n",
    "# !{sys.executable} -m pip install pip earthengine-api --no-cache-dir\n",
    "# !{sys.executable} -m pip install pip geemap --no-cache-dir\n",
    "# !{sys.executable} -m pip install pip rasterstats --no-cache-dir\n",
    "\n",
    "# !{sys.executable} -m jupyter nbextension install --py --symlink --sys-prefix ipyleaflet\n",
    "# !{sys.executable} -m jupyter nbextension enable --py --sys-prefix ipyleaflet\n",
    "# !{sys.executable} -m jupyter nbextension list\n",
    "\n",
    "# !{sys.executable} -m pip install pip ipyleaflet==0.13.6\n",
    "# !{sys.executable} -m pip install pip -U geemap \n",
    "# !{sys.executable} -m conda install geemap -c conda-forge"
   ]
  },
  {
   "cell_type": "code",
   "execution_count": null,
   "id": "dd9f259e-62a6-4b7e-b879-8628b18a8741",
   "metadata": {},
   "outputs": [],
   "source": [
    "import ee\n",
    "# ee.Authenticate()"
   ]
  },
  {
   "cell_type": "code",
   "execution_count": null,
   "id": "73901903-5245-4507-950b-3a78b2e820b8",
   "metadata": {},
   "outputs": [],
   "source": [
    "ee.Initialize()"
   ]
  },
  {
   "cell_type": "code",
   "execution_count": null,
   "id": "ff69f1a8-e7fa-40ac-81db-f9a67f1e82c6",
   "metadata": {},
   "outputs": [],
   "source": [
    "import numpy as np\n",
    "import requests\n",
    "import os\n",
    "import pandas as pd\n",
    "import rasterio\n",
    "import boto3\n",
    "import geopandas as gpd\n",
    "import io\n",
    "# from rasterstats import zonal_stats\n",
    "import fiona\n",
    "import rasterio.mask\n",
    "import geemap.foliumap as geemap\n",
    "import glob\n",
    "import ipyleaflet"
   ]
  },
  {
   "cell_type": "code",
   "execution_count": null,
   "id": "e9de7d4d-ed34-493b-8573-ab00825ca668",
   "metadata": {},
   "outputs": [],
   "source": [
    "# hide warnings\n",
    "import warnings\n",
    "warnings.filterwarnings('ignore')"
   ]
  },
  {
   "cell_type": "markdown",
   "id": "11ea530a-3c18-423a-a28a-de82cfa137ff",
   "metadata": {},
   "source": [
    "# Read input data"
   ]
  },
  {
   "cell_type": "code",
   "execution_count": null,
   "id": "330baf82-21ca-423c-803a-37782d5d7357",
   "metadata": {},
   "outputs": [],
   "source": [
    "# define directory\n",
    "out_dir = os.getcwd()\n",
    "aws_s3_dir = \"https://cities-cities4forests.s3.eu-west-3.amazonaws.com/data\""
   ]
  },
  {
   "cell_type": "code",
   "execution_count": null,
   "id": "1d2e795f-3c1e-49ea-9b31-428a9c51b617",
   "metadata": {},
   "outputs": [],
   "source": [
    "## create map\n",
    "Map = geemap.Map(height=\"350px\")\n",
    "Map.addLayerControl()\n",
    "#Map.set_options('HYBRID');\n",
    "# Map"
   ]
  },
  {
   "cell_type": "code",
   "execution_count": null,
   "id": "0f66600a-4238-4bb0-a3f8-70195746ffd1",
   "metadata": {},
   "outputs": [],
   "source": [
    "# read esa land cover\n",
    "esa_land_cover = ee.ImageCollection('ESA/WorldCover/v100').first()\n",
    "esaScale = esa_land_cover.projection().nominalScale()\n",
    "builtup = esa_land_cover.eq(50)\n",
    "Map.addLayer(builtup,{})\n"
   ]
  },
  {
   "cell_type": "code",
   "execution_count": null,
   "id": "4a271eba-1235-477e-869a-b1202bac8027",
   "metadata": {},
   "outputs": [],
   "source": [
    "# read height above nearest drainage\n",
    "hand30_100 = ee.ImageCollection('users/gena/global-hand/hand-100')\n",
    "hand30_1000 = ee.Image('users/gena/GlobalHAND/30m/hand-1000')\n",
    "hand30_5000 = ee.Image('users/gena/GlobalHAND/30m/hand-5000')\n",
    "\n",
    "# smoothen HAND a bit, scale varies a little in the tiles\n",
    "#hand = hand30_100.mosaic().focal_mean(0.1) \n",
    "hand = hand30_1000.focal_mean(0.1) \n",
    "\n",
    "\n",
    "swbd = ee.Image('MODIS/MOD44W/MOD44W_005_2000_02_24').select('water_mask')\n",
    "swbdMask = swbd.unmask().Not().focal_median(1)##.focal_max(5); ## .add(0.2);\n",
    "\n",
    "HAND = hand.focal_max(1).focal_mode(2, 'circle', 'pixels', 5).mask(swbdMask)\n",
    "Map.addLayer(HAND, {min:0,max:30}, 'HAND');\n",
    "\n",
    "HANDbuiltup = HAND.updateMask(builtup)\n",
    "\n",
    "thresh = 1\n",
    "threshStr = str(thresh)\n",
    "FlowAccu = hand # hand30_100, hand30_1000, hand30_5000\n",
    "FA = 1000 # 100, 1000, 5000\n",
    "FAstr = str(FA)\n",
    "HANDthresh = FlowAccu.lte(thresh).focal_max(1).focal_mode(2, 'circle', 'pixels', 5).mask(swbdMask)\n",
    "HANDthresh = HANDthresh.mask(HANDthresh)\n",
    "HANDthreshBuiltup = HANDthresh.updateMask(builtup)\n",
    "\n",
    "Map.addLayer(HANDthresh, {'palette':['0020ff'], 'opacity':0.8}, 'water (HAND < '+threshStr+'m, FA'+FAstr+')', False);"
   ]
  },
  {
   "cell_type": "code",
   "execution_count": null,
   "id": "d1fa5ee9-8643-433d-9275-0fbc3ba0230b",
   "metadata": {},
   "outputs": [],
   "source": [
    "# get list of c4f cities\n",
    "boundary_georef = pd.read_csv('https://cities-cities4forests.s3.eu-west-3.amazonaws.com/data/boundaries/v_0/boundary_georef.csv')\n",
    "boundary_georef"
   ]
  },
  {
   "cell_type": "markdown",
   "id": "88e1c571-5f1e-4a24-8dd7-9222ffe1097a",
   "metadata": {
    "tags": []
   },
   "source": [
    "# Compute indicator"
   ]
  },
  {
   "cell_type": "code",
   "execution_count": null,
   "id": "2155f1c4-4efe-4b67-916f-29090041d975",
   "metadata": {},
   "outputs": [],
   "source": [
    "this_indicator = pd.DataFrame() "
   ]
  },
  {
   "cell_type": "code",
   "execution_count": null,
   "id": "7fae78ea-64bd-43d4-bc2b-d4b259386f89",
   "metadata": {},
   "outputs": [],
   "source": [
    "# define calcuation function to get pixel counts, convert to percents and append to data frame\n",
    "def CountCalcs(FC,DF):\n",
    "    # reduce images to get flood and built-up pixel counts\n",
    "    pixelcounts = HANDbuiltup.reduceRegions(FC,ee.Reducer.mean().setOutputs(['HANDmInBuilt_mean']),esaScale)\n",
    "    pixelcounts = HANDthreshBuiltup.reduceRegions(pixelcounts,ee.Reducer.count().setOutputs(['HAND<='+threshStr+'mBuiltPixels']),esaScale)\n",
    "    pixelcounts = builtup.reduceRegions(pixelcounts,ee.Reducer.count().setOutputs(['BuiltPixels']),esaScale)\n",
    "\n",
    "    # convert pixel counts to area percentages and saves to FC as property\n",
    "    def toPct(feat):\n",
    "        pct = (feat.getNumber('HAND<='+threshStr+'mBuiltPixels').divide(feat.getNumber('BuiltPixels')))#.multiply(100)\n",
    "        mean = feat.getNumber('HANDmInBuilt_mean')\n",
    "        return feat.set({\n",
    "            'PctBuiltwithin'+threshStr+'MofDrainage': pct,\n",
    "            'MeanHANDinMetersofBuiltup': mean\n",
    "      })\n",
    "\n",
    "    pixelcounts = pixelcounts.map(toPct).select(['geo_id','PctBuiltwithin'+threshStr+'MofDrainage','MeanHANDinMetersofBuiltup'])\n",
    "\n",
    "    # store in df and apend\n",
    "    df = geemap.ee_to_pandas(pixelcounts)\n",
    "    df = df.rename(columns={'PctBuiltwithin'+threshStr+'MofDrainage': 'GRE_4_3_percentBuiltupWithin'+threshStr+'mAboveDrainage'})\n",
    "    DF = DF.append(df)\n",
    "    return DF"
   ]
  },
  {
   "cell_type": "code",
   "execution_count": null,
   "id": "b19a7e21-e324-45ec-bd84-51e0a682eaf2",
   "metadata": {},
   "outputs": [],
   "source": [
    "for i in range(0,len(boundary_georef)):\n",
    "    print(i)\n",
    "    geo_name = boundary_georef.loc[i, 'geo_name']\n",
    "    print(\"\\n geo_name: \"+geo_name)\n",
    "    \n",
    "    boundary_id_aoi = boundary_georef.loc[i, 'geo_name']+'-'+boundary_georef.loc[i, 'aoi_boundary_name']\n",
    "    boundary_id_unit = boundary_georef.loc[i, 'geo_name']+'-'+boundary_georef.loc[i, 'units_boundary_name']\n",
    "        \n",
    "    # process aoi level ------\n",
    "    print(\"\\n boundary_id_aoi: \"+boundary_id_aoi)\n",
    "    # read boundaries\n",
    "    boundary_path = aws_s3_dir +'/boundaries/v_0/boundary-'+boundary_id_aoi+'.geojson'\n",
    "    boundary_geo = requests.get(boundary_path).json()\n",
    "    boundary_geo_ee = geemap.geojson_to_ee(boundary_geo)\n",
    "    this_indicator = CountCalcs(boundary_geo_ee,this_indicator)\n",
    "    \n",
    "    # process unit of analysis level ------\n",
    "    print(\"\\n boundary_id_unit: \"+boundary_id_unit)\n",
    "    # read boundaries\n",
    "    boundary_path = aws_s3_dir +'/boundaries/v_0/boundary-'+boundary_id_unit+'.geojson'\n",
    "    boundary_geo = requests.get(boundary_path).json()\n",
    "    boundary_geo_ee = geemap.geojson_to_ee(boundary_geo)\n",
    "    this_indicator = CountCalcs(boundary_geo_ee,this_indicator)\n"
   ]
  },
  {
   "cell_type": "code",
   "execution_count": null,
   "id": "dc8ba28c-f0f3-4a53-8243-cb35476f4d3d",
   "metadata": {},
   "outputs": [],
   "source": [
    "this_indicator"
   ]
  },
  {
   "cell_type": "markdown",
   "id": "8d5abd9b-097c-4676-a500-ecd45ad77374",
   "metadata": {},
   "source": [
    "# Merge with indicator table"
   ]
  },
  {
   "cell_type": "code",
   "execution_count": null,
   "id": "731fba45-59b3-44fe-94a9-3520763dffed",
   "metadata": {},
   "outputs": [],
   "source": [
    "# read indicator table\n",
    "cities_indicators = pd.read_csv(aws_s3_dir + '/indicators/cities_indicators_v2test.csv') \n",
    "cities_indicators#.head()"
   ]
  },
  {
   "cell_type": "code",
   "execution_count": null,
   "id": "978df631-317b-4c42-8c8a-d8ee108e1715",
   "metadata": {},
   "outputs": [],
   "source": [
    "def merge_indicators(indicator_table, new_indicator_table, indicator_name):\n",
    "    if indicator_name in indicator_table.columns:\n",
    "        print(\"replace with new calculations\")\n",
    "        indicator_table.drop(indicator_name, inplace=True, axis=1)\n",
    "        new_indicator_table = new_indicator_table.drop_duplicates()\n",
    "        cities_indicators_df = indicator_table.merge(new_indicator_table[[\"geo_id\",indicator_name]], \n",
    "                                                     on='geo_id', \n",
    "                                                     how='left',\n",
    "                                                     validate='one_to_many')\n",
    "    else:\n",
    "        print(\"add new indicator\")\n",
    "        new_indicator_table = new_indicator_table.drop_duplicates()\n",
    "        cities_indicators_df = indicator_table.merge(new_indicator_table[[\"geo_id\",indicator_name]], \n",
    "                                                     on='geo_id', \n",
    "                                                     how='left',\n",
    "                                                     validate='one_to_many')\n",
    "    return(cities_indicators_df)"
   ]
  },
  {
   "cell_type": "code",
   "execution_count": null,
   "id": "ffa73a3a-ea72-42ab-81ed-589b95ef33ab",
   "metadata": {},
   "outputs": [],
   "source": [
    "cities_indicators_merged = merge_indicators(indicator_table = cities_indicators,\n",
    "                                            new_indicator_table = this_indicator,\n",
    "                                            indicator_name = 'GRE_4_3_percentBuiltupWithin'+threshStr+'mAboveDrainage')"
   ]
  },
  {
   "cell_type": "code",
   "execution_count": null,
   "id": "6c10c1e2-9aa9-4d43-a110-8550e4f36e0e",
   "metadata": {},
   "outputs": [],
   "source": [
    "cities_indicators_merged"
   ]
  },
  {
   "cell_type": "markdown",
   "id": "cba258d2-9e13-4fcc-bf22-4aeb3f359405",
   "metadata": {},
   "source": [
    "# Upload in aws s3"
   ]
  },
  {
   "cell_type": "code",
   "execution_count": null,
   "id": "4c059a57-b6a6-4354-b24b-f45102ec8399",
   "metadata": {},
   "outputs": [],
   "source": [
    "# connect to s3\n",
    "aws_credentials = pd.read_csv('/home/jovyan/PlanetaryComputerExamples/aws_credentials.csv')\n",
    "aws_key = aws_credentials.iloc[0]['Access key ID']\n",
    "aws_secret = aws_credentials.iloc[0]['Secret access key']\n",
    "\n",
    "s3 = boto3.resource(\n",
    "    service_name='s3',\n",
    "    aws_access_key_id=aws_key,\n",
    "    aws_secret_access_key=aws_secret\n",
    ")"
   ]
  },
  {
   "cell_type": "code",
   "execution_count": null,
   "id": "1a2235f8-fb77-40f6-91d8-908dca3fd164",
   "metadata": {},
   "outputs": [],
   "source": [
    "# upload to aws\n",
    "key_data = 'data/indicators/cities_indicators_v2test.csv'\n",
    "bucket_name = 'cities-cities4forests' \n",
    "cities_indicators_merged.to_csv(\n",
    "    f\"s3://{bucket_name}/{key_data}\",\n",
    "    index=False,\n",
    "    storage_options={\n",
    "        \"key\": aws_key,\n",
    "        \"secret\": aws_secret\n",
    "    },\n",
    ")"
   ]
  },
  {
   "cell_type": "code",
   "execution_count": null,
   "id": "db9ed391-015d-4778-acc5-37c0c7a04703",
   "metadata": {},
   "outputs": [],
   "source": [
    "# make it public\n",
    "object_acl = s3.ObjectAcl(bucket_name,key_data)\n",
    "response = object_acl.put(ACL='public-read')"
   ]
  },
  {
   "cell_type": "code",
   "execution_count": null,
   "id": "ecf202dd-5adf-44d6-83b2-bcba1e8e3d11",
   "metadata": {},
   "outputs": [],
   "source": []
  }
 ],
 "metadata": {
  "kernelspec": {
   "display_name": "Python 3 (ipykernel)",
   "language": "python",
   "name": "python3"
  },
  "language_info": {
   "codemirror_mode": {
    "name": "ipython",
    "version": 3
   },
   "file_extension": ".py",
   "mimetype": "text/x-python",
   "name": "python",
   "nbconvert_exporter": "python",
   "pygments_lexer": "ipython3",
   "version": "3.10.6"
  }
 },
 "nbformat": 4,
 "nbformat_minor": 5
}
