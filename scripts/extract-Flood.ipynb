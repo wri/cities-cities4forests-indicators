{
 "cells": [
  {
   "cell_type": "code",
   "execution_count": null,
   "id": "30ea11e8-dd5e-4c74-be11-497feb22a025",
   "metadata": {},
   "outputs": [],
   "source": [
    "import sys\n",
    "!{sys.executable} -m pip install pip earthengine-api\n",
    "!{sys.executable} -m pip install pip geemap"
   ]
  },
  {
   "cell_type": "code",
   "execution_count": null,
   "id": "035461fb-746d-4367-b887-f98fb8677eb9",
   "metadata": {},
   "outputs": [],
   "source": [
    "import ee\n",
    "# ee.Authenticate()"
   ]
  },
  {
   "cell_type": "code",
   "execution_count": null,
   "id": "1d44b9e6-310f-45fb-bf42-acf0277df0ab",
   "metadata": {},
   "outputs": [],
   "source": [
    "ee.Initialize()"
   ]
  },
  {
   "cell_type": "code",
   "execution_count": null,
   "id": "d3b9ad94-518d-4e80-8f70-3dcb8909f5e0",
   "metadata": {},
   "outputs": [],
   "source": [
    "import geemap\n",
    "import ipyleaflet\n",
    "import numpy as np\n",
    "import requests\n",
    "import os\n",
    "import pandas as pd\n",
    "import rasterio\n",
    "import boto3\n",
    "import geopandas as gpd\n",
    "import glob"
   ]
  },
  {
   "cell_type": "markdown",
   "id": "c02f5a68-86a7-4a3e-8c59-a3071d2ecc56",
   "metadata": {},
   "source": [
    "# Load data"
   ]
  },
  {
   "cell_type": "code",
   "execution_count": null,
   "id": "741d7a78-844f-44ab-97b0-49b57f018daa",
   "metadata": {},
   "outputs": [],
   "source": [
    "# read Aqueduct Floods data\n",
    "floodImages = ee.ImageCollection(\"projects/WRI-Aquaduct/floods/Y2018M08D16_RH_Floods_Inundation_EE_V01/output_V06/inundation\")\n",
    "def constYear(img):\n",
    "    img = ee.Image(img)  \n",
    "    yearConst = 1980\n",
    "    return ee.Algorithms.If(img.get('year_string'),img.set({'year':yearConst}),img.set({}))\n",
    "\n",
    "floodImages = floodImages.map(constYear,False)\n",
    "\n",
    "  # Shared flooding variables \n",
    "minInnundation = 0\n",
    "    #note that return period 1.5 is only available for certain settings.\n",
    "returnPeriodC = \"rp0100\"; # option [  \"rp0002\",  \"rp0005\",  \"rp0010\",  \"rp0025\", \"rp0050\",  \"rp0100\",  \"rp0250\",  \"rp0500\",  \"rp1000\"]\n",
    "returnPeriodR = \"rp00100\"; # option [  \"rp00002\",  \"rp00005\",  \"rp00010\",  \"rp00025\", \"rp00050\",  \"rp00100\",  \"rp00250\",  \"rp00500\",  \"rp01000\"]\n",
    "returnPeriodCstr = str(returnPeriodC)\n",
    "#year = opts.get('year', 2030); # option [1980,2030,2050,2080] files that had year='hist' have a property called year_string since year is a reseverd keyword in earthengine.\n",
    "startYear = 1980 #Options: 1980,2030,2050,2080.  If 1980, may need to remove some filters that are not available as properties in those images. \n",
    "endYear = 2050 #Options: 1980,2030,2050,2080.  If 1980, may need to remove some filters that are not available as properties in those images. \n",
    "startYearStr = str(startYear)\n",
    "endYearStr = str(endYear)\n",
    "climate = \"rcp8p5\"; # options \"historical\",\"rcp4p5\", \"rcp8p5\"\n",
    "  # Coastal flooding variables \n",
    "subsidence = 'nosub'; #options \"nosub\", \"wtsub\"\n",
    "sea_level_rise_scenario = 50; # options 5, 50\n",
    "  # Riverine flooding variables \n",
    "model = '0000GFDL-ESM2M';\n",
    "  \n",
    "Coastal_start = (floodImages.filterMetadata(\"floodtype\",\"equals\",\"inuncoast\")\n",
    "                      .filterMetadata(\"returnperiod\",\"equals\",returnPeriodC)\n",
    "                      .filterMetadata(\"year\",\"equals\",startYear)\n",
    "                      #.filterMetadata(\"climate\",\"equals\",climate)\n",
    "                      #.filterMetadata(\"subsidence\",\"equals\",subsidence)\n",
    "                      #.filterMetadata(\"sea_level_rise_scenario\",\"equals\",sea_level_rise_scenario)\n",
    "                      .first()\n",
    "                      #.unmask(ee.Image.constant(0));\n",
    "                )\n",
    "Coastal_end = (floodImages.filterMetadata(\"floodtype\",\"equals\",\"inuncoast\")\n",
    "                      .filterMetadata(\"returnperiod\",\"equals\",returnPeriodC)\n",
    "                      .filterMetadata(\"year\",\"equals\",endYear)\n",
    "                      .filterMetadata(\"climate\",\"equals\",climate)\n",
    "                      .filterMetadata(\"subsidence\",\"equals\",subsidence)\n",
    "                      .filterMetadata(\"sea_level_rise_scenario\",\"equals\",sea_level_rise_scenario)\n",
    "                      .first()\n",
    "                      #.unmask(ee.Image.constant(0));\n",
    "                  )\n",
    "imageVisParam = {\"opacity\":1,\"bands\":[\"b1\"],\"max\":2,\"palette\":[\"ffffff\",\"00cfff\",\"0013ff\"]};\n",
    "#Map.addLayer(Coastal_end,imageVisParam,\"Coastal Flooding\",1,0.7)\n",
    "\n",
    "\n",
    "Riverine_start = (floodImages.filterMetadata(\"floodtype\",\"equals\",\"inunriver\")\n",
    "                      .filterMetadata(\"returnperiod\",\"equals\",returnPeriodR)\n",
    "                      .filterMetadata(\"year\",\"equals\",startYear)\n",
    "                      #.filterMetadata(\"climate\",\"equals\",climate)\n",
    "                      #.filterMetadata(\"model\", \"equals\", model)\n",
    "                      .first()\n",
    "                      #.unmask(ee.Image.constant(0));\n",
    "                 )\n",
    "Riverine_end = (floodImages.filterMetadata(\"floodtype\",\"equals\",\"inunriver\")\n",
    "                      .filterMetadata(\"returnperiod\",\"equals\",returnPeriodR)\n",
    "                      .filterMetadata(\"year\",\"equals\",endYear)\n",
    "                      .filterMetadata(\"climate\",\"equals\",climate)\n",
    "                      .filterMetadata(\"model\", \"equals\", model)                      \n",
    "                      .first()\n",
    "                      #.unmask(ee.Image.constant(0));\n",
    "               )\n",
    "imageVisParam = {\"opacity\":1,\"bands\":[\"b1\"],\"max\":2,\"palette\":[\"ffffff\",\"00cfff\",\"0013ff\"]};\n",
    "#Map.addLayer(Riverine_end,imageVisParam,\"Riverine Flooding\",1,0.7);\n",
    "\n",
    "Combflood_start = Coastal_start.max(Riverine_start)\n",
    "Combflood_start = Combflood_start.updateMask(Combflood_start.gt(minInnundation))\n",
    "Combflood_end = Coastal_end.max(Riverine_end)\n",
    "Combflood_end = Combflood_end.updateMask(Combflood_end.gt(minInnundation))\n",
    "Combflood_endScale = Combflood_end.projection().nominalScale()\n",
    "# print(Combflood_end)\n",
    "# Map.addLayer(Combflood_end,imageVisParam,\"Combined Flooding\",1,0.7);\n"
   ]
  },
  {
   "cell_type": "code",
   "execution_count": null,
   "id": "674d6aa0-7144-47a5-80ed-bf4186d84bc7",
   "metadata": {},
   "outputs": [],
   "source": [
    "# get list of c4f cities\n",
    "boundary_georef = pd.read_csv('https://cities-cities4forests.s3.eu-west-3.amazonaws.com/data/boundaries/v_0/boundary_georef.csv')\n",
    "boundary_georef"
   ]
  },
  {
   "cell_type": "markdown",
   "id": "6535d63b-696b-4500-9c15-39f912e1575e",
   "metadata": {},
   "source": [
    "# Extract flood areas by city"
   ]
  },
  {
   "cell_type": "code",
   "execution_count": null,
   "id": "196a4d67-0243-48d1-ae95-aa90ed0cafa3",
   "metadata": {},
   "outputs": [],
   "source": [
    "for i in range(0,1):#len(boundary_georef)):\n",
    "    print(i)\n",
    "    boundary_id = boundary_georef.loc[i, 'geo_name']+'-'+boundary_georef.loc[i, 'aoi_boundary_name']\n",
    "    print(boundary_id)\n",
    "    \n",
    "    # read boundaries\n",
    "    boundary_path = 'https://cities-cities4forests.s3.eu-west-3.amazonaws.com/data/boundaries/v_0/boundary-'+boundary_id+'.geojson'\n",
    "    boundary_geo = requests.get(boundary_path).json()\n",
    "    boundary_geo_ee = geemap.geojson_to_ee(boundary_geo)\n",
    "    \n",
    "    # Download ee.Image of albedo as GeoTIFF to Google Drive \n",
    "    geemap.ee_export_image_to_drive(\n",
    "        Combflood_end.toFloat(), # use toFloat() to reduce file size\n",
    "        description = boundary_id + '-flood-innundation-'+endYearStr+'-'+returnPeriodCstr+'',\n",
    "        folder='data', \n",
    "        scale=Combflood_endScale, \n",
    "        region=boundary_geo_ee.geometry(),\n",
    "        maxPixels = 5000000000\n",
    "    )"
   ]
  },
  {
   "cell_type": "markdown",
   "id": "48219700-c1de-4192-ac46-2455d81664a1",
   "metadata": {},
   "source": [
    "# Upload in aws\n",
    "\n",
    "Since we can't download directly the rasters locally due to their size, the rasters are stored in a google-drive folder and then downloaded locally in order to push them back to s3 bucket."
   ]
  },
  {
   "cell_type": "code",
   "execution_count": null,
   "id": "cb8fac46-b020-4d00-bb3e-9ec76687936d",
   "metadata": {},
   "outputs": [],
   "source": [
    "# connect to s3\n",
    "aws_credentials = pd.read_csv('/home/jovyan/PlanetaryComputerExamples/aws_credentials.csv')\n",
    "aws_key = aws_credentials.iloc[0]['Access key ID']\n",
    "aws_secret = aws_credentials.iloc[0]['Secret access key']\n",
    "\n",
    "s3 = boto3.resource(\n",
    "    service_name='s3',\n",
    "    aws_access_key_id=aws_key,\n",
    "    aws_secret_access_key=aws_secret\n",
    ")\n",
    "\n",
    "# specify bucket name\n",
    "bucket_name = 'cities-cities4forests' "
   ]
  },
  {
   "cell_type": "code",
   "execution_count": null,
   "id": "3ccb5f0d-d71d-4d10-83d1-571e52dc3cd4",
   "metadata": {},
   "outputs": [],
   "source": [
    "out_dir = os.getcwd()"
   ]
  },
  {
   "cell_type": "code",
   "execution_count": null,
   "id": "2ae44f0f-b2ce-4409-898e-cbf62288a7ae",
   "metadata": {},
   "outputs": [],
   "source": [
    "for i in range(0, len(boundary_georef)):\n",
    "    boundary_id = boundary_georef.loc[i, 'geo_name']+'-'+boundary_georef.loc[i, 'aoi_boundary_name']\n",
    "    geo_name = boundary_georef.loc[i, 'geo_name']\n",
    "    print(\"\\n boundary_id: \"+boundary_id)\n",
    "\n",
    "    # read local raster\n",
    "    city_file = 'data/' + boundary_id + '-flood-innundation-'+endYearStr+'-'+returnPeriodCstr+'.tif'\n",
    "    raster_path = os.path.join(out_dir, city_file)\n",
    "    \n",
    "    # upload in s3\n",
    "    s3.meta.client.upload_file(raster_path, \n",
    "                               bucket_name, \n",
    "                               'data/flooding/aqueduct/v_0/' + boundary_id + '-flood-innundation-'+endYearStr+'-'+returnPeriodCstr+'.tif',\n",
    "                               ExtraArgs={'ACL':'public-read'})"
   ]
  },
  {
   "cell_type": "markdown",
   "id": "2f7dcc1b-04eb-4704-8f14-d405a3ecd76c",
   "metadata": {},
   "source": [
    "# Visualize data"
   ]
  },
  {
   "cell_type": "code",
   "execution_count": null,
   "id": "196625f2-a39e-4035-99b2-a1582bd61b16",
   "metadata": {},
   "outputs": [],
   "source": [
    "## create map\n",
    "Map = geemap.Map(height=\"350px\")\n",
    "Map"
   ]
  },
  {
   "cell_type": "code",
   "execution_count": null,
   "id": "93d53861-a215-414f-b686-4a945cb1dd8c",
   "metadata": {},
   "outputs": [],
   "source": [
    "## add basemap and center on area of interest\n",
    "Map.add_basemap('HYBRID')\n",
    "Map.centerObject(boundary_geo_ee, zoom=8)"
   ]
  },
  {
   "cell_type": "code",
   "execution_count": null,
   "id": "dd8ce425-2fe0-4455-a741-1045dc49eb47",
   "metadata": {},
   "outputs": [],
   "source": [
    "Map.addLayer(greenmask),\n",
    "             {'min':0, 'max':0.5, 'palette':['white','#006400']},\n",
    "             'Vegetation cover',True,1)"
   ]
  }
 ],
 "metadata": {
  "kernelspec": {
   "display_name": "Python [conda env:notebook] *",
   "language": "python",
   "name": "conda-env-notebook-py"
  },
  "language_info": {
   "codemirror_mode": {
    "name": "ipython",
    "version": 3
   },
   "file_extension": ".py",
   "mimetype": "text/x-python",
   "name": "python",
   "nbconvert_exporter": "python",
   "pygments_lexer": "ipython3",
   "version": "3.10.6"
  }
 },
 "nbformat": 4,
 "nbformat_minor": 5
}
