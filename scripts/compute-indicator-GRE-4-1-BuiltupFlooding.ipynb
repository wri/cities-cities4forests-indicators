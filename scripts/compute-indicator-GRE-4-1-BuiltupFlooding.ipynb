{
 "cells": [
  {
   "cell_type": "code",
   "execution_count": null,
   "id": "910a66a1-a3b7-4aee-98ab-2b826a1b6e3b",
   "metadata": {},
   "outputs": [],
   "source": [
    "# import sys\n",
    "# !{sys.executable} -m pip install pip earthengine-api\n",
    "# !{sys.executable} -m pip install pip geemap[all]\n",
    "# !{sys.executable} -m pip install pip rasterstats "
   ]
  },
  {
   "cell_type": "code",
   "execution_count": null,
   "id": "dd9f259e-62a6-4b7e-b879-8628b18a8741",
   "metadata": {},
   "outputs": [],
   "source": [
    "import ee\n",
    "# ee.Authenticate()"
   ]
  },
  {
   "cell_type": "code",
   "execution_count": null,
   "id": "73901903-5245-4507-950b-3a78b2e820b8",
   "metadata": {},
   "outputs": [],
   "source": [
    "ee.Initialize()"
   ]
  },
  {
   "cell_type": "code",
   "execution_count": null,
   "id": "ff69f1a8-e7fa-40ac-81db-f9a67f1e82c6",
   "metadata": {},
   "outputs": [],
   "source": [
    "import numpy as np\n",
    "import requests\n",
    "import os\n",
    "import pandas as pd\n",
    "import rasterio\n",
    "import boto3\n",
    "import geopandas as gpd\n",
    "import io\n",
    "# from rasterstats import zonal_stats\n",
    "import fiona\n",
    "import rasterio.mask\n",
    "import geemap\n",
    "import glob\n",
    "import boto3"
   ]
  },
  {
   "cell_type": "code",
   "execution_count": null,
   "id": "e9de7d4d-ed34-493b-8573-ab00825ca668",
   "metadata": {},
   "outputs": [],
   "source": [
    "# hide warnings\n",
    "import warnings\n",
    "warnings.filterwarnings('ignore')"
   ]
  },
  {
   "cell_type": "markdown",
   "id": "11ea530a-3c18-423a-a28a-de82cfa137ff",
   "metadata": {},
   "source": [
    "# Read input data"
   ]
  },
  {
   "cell_type": "code",
   "execution_count": null,
   "id": "330baf82-21ca-423c-803a-37782d5d7357",
   "metadata": {},
   "outputs": [],
   "source": [
    "# define directory\n",
    "out_dir = os.getcwd()\n",
    "aws_s3_dir = \"https://cities-cities4forests.s3.eu-west-3.amazonaws.com/data\""
   ]
  },
  {
   "cell_type": "code",
   "execution_count": null,
   "id": "0f66600a-4238-4bb0-a3f8-70195746ffd1",
   "metadata": {},
   "outputs": [],
   "source": [
    "# read esa land cover\n",
    "esa_land_cover = ee.ImageCollection('ESA/WorldCover/v100').first()\n",
    "esaScale = esa_land_cover.projection().nominalScale()\n",
    "builtup = esa_land_cover.eq(50)"
   ]
  },
  {
   "cell_type": "code",
   "execution_count": null,
   "id": "5508cd6e-9b8f-4d37-840f-d6cd7899bc06",
   "metadata": {},
   "outputs": [],
   "source": [
    "# read Aqueduct Floods data\n",
    "floodImages = ee.ImageCollection(\"projects/WRI-Aquaduct/floods/Y2018M08D16_RH_Floods_Inundation_EE_V01/output_V06/inundation\")\n",
    "def constYear(img):\n",
    "    img = ee.Image(img)  \n",
    "    yearConst = 1980\n",
    "    return ee.Algorithms.If(img.get('year_string'),img.set({'year':yearConst}),img.set({}))\n",
    "\n",
    "floodImages = floodImages.map(constYear,False)\n",
    "\n",
    "  # Shared flooding variables \n",
    "minInnundation = 0\n",
    "    #note that return period 1.5 is only available for certain settings.\n",
    "returnPeriodC = \"rp0100\"; # option [  \"rp0002\",  \"rp0005\",  \"rp0010\",  \"rp0025\", \"rp0050\",  \"rp0100\",  \"rp0250\",  \"rp0500\",  \"rp1000\"]\n",
    "returnPeriodR = \"rp00100\"; # option [  \"rp00002\",  \"rp00005\",  \"rp00010\",  \"rp00025\", \"rp00050\",  \"rp00100\",  \"rp00250\",  \"rp00500\",  \"rp01000\"]\n",
    "#year = opts.get('year', 2030); # option [1980,2030,2050,2080] files that had year='hist' have a property called year_string since year is a reseverd keyword in earthengine.\n",
    "startYear = 1980 #Options: 1980,2030,2050,2080.  If 1980, may need to remove some filters that are not available as properties in those images. \n",
    "endYear = 2050 #Options: 1980,2030,2050,2080.  If 1980, may need to remove some filters that are not available as properties in those images. \n",
    "startYearStr = str(startYear)\n",
    "endYearStr = str(endYear)\n",
    "climate = \"rcp8p5\"; # options \"historical\",\"rcp4p5\", \"rcp8p5\"\n",
    "  # Coastal flooding variables \n",
    "subsidence = 'nosub'; #options \"nosub\", \"wtsub\"\n",
    "sea_level_rise_scenario = 50; # options 5, 50\n",
    "  # Riverine flooding variables \n",
    "model = '0000GFDL-ESM2M';\n",
    "  \n",
    "Coastal_start = (floodImages.filterMetadata(\"floodtype\",\"equals\",\"inuncoast\")\n",
    "                      .filterMetadata(\"returnperiod\",\"equals\",returnPeriodC)\n",
    "                      .filterMetadata(\"year\",\"equals\",startYear)\n",
    "                      #.filterMetadata(\"climate\",\"equals\",climate)\n",
    "                      #.filterMetadata(\"subsidence\",\"equals\",subsidence)\n",
    "                      #.filterMetadata(\"sea_level_rise_scenario\",\"equals\",sea_level_rise_scenario)\n",
    "                      .first()\n",
    "                      #.unmask(ee.Image.constant(0));\n",
    "                )\n",
    "Coastal_end = (floodImages.filterMetadata(\"floodtype\",\"equals\",\"inuncoast\")\n",
    "                      .filterMetadata(\"returnperiod\",\"equals\",returnPeriodC)\n",
    "                      .filterMetadata(\"year\",\"equals\",endYear)\n",
    "                      .filterMetadata(\"climate\",\"equals\",climate)\n",
    "                      .filterMetadata(\"subsidence\",\"equals\",subsidence)\n",
    "                      .filterMetadata(\"sea_level_rise_scenario\",\"equals\",sea_level_rise_scenario)\n",
    "                      .first()\n",
    "                      #.unmask(ee.Image.constant(0));\n",
    "                  )\n",
    "imageVisParam = {\"opacity\":1,\"bands\":[\"b1\"],\"max\":2,\"palette\":[\"ffffff\",\"00cfff\",\"0013ff\"]};\n",
    "#Map.addLayer(Coastal_end,imageVisParam,\"Coastal Flooding\",1,0.7)\n",
    "\n",
    "\n",
    "Riverine_start = (floodImages.filterMetadata(\"floodtype\",\"equals\",\"inunriver\")\n",
    "                      .filterMetadata(\"returnperiod\",\"equals\",returnPeriodR)\n",
    "                      .filterMetadata(\"year\",\"equals\",startYear)\n",
    "                      #.filterMetadata(\"climate\",\"equals\",climate)\n",
    "                      #.filterMetadata(\"model\", \"equals\", model)\n",
    "                      .first()\n",
    "                      #.unmask(ee.Image.constant(0));\n",
    "                 )\n",
    "Riverine_end = (floodImages.filterMetadata(\"floodtype\",\"equals\",\"inunriver\")\n",
    "                      .filterMetadata(\"returnperiod\",\"equals\",returnPeriodR)\n",
    "                      .filterMetadata(\"year\",\"equals\",endYear)\n",
    "                      .filterMetadata(\"climate\",\"equals\",climate)\n",
    "                      .filterMetadata(\"model\", \"equals\", model)                      \n",
    "                      .first()\n",
    "                      #.unmask(ee.Image.constant(0));\n",
    "               )\n",
    "imageVisParam = {\"opacity\":1,\"bands\":[\"b1\"],\"max\":2,\"palette\":[\"ffffff\",\"00cfff\",\"0013ff\"]};\n",
    "#Map.addLayer(Riverine_end,imageVisParam,\"Riverine Flooding\",1,0.7);\n",
    "\n",
    "Combflood_start = Coastal_start.max(Riverine_start)\n",
    "Combflood_start = Combflood_start.updateMask(Combflood_start.gt(minInnundation))\n",
    "Combflood_end = Coastal_end.max(Riverine_end)\n",
    "Combflood_end = Combflood_end.updateMask(Combflood_end.gt(minInnundation))\n",
    "\n",
    "# print(Combflood_end)\n",
    "# Map.addLayer(Combflood_end,imageVisParam,\"Combined Flooding\",1,0.7);\n",
    "\n",
    "UrbFlood_start = Combflood_start.updateMask(builtup)\n",
    "UrbFlood_end = Combflood_end.updateMask(builtup)\n",
    "# Map.addLayer(UrbFlood,imageVisParam,\"Urban Flooding\",1,0.7);"
   ]
  },
  {
   "cell_type": "code",
   "execution_count": null,
   "id": "d1fa5ee9-8643-433d-9275-0fbc3ba0230b",
   "metadata": {},
   "outputs": [],
   "source": [
    "# get list of c4f cities\n",
    "boundary_georef = pd.read_csv('https://cities-cities4forests.s3.eu-west-3.amazonaws.com/data/boundaries/v_0/boundary_georef.csv')\n",
    "boundary_georef"
   ]
  },
  {
   "cell_type": "markdown",
   "id": "88e1c571-5f1e-4a24-8dd7-9222ffe1097a",
   "metadata": {
    "tags": []
   },
   "source": [
    "# Compute indicator"
   ]
  },
  {
   "cell_type": "code",
   "execution_count": null,
   "id": "2155f1c4-4efe-4b67-916f-29090041d975",
   "metadata": {},
   "outputs": [],
   "source": [
    "this_indicator = pd.DataFrame() "
   ]
  },
  {
   "cell_type": "code",
   "execution_count": null,
   "id": "7fae78ea-64bd-43d4-bc2b-d4b259386f89",
   "metadata": {},
   "outputs": [],
   "source": [
    "# define calcuation function to get pixel counts, convert to percents and append to data frame\n",
    "def CountCalcs(FC,DF):\n",
    "    # reduce images to get flood and built-up pixel counts\n",
    "    pixelcounts = UrbFlood_start.reduceRegions(FC,ee.Reducer.count().setOutputs(['FloodPixels_start']),esaScale)\n",
    "    pixelcounts = UrbFlood_end.reduceRegions(pixelcounts,ee.Reducer.count().setOutputs(['FloodPixels_end']),esaScale)\n",
    "    pixelcounts = builtup.reduceRegions(pixelcounts,ee.Reducer.count().setOutputs(['BuiltPixels']),esaScale)\n",
    "\n",
    "    # convert pixel counts to area percentages and saves to FC as property\n",
    "    def toPct(feat):\n",
    "        pct_start = (feat.getNumber('FloodPixels_start').divide(feat.getNumber('BuiltPixels')))#.multiply(100)\n",
    "        pct_end = (feat.getNumber('FloodPixels_end').divide(feat.getNumber('BuiltPixels')))#.multiply(100)\n",
    "        return feat.set({\n",
    "            'PctBuiltwFlood_'+startYearStr+'': pct_start,\n",
    "            'PctBuiltwFlood_'+endYearStr+'': pct_end\n",
    "      })\n",
    "\n",
    "    pixelcounts = pixelcounts.map(toPct).select(['geo_id','PctBuiltwFlood_'+endYearStr+''])\n",
    "\n",
    "    # store in df and apend\n",
    "    df = geemap.ee_to_pandas(pixelcounts)\n",
    "    df = df.rename(columns={'PctBuiltwFlood_'+endYearStr+'': 'GRE_4_1_percentFloodProneinBuiltup'+endYearStr+''})\n",
    "    DF = DF.append(df)\n",
    "    return DF"
   ]
  },
  {
   "cell_type": "code",
   "execution_count": null,
   "id": "b19a7e21-e324-45ec-bd84-51e0a682eaf2",
   "metadata": {},
   "outputs": [],
   "source": [
    "for i in range(0,len(boundary_georef)):\n",
    "    print(i)\n",
    "    geo_name = boundary_georef.loc[i, 'geo_name']\n",
    "    print(\"\\n geo_name: \"+geo_name)\n",
    "    \n",
    "    boundary_id_aoi = boundary_georef.loc[i, 'geo_name']+'-'+boundary_georef.loc[i, 'aoi_boundary_name']\n",
    "    boundary_id_unit = boundary_georef.loc[i, 'geo_name']+'-'+boundary_georef.loc[i, 'units_boundary_name']\n",
    "        \n",
    "    # process aoi level ------\n",
    "    print(\"\\n boundary_id_aoi: \"+boundary_id_aoi)\n",
    "    # read boundaries\n",
    "    boundary_path = aws_s3_dir +'/boundaries/v_0/boundary-'+boundary_id_aoi+'.geojson'\n",
    "    boundary_geo = requests.get(boundary_path).json()\n",
    "    boundary_geo_ee = geemap.geojson_to_ee(boundary_geo)\n",
    "    this_indicator = CountCalcs(boundary_geo_ee,this_indicator)\n",
    "    \n",
    "    # process unit of analysis level ------\n",
    "    print(\"\\n boundary_id_unit: \"+boundary_id_unit)\n",
    "    # read boundaries\n",
    "    boundary_path = aws_s3_dir +'/boundaries/v_0/boundary-'+boundary_id_unit+'.geojson'\n",
    "    boundary_geo = requests.get(boundary_path).json()\n",
    "    boundary_geo_ee = geemap.geojson_to_ee(boundary_geo)\n",
    "    this_indicator = CountCalcs(boundary_geo_ee,this_indicator)\n"
   ]
  },
  {
   "cell_type": "code",
   "execution_count": null,
   "id": "dc8ba28c-f0f3-4a53-8243-cb35476f4d3d",
   "metadata": {},
   "outputs": [],
   "source": [
    "this_indicator"
   ]
  },
  {
   "cell_type": "markdown",
   "id": "8d5abd9b-097c-4676-a500-ecd45ad77374",
   "metadata": {},
   "source": [
    "# Merge with indicator table"
   ]
  },
  {
   "cell_type": "code",
   "execution_count": null,
   "id": "731fba45-59b3-44fe-94a9-3520763dffed",
   "metadata": {},
   "outputs": [],
   "source": [
    "# read indicator table\n",
    "cities_indicators = pd.read_csv(aws_s3_dir + '/indicators/cities_indicators_v2.csv') \n",
    "cities_indicators#.head()"
   ]
  },
  {
   "cell_type": "code",
   "execution_count": null,
   "id": "978df631-317b-4c42-8c8a-d8ee108e1715",
   "metadata": {},
   "outputs": [],
   "source": [
    "def merge_indicators(indicator_table, new_indicator_table, indicator_name):\n",
    "    if indicator_name in indicator_table.columns:\n",
    "        print(\"replace by new indicators\")\n",
    "        indicator_table.drop(indicator_name, inplace=True, axis=1)\n",
    "        cities_indicators_df = indicator_table.merge(new_indicator_table[[\"geo_id\",indicator_name]], \n",
    "                                                     on='geo_id', \n",
    "                                                     how='left')\n",
    "    else:\n",
    "        print(\"add new indicators\")\n",
    "        cities_indicators_df = indicator_table.merge(new_indicator_table[[\"geo_id\",indicator_name]], \n",
    "                                                     on='geo_id', \n",
    "                                                     how='left')\n",
    "    return(cities_indicators_df)"
   ]
  },
  {
   "cell_type": "code",
   "execution_count": null,
   "id": "ffa73a3a-ea72-42ab-81ed-589b95ef33ab",
   "metadata": {},
   "outputs": [],
   "source": [
    "cities_indicators_merged = merge_indicators(indicator_table = cities_indicators,\n",
    "                                            new_indicator_table = this_indicator,\n",
    "                                            indicator_name = 'GRE_4_1_percentFloodProneinBuiltup'+endYearStr+'')"
   ]
  },
  {
   "cell_type": "code",
   "execution_count": null,
   "id": "6c10c1e2-9aa9-4d43-a110-8550e4f36e0e",
   "metadata": {},
   "outputs": [],
   "source": [
    "cities_indicators_merged"
   ]
  },
  {
   "cell_type": "markdown",
   "id": "cba258d2-9e13-4fcc-bf22-4aeb3f359405",
   "metadata": {},
   "source": [
    "# Upload in aws s3"
   ]
  },
  {
   "cell_type": "code",
   "execution_count": null,
   "id": "4c059a57-b6a6-4354-b24b-f45102ec8399",
   "metadata": {},
   "outputs": [],
   "source": [
    "# connect to s3\n",
    "aws_credentials = pd.read_csv('/home/jovyan/PlanetaryComputerExamples/aws_credentials.csv')\n",
    "aws_key = aws_credentials.iloc[0]['Access key ID']\n",
    "aws_secret = aws_credentials.iloc[0]['Secret access key']\n",
    "\n",
    "s3 = boto3.resource(\n",
    "    service_name='s3',\n",
    "    aws_access_key_id=aws_key,\n",
    "    aws_secret_access_key=aws_secret\n",
    ")"
   ]
  },
  {
   "cell_type": "code",
   "execution_count": null,
   "id": "1a2235f8-fb77-40f6-91d8-908dca3fd164",
   "metadata": {},
   "outputs": [],
   "source": [
    "# upload to aws\n",
    "key_data = 'data/indicators/cities_indicators_v2.csv'\n",
    "bucket_name = 'cities-cities4forests' \n",
    "cities_indicators_merged.to_csv(\n",
    "    f\"s3://{bucket_name}/{key_data}\",\n",
    "    index=False,\n",
    "    storage_options={\n",
    "        \"key\": aws_key,\n",
    "        \"secret\": aws_secret\n",
    "    },\n",
    ")"
   ]
  },
  {
   "cell_type": "code",
   "execution_count": null,
   "id": "db9ed391-015d-4778-acc5-37c0c7a04703",
   "metadata": {},
   "outputs": [],
   "source": [
    "# make it public\n",
    "object_acl = s3.ObjectAcl(bucket_name,key_data)\n",
    "response = object_acl.put(ACL='public-read')"
   ]
  },
  {
   "cell_type": "code",
   "execution_count": null,
   "id": "ecf202dd-5adf-44d6-83b2-bcba1e8e3d11",
   "metadata": {},
   "outputs": [],
   "source": []
  }
 ],
 "metadata": {
  "kernelspec": {
   "display_name": "Python 3 (ipykernel)",
   "language": "python",
   "name": "python3"
  },
  "language_info": {
   "codemirror_mode": {
    "name": "ipython",
    "version": 3
   },
   "file_extension": ".py",
   "mimetype": "text/x-python",
   "name": "python",
   "nbconvert_exporter": "python",
   "pygments_lexer": "ipython3",
   "version": "3.10.6"
  }
 },
 "nbformat": 4,
 "nbformat_minor": 5
}
