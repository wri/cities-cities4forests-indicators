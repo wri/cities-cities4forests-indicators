{
 "cells": [
  {
   "cell_type": "code",
   "execution_count": null,
   "id": "30ea11e8-dd5e-4c74-be11-497feb22a025",
   "metadata": {},
   "outputs": [],
   "source": [
    "# import sys\n",
    "# !{sys.executable} -m pip install pip earthengine-api\n",
    "# !{sys.executable} -m pip install pip geemap"
   ]
  },
  {
   "cell_type": "code",
   "execution_count": null,
   "id": "035461fb-746d-4367-b887-f98fb8677eb9",
   "metadata": {},
   "outputs": [],
   "source": [
    "import ee\n",
    "# ee.Authenticate()"
   ]
  },
  {
   "cell_type": "code",
   "execution_count": null,
   "id": "1d44b9e6-310f-45fb-bf42-acf0277df0ab",
   "metadata": {},
   "outputs": [],
   "source": [
    "ee.Initialize()"
   ]
  },
  {
   "cell_type": "code",
   "execution_count": null,
   "id": "d3b9ad94-518d-4e80-8f70-3dcb8909f5e0",
   "metadata": {},
   "outputs": [],
   "source": [
    "import geemap\n",
    "import ipyleaflet\n",
    "import numpy as np\n",
    "import requests\n",
    "import os\n",
    "import pandas as pd\n",
    "import rasterio\n",
    "import boto3\n",
    "import geopandas as gpd\n",
    "import glob"
   ]
  },
  {
   "cell_type": "markdown",
   "id": "c02f5a68-86a7-4a3e-8c59-a3071d2ecc56",
   "metadata": {},
   "source": [
    "# Load data"
   ]
  },
  {
   "cell_type": "code",
   "execution_count": null,
   "id": "11f10650-ddea-4abc-9391-174fd97ea9bb",
   "metadata": {},
   "outputs": [],
   "source": [
    "# read HAND data to generate drainage paths \n",
    "hand30_100 = ee.ImageCollection('users/gena/global-hand/hand-100')\n",
    "hand30_1000 = ee.Image('users/gena/GlobalHAND/30m/hand-1000')\n",
    "hand30_5000 = ee.Image('users/gena/GlobalHAND/30m/hand-5000')\n",
    "srtm = ee.Image(\"USGS/SRTMGL1_003\")\n",
    "\n",
    "# Map.addLayer(hand30_5000,{},\"hand\",False)\n",
    "\n",
    "## exclude SWBD water\n",
    "swbd = ee.Image('MODIS/MOD44W/MOD44W_005_2000_02_24').select('water_mask')\n",
    "swbdMask = swbd.unmask().Not().focal_median(1) #.focal_max(5) #.add(0.2);\n",
    "\n",
    "## select HAND height by flow accumuation levels\n",
    "thresh = 0\n",
    "threshStr=str(thresh)\n",
    "FlowAccu = hand30_1000 # options: hand30_100, hand30_1000, hand30_5000\n",
    "FA = 1000 # options: 100, 1000, 5000\n",
    "FAstr=str(FA)\n",
    "HANDmFA = FlowAccu.lte(thresh).focal_max(1).focal_mode(2, 'circle', 'pixels', 5).mask(swbdMask)\n",
    "HANDmFA = HANDmFA.mask(HANDmFA)\n",
    "HANDscale =HANDmFA.projection().nominalScale()\n",
    "HANDCRS =HANDmFA.projection().crs()\n",
    "# Map.addLayer(HANDmFA, {'palette':['0020ff'], 'opacity':0.8},'water (HAND < '+threshStr+'m, FA'+FAstr+')', False);\n"
   ]
  },
  {
   "cell_type": "code",
   "execution_count": null,
   "id": "204c75c4-7ca4-4dca-a820-03bf1b991903",
   "metadata": {},
   "outputs": [],
   "source": [
    "# read and map HydroSHEDS river data\n",
    "dataset = ee.FeatureCollection('WWF/HydroSHEDS/v1/FreeFlowingRivers');\n",
    "# Paint \"RIV_ORD\" (river order) value to an image for visualization.\n",
    "datasetVis = ee.Image().byte().paint(dataset, 'RIV_ORD', 2);\n",
    "visParams = {'min': 1,'max': 10,'palette': ['08519c', '3182bd', '6baed6', 'bdd7e7', 'eff3ff']};\n",
    "\n",
    "# Map.addLayer(datasetVis, visParams, 'Free flowing rivers');\n",
    "#Map.addLayer(dataset, {}, 'Free flowing rivers', False);"
   ]
  },
  {
   "cell_type": "code",
   "execution_count": null,
   "id": "64c52de5-fe5e-4414-865d-15344455745b",
   "metadata": {},
   "outputs": [],
   "source": [
    "# Read surface water occurance\n",
    "water = ee.Image('JRC/GSW1_3/GlobalSurfaceWater').select(['occurrence']).gte(50);\n",
    "# water = water.reproject(**{'crs':HANDCRS,'scale':HANDscale})##'crsTransform':esa_PROJ.transform,\n",
    "\n",
    "#visualization = {'bands': ['occurrence'],'min': 50,'max': 100,'palette':['black'] };['ffffff', 'ffbbbb', '0000ff']\n",
    "# Map.addLayer(water, {'palette':['black']}, 'JRC Water occurrence',False);\n",
    "#var watermask = water.select('occurrence').gte(90).where(water.select('occurrence'),0).unmask(1).selfMask()\n"
   ]
  },
  {
   "cell_type": "code",
   "execution_count": null,
   "id": "eb6801fc-3e63-498a-be28-314c0810809c",
   "metadata": {},
   "outputs": [],
   "source": [
    "#Create combined water layer and mask\n",
    "#combWater = ee.ImageCollection([HANDmFA,water]).mosaic()\n",
    "combWater = HANDmFA.blend(water).gt(0)\n",
    "combWaterScale =combWater.projection().nominalScale()\n",
    "combWaterCRS =combWater.projection().crs()\n",
    "\n",
    "# Map.addLayer(combWater, {'palette':['blue']}, 'Combined water',False);"
   ]
  },
  {
   "cell_type": "code",
   "execution_count": null,
   "id": "6875a766-c21d-4fe6-a64b-c4607213a699",
   "metadata": {},
   "outputs": [],
   "source": [
    "# Buffer waterways by riparian zone definitions \n",
    "Distance = combWater.unmask().distance(ee.Kernel.euclidean(200, 'meters'))\n",
    "halfpixel = combWaterScale.multiply(0.5)\n",
    "## https://doi.org/10.1016/j.jenvman.2019.109391\n",
    "nutrientBuffer = Distance.updateMask(Distance.lte(ee.Number(3).subtract(halfpixel)))#.updateMask(Distance.gt(0))\n",
    "floraBuffer = Distance.updateMask(Distance.lte(ee.Number(24).subtract(halfpixel)))#.updateMask(Distance.gt(0))\n",
    "birdBuffer = Distance.updateMask(Distance.lte(ee.Number(144).subtract(halfpixel)))#.updateMask(Distance.gt(0))\n",
    "riparianBuffer = birdBuffer\n",
    "riparianMask = riparianBuffer.updateMask(riparianBuffer.gt(0))\n",
    "# riparianMask = riparianMask.reproject(**{'crs':greenCRS,'scale':greenScale})##'crsTransform':esa_PROJ.transform,\n",
    "riparianMaskScale = riparianMask.projection().nominalScale()\n",
    "\n",
    "# Map.addLayer(Distance,{'min': 0, 'max': 200},\"Distance\",False)\n",
    "#Map.addLayer(nutrientBuffer,{'min': 0, 'max': 200},\"nutrientBuffer\")\n",
    "#Map.addLayer(floraBuffer,{'min': 0, 'max': 200},\"floraBuffer\")\n",
    "#Map.addLayer(riparianBuffer,{'min': 0, 'max': 200},\"riparianBuffer\",False)\n",
    "# Map.addLayer(riparianMask,{'min': 0, 'max': 200},\"riparianMask\")"
   ]
  },
  {
   "cell_type": "code",
   "execution_count": null,
   "id": "674d6aa0-7144-47a5-80ed-bf4186d84bc7",
   "metadata": {},
   "outputs": [],
   "source": [
    "# get list of c4f cities\n",
    "boundary_georef = pd.read_csv('https://cities-cities4forests.s3.eu-west-3.amazonaws.com/data/boundaries/v_0/boundary_georef.csv')\n",
    "boundary_georef"
   ]
  },
  {
   "cell_type": "markdown",
   "id": "6535d63b-696b-4500-9c15-39f912e1575e",
   "metadata": {},
   "source": [
    "# Extract riparian areas by city"
   ]
  },
  {
   "cell_type": "code",
   "execution_count": null,
   "id": "196a4d67-0243-48d1-ae95-aa90ed0cafa3",
   "metadata": {},
   "outputs": [],
   "source": [
    "for i in range(0,len(boundary_georef)):\n",
    "    print(i)\n",
    "    boundary_id = boundary_georef.loc[i, 'geo_name']+'-'+boundary_georef.loc[i, 'aoi_boundary_name']\n",
    "    print(boundary_id)\n",
    "    \n",
    "    # read boundaries\n",
    "    boundary_path = 'https://cities-cities4forests.s3.eu-west-3.amazonaws.com/data/boundaries/v_0/boundary-'+boundary_id+'.geojson'\n",
    "    boundary_geo = requests.get(boundary_path).json()\n",
    "    boundary_geo_ee = geemap.geojson_to_ee(boundary_geo)\n",
    "    \n",
    "    # Download ee.Image of albedo as GeoTIFF to Google Drive \n",
    "    geemap.ee_export_image_to_drive(\n",
    "        riparianMask.toByte(), # use toByte() to reduce file size\n",
    "        description = boundary_id + '-RiparianBuffer',\n",
    "        folder='data', \n",
    "        scale=riparianMaskScale, \n",
    "        region=boundary_geo_ee.geometry(),\n",
    "        maxPixels = 5000000000\n",
    "    )"
   ]
  },
  {
   "cell_type": "markdown",
   "id": "48219700-c1de-4192-ac46-2455d81664a1",
   "metadata": {},
   "source": [
    "# Upload in aws\n",
    "\n",
    "Since we can't download directly the rasters locally due to their size, the rasters are stored in a google-drive folder and then downloaded locally in order to push them back to s3 bucket."
   ]
  },
  {
   "cell_type": "code",
   "execution_count": null,
   "id": "cb8fac46-b020-4d00-bb3e-9ec76687936d",
   "metadata": {},
   "outputs": [],
   "source": [
    "# connect to s3\n",
    "aws_credentials = pd.read_csv('/home/jovyan/PlanetaryComputerExamples/aws_credentials.csv')\n",
    "aws_key = aws_credentials.iloc[0]['Access key ID']\n",
    "aws_secret = aws_credentials.iloc[0]['Secret access key']\n",
    "\n",
    "s3 = boto3.resource(\n",
    "    service_name='s3',\n",
    "    aws_access_key_id=aws_key,\n",
    "    aws_secret_access_key=aws_secret\n",
    ")\n",
    "\n",
    "# specify bucket name\n",
    "bucket_name = 'cities-cities4forests' "
   ]
  },
  {
   "cell_type": "code",
   "execution_count": null,
   "id": "3ccb5f0d-d71d-4d10-83d1-571e52dc3cd4",
   "metadata": {},
   "outputs": [],
   "source": [
    "out_dir = os.getcwd()"
   ]
  },
  {
   "cell_type": "code",
   "execution_count": null,
   "id": "2ae44f0f-b2ce-4409-898e-cbf62288a7ae",
   "metadata": {},
   "outputs": [],
   "source": [
    "for i in range(0, len(boundary_georef)):\n",
    "    boundary_id = boundary_georef.loc[i, 'geo_name']+'-'+boundary_georef.loc[i, 'aoi_boundary_name']\n",
    "    geo_name = boundary_georef.loc[i, 'geo_name']\n",
    "    print(\"\\n boundary_id: \"+boundary_id)\n",
    "\n",
    "    # read local raster\n",
    "    city_file = 'data/' + boundary_id + '-RiparianBuffer.tif'\n",
    "    raster_path = os.path.join(out_dir, city_file)\n",
    "    \n",
    "    # upload in s3\n",
    "    s3.meta.client.upload_file(raster_path, \n",
    "                               bucket_name, \n",
    "                               'data/flooding/riparian/v_0/' + boundary_id + '-RiparianBuffer.tif',\n",
    "                               ExtraArgs={'ACL':'public-read'})"
   ]
  },
  {
   "cell_type": "markdown",
   "id": "2f7dcc1b-04eb-4704-8f14-d405a3ecd76c",
   "metadata": {},
   "source": [
    "# Visualize data"
   ]
  },
  {
   "cell_type": "code",
   "execution_count": null,
   "id": "196625f2-a39e-4035-99b2-a1582bd61b16",
   "metadata": {},
   "outputs": [],
   "source": [
    "## create map\n",
    "Map = geemap.Map(height=\"350px\")\n",
    "Map"
   ]
  },
  {
   "cell_type": "code",
   "execution_count": null,
   "id": "93d53861-a215-414f-b686-4a945cb1dd8c",
   "metadata": {},
   "outputs": [],
   "source": [
    "## add basemap and center on area of interest\n",
    "Map.add_basemap('HYBRID')\n",
    "Map.centerObject(boundary_geo_ee, zoom=8)"
   ]
  },
  {
   "cell_type": "code",
   "execution_count": null,
   "id": "dd8ce425-2fe0-4455-a741-1045dc49eb47",
   "metadata": {},
   "outputs": [],
   "source": [
    "Map.addLayer(greenmask),\n",
    "             {'min':0, 'max':0.5, 'palette':['white','#006400']},\n",
    "             'Vegetation cover',True,1)"
   ]
  }
 ],
 "metadata": {
  "kernelspec": {
   "display_name": "Python 3 (ipykernel)",
   "language": "python",
   "name": "python3"
  },
  "language_info": {
   "codemirror_mode": {
    "name": "ipython",
    "version": 3
   },
   "file_extension": ".py",
   "mimetype": "text/x-python",
   "name": "python",
   "nbconvert_exporter": "python",
   "pygments_lexer": "ipython3",
   "version": "3.10.6"
  }
 },
 "nbformat": 4,
 "nbformat_minor": 5
}
