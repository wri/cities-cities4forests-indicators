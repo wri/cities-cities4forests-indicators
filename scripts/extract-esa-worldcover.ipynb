{
 "cells": [
  {
   "cell_type": "code",
   "execution_count": 1,
   "id": "f8dc9608-d4f1-43d9-b45e-618c4a507b8c",
   "metadata": {},
   "outputs": [
    {
     "data": {
      "text/html": [
       "<p>To authorize access needed by Earth Engine, open the following\n",
       "        URL in a web browser and follow the instructions:</p>\n",
       "        <p><a href=https://code.earthengine.google.com/client-auth?scopes=https%3A//www.googleapis.com/auth/earthengine%20https%3A//www.googleapis.com/auth/devstorage.full_control&request_id=qK6j9ktkMDxxj-DE_SxK-pG0_JD9e2mMHpz_TNM6ZLs&tc=jioYyXbSA7SJYPE3BLBtajAyTHH4N6R620zPGBPXtDg&cc=kGv4N745JL3-XHtR0NCnTlmJCvV7y3wRojY8OYLPpSI>https://code.earthengine.google.com/client-auth?scopes=https%3A//www.googleapis.com/auth/earthengine%20https%3A//www.googleapis.com/auth/devstorage.full_control&request_id=qK6j9ktkMDxxj-DE_SxK-pG0_JD9e2mMHpz_TNM6ZLs&tc=jioYyXbSA7SJYPE3BLBtajAyTHH4N6R620zPGBPXtDg&cc=kGv4N745JL3-XHtR0NCnTlmJCvV7y3wRojY8OYLPpSI</a></p>\n",
       "        <p>The authorization workflow will generate a code, which you should paste in the box below.</p>\n",
       "        "
      ],
      "text/plain": [
       "<IPython.core.display.HTML object>"
      ]
     },
     "metadata": {},
     "output_type": "display_data"
    },
    {
     "name": "stdin",
     "output_type": "stream",
     "text": [
      "Enter verification code:  4/1AdQt8qhuNjNZ3buOQVsVRR36tyOKXCqAqCz3vX3r2ovsCgQarFMPklxgfWw\n"
     ]
    },
    {
     "name": "stdout",
     "output_type": "stream",
     "text": [
      "\n",
      "Successfully saved authorization token.\n"
     ]
    }
   ],
   "source": [
    "import ee\n",
    "ee.Authenticate()"
   ]
  },
  {
   "cell_type": "code",
   "execution_count": 2,
   "id": "39366990-46f0-4859-a776-8fd2e4fb3ce7",
   "metadata": {},
   "outputs": [],
   "source": [
    "ee.Initialize()"
   ]
  },
  {
   "cell_type": "code",
   "execution_count": 3,
   "id": "d61ff348-dd5f-4cdf-ab12-50d10bfb1d3f",
   "metadata": {},
   "outputs": [],
   "source": [
    "import geemap\n",
    "import ipyleaflet\n",
    "import numpy as np\n",
    "import requests\n",
    "import os\n",
    "import pandas as pd\n",
    "import rasterio\n",
    "import boto3\n",
    "import geopandas as gpd\n",
    "import glob"
   ]
  },
  {
   "cell_type": "markdown",
   "id": "4ccaba0a-2130-4b3d-86ec-d57b46004e79",
   "metadata": {
    "tags": []
   },
   "source": [
    "# Load data"
   ]
  },
  {
   "cell_type": "code",
   "execution_count": 6,
   "id": "b2fca8de-7f70-4e0b-9113-71b302cbce13",
   "metadata": {},
   "outputs": [],
   "source": [
    "# read esa land cover\n",
    "esa_land_cover = ee.ImageCollection('ESA/WorldCover/v100').first()"
   ]
  },
  {
   "cell_type": "code",
   "execution_count": 7,
   "id": "06cb6b89-5a3e-4581-a941-41ef4e2b6a6e",
   "metadata": {},
   "outputs": [
    {
     "data": {
      "text/html": [
       "<div>\n",
       "<style scoped>\n",
       "    .dataframe tbody tr th:only-of-type {\n",
       "        vertical-align: middle;\n",
       "    }\n",
       "\n",
       "    .dataframe tbody tr th {\n",
       "        vertical-align: top;\n",
       "    }\n",
       "\n",
       "    .dataframe thead th {\n",
       "        text-align: right;\n",
       "    }\n",
       "</style>\n",
       "<table border=\"1\" class=\"dataframe\">\n",
       "  <thead>\n",
       "    <tr style=\"text-align: right;\">\n",
       "      <th></th>\n",
       "      <th>city_name</th>\n",
       "      <th>geo_name</th>\n",
       "      <th>aoi_boundary_name</th>\n",
       "      <th>units_boundary_name</th>\n",
       "      <th>city_boundary_name</th>\n",
       "      <th>country_code</th>\n",
       "      <th>geo_level</th>\n",
       "    </tr>\n",
       "  </thead>\n",
       "  <tbody>\n",
       "    <tr>\n",
       "      <th>0</th>\n",
       "      <td>Salvador</td>\n",
       "      <td>BRA-Salvador</td>\n",
       "      <td>ADM4union</td>\n",
       "      <td>ADM4</td>\n",
       "      <td>BRA-Salvador-ADM4</td>\n",
       "      <td>BRA</td>\n",
       "      <td>ADM4</td>\n",
       "    </tr>\n",
       "    <tr>\n",
       "      <th>1</th>\n",
       "      <td>Bukavu</td>\n",
       "      <td>COD-Bukavu</td>\n",
       "      <td>ADM3union</td>\n",
       "      <td>ADM3</td>\n",
       "      <td>COD-Bukavu-ADM2</td>\n",
       "      <td>COD</td>\n",
       "      <td>ADM2</td>\n",
       "    </tr>\n",
       "    <tr>\n",
       "      <th>2</th>\n",
       "      <td>Uvira</td>\n",
       "      <td>COD-Uvira</td>\n",
       "      <td>ADM3union</td>\n",
       "      <td>ADM3</td>\n",
       "      <td>COD-Uvira-ADM3</td>\n",
       "      <td>COD</td>\n",
       "      <td>ADM3</td>\n",
       "    </tr>\n",
       "    <tr>\n",
       "      <th>3</th>\n",
       "      <td>Brazzaville</td>\n",
       "      <td>COG-Brazzaville</td>\n",
       "      <td>ADM4union</td>\n",
       "      <td>ADM4</td>\n",
       "      <td>COG-Brazzaville-ADM4</td>\n",
       "      <td>COG</td>\n",
       "      <td>ADM4</td>\n",
       "    </tr>\n",
       "    <tr>\n",
       "      <th>4</th>\n",
       "      <td>Barranquilla</td>\n",
       "      <td>COL-Barranquilla</td>\n",
       "      <td>ADM4union</td>\n",
       "      <td>ADM4</td>\n",
       "      <td>COL-Barranquilla-ADM4</td>\n",
       "      <td>COL</td>\n",
       "      <td>ADM4</td>\n",
       "    </tr>\n",
       "  </tbody>\n",
       "</table>\n",
       "</div>"
      ],
      "text/plain": [
       "      city_name          geo_name aoi_boundary_name units_boundary_name  \\\n",
       "0      Salvador      BRA-Salvador         ADM4union                ADM4   \n",
       "1        Bukavu        COD-Bukavu         ADM3union                ADM3   \n",
       "2         Uvira         COD-Uvira         ADM3union                ADM3   \n",
       "3   Brazzaville   COG-Brazzaville         ADM4union                ADM4   \n",
       "4  Barranquilla  COL-Barranquilla         ADM4union                ADM4   \n",
       "\n",
       "      city_boundary_name country_code geo_level  \n",
       "0      BRA-Salvador-ADM4          BRA      ADM4  \n",
       "1        COD-Bukavu-ADM2          COD      ADM2  \n",
       "2         COD-Uvira-ADM3          COD      ADM3  \n",
       "3   COG-Brazzaville-ADM4          COG      ADM4  \n",
       "4  COL-Barranquilla-ADM4          COL      ADM4  "
      ]
     },
     "execution_count": 7,
     "metadata": {},
     "output_type": "execute_result"
    }
   ],
   "source": [
    "# get list of cities\n",
    "boundary_georef = pd.read_csv('https://cities-cities4forests.s3.eu-west-3.amazonaws.com/data/boundaries/v_0/geo_ref.csv')\n",
    "boundary_georef.head()"
   ]
  },
  {
   "cell_type": "markdown",
   "id": "b57b96c3-6cb1-49b0-b468-755276e1fbc9",
   "metadata": {
    "tags": []
   },
   "source": [
    "# Extract ESA raster by feature"
   ]
  },
  {
   "cell_type": "code",
   "execution_count": 31,
   "id": "571d34ee-ab4a-41ff-9662-1df1f23e9765",
   "metadata": {},
   "outputs": [
    {
     "name": "stdout",
     "output_type": "stream",
     "text": [
      "0\n",
      "BRA-Salvador-ADM4union\n",
      "1\n",
      "COD-Bukavu-ADM3union\n",
      "2\n",
      "COD-Uvira-ADM3union\n",
      "3\n",
      "COG-Brazzaville-ADM4union\n",
      "4\n",
      "COL-Barranquilla-ADM4union\n",
      "5\n",
      "ETH-Addis_Ababa-ADM4union\n",
      "6\n",
      "ETH-Dire_Dawa-ADM3union\n",
      "7\n",
      "KEN-Nairobi-ADM3union\n",
      "8\n",
      "MDG-Antananarivo-ADM4union\n",
      "9\n",
      "MEX-Mexico_City-ADM2union\n",
      "10\n",
      "MEX-Monterrey-ADM2union\n"
     ]
    }
   ],
   "source": [
    "for i in range(0,len(boundary_georef)):\n",
    "    print(i)\n",
    "    boundary_id = boundary_georef.loc[i, 'geo_name']+'-'+boundary_georef.loc[i, 'aoi_boundary_name']\n",
    "    print(boundary_id)\n",
    "    \n",
    "    # read boundaries\n",
    "    boundary_path = 'https://cities-cities4forests.s3.eu-west-3.amazonaws.com/data/boundaries/v_0/boundary-'+boundary_id+'.geojson'\n",
    "    boundary_geo = requests.get(boundary_path).json()\n",
    "    boundary_geo_ee = geemap.geojson_to_ee(boundary_geo)\n",
    "    \n",
    "    # Download ee.Image for Land cover as GeoTIFF\n",
    "    geemap.ee_export_image_to_drive(\n",
    "        esa_land_cover, \n",
    "        folder='data', \n",
    "        # description = boundary_id + '-ESA-Landcover',\n",
    "        # scale=10, \n",
    "        description = boundary_id + '-ESA-Landcover_50m',\n",
    "        scale=50, \n",
    "        region=boundary_geo_ee.geometry(),\n",
    "        maxPixels = 5000000000\n",
    "    )"
   ]
  },
  {
   "cell_type": "markdown",
   "id": "a7094936-e495-4429-9249-d4831f0954e4",
   "metadata": {
    "tags": []
   },
   "source": [
    "# Upload to aws\n",
    "\n",
    "Since we can't download directly the rasters locally due to their size, the rasters are stored in a google-drive folder and then downloaded locally in order to push them back to s3 bucket."
   ]
  },
  {
   "cell_type": "code",
   "execution_count": 17,
   "id": "ca9f5054-b011-4ca2-b766-7c14ecf37935",
   "metadata": {},
   "outputs": [],
   "source": [
    "# connect to s3\n",
    "aws_credentials = pd.read_csv('C:\\\\Users\\\\Saif.Shabou\\\\OneDrive - World Resources Institute\\\\Documents\\\\aws\\\\credentials.csv')\n",
    "aws_key = aws_credentials.iloc[0]['Access key ID']\n",
    "aws_secret = aws_credentials.iloc[0]['Secret access key']\n",
    "\n",
    "s3 = boto3.resource(\n",
    "    service_name='s3',\n",
    "    aws_access_key_id=aws_key,\n",
    "    aws_secret_access_key=aws_secret\n",
    ")\n",
    "\n",
    "# specify bucket name\n",
    "bucket_name = 'cities-cities4forests' "
   ]
  },
  {
   "cell_type": "code",
   "execution_count": 18,
   "id": "e718742d-6c90-463a-938a-998598d33590",
   "metadata": {},
   "outputs": [],
   "source": [
    "out_dir = os.getcwd()"
   ]
  },
  {
   "cell_type": "code",
   "execution_count": 33,
   "id": "6b71a246-6876-4b85-bde5-da554f2548bc",
   "metadata": {},
   "outputs": [
    {
     "name": "stdout",
     "output_type": "stream",
     "text": [
      "\n",
      " boundary_id: BRA-Salvador-ADM4union\n",
      "\n",
      " boundary_id: COD-Bukavu-ADM3union\n",
      "\n",
      " boundary_id: COD-Uvira-ADM3union\n",
      "\n",
      " boundary_id: COG-Brazzaville-ADM4union\n",
      "\n",
      " boundary_id: COL-Barranquilla-ADM4union\n",
      "\n",
      " boundary_id: ETH-Addis_Ababa-ADM4union\n",
      "\n",
      " boundary_id: ETH-Dire_Dawa-ADM3union\n",
      "\n",
      " boundary_id: KEN-Nairobi-ADM3union\n",
      "\n",
      " boundary_id: MDG-Antananarivo-ADM4union\n",
      "\n",
      " boundary_id: MEX-Mexico_City-ADM2union\n",
      "\n",
      " boundary_id: MEX-Monterrey-ADM2union\n"
     ]
    }
   ],
   "source": [
    "for i in range(0, len(boundary_georef)):\n",
    "    boundary_id = boundary_georef.loc[i, 'geo_name']+'-'+boundary_georef.loc[i, 'aoi_boundary_name']\n",
    "    print(\"\\n boundary_id: \"+boundary_id)\n",
    "\n",
    "    # read local raster\n",
    "    city_file = 'data\\\\' + boundary_id +'-ESA-Landcover_50m.tif'\n",
    "    raster_path = os.path.join(out_dir, city_file)\n",
    "    \n",
    "    # upload in s3\n",
    "    s3.meta.client.upload_file(raster_path, \n",
    "                               bucket_name, \n",
    "                               'data/land_use/esa_world_cover/v_0/'+ boundary_id + '-ESA-world_cover-2020_50m.tif',\n",
    "                               ExtraArgs={'ACL':'public-read'})"
   ]
  },
  {
   "cell_type": "markdown",
   "id": "9980e5a7-432f-40bd-923b-02bb48a68610",
   "metadata": {},
   "source": [
    "# Extract Built-up areas"
   ]
  },
  {
   "cell_type": "code",
   "execution_count": 28,
   "id": "aeb98b41-c212-40b1-863d-fc7b2ecc5bb2",
   "metadata": {},
   "outputs": [],
   "source": [
    "# select built-up areas\n",
    "esa_built_up = esa_land_cover.updateMask(esa_land_cover.eq(50))"
   ]
  },
  {
   "cell_type": "code",
   "execution_count": 29,
   "id": "2a690716-2514-480f-b3ff-67d37ac341bc",
   "metadata": {},
   "outputs": [
    {
     "name": "stdout",
     "output_type": "stream",
     "text": [
      "0\n",
      "BRA-Salvador-ADM4union\n",
      "1\n",
      "COD-Bukavu-ADM3union\n",
      "2\n",
      "COD-Uvira-ADM3union\n",
      "3\n",
      "COG-Brazzaville-ADM4union\n",
      "4\n",
      "COL-Barranquilla-ADM4union\n",
      "5\n",
      "ETH-Addis_Ababa-ADM4union\n",
      "6\n",
      "ETH-Dire_Dawa-ADM3union\n",
      "7\n",
      "KEN-Nairobi-ADM3union\n",
      "8\n",
      "MDG-Antananarivo-ADM4union\n",
      "9\n",
      "MEX-Mexico_City-ADM2union\n",
      "10\n",
      "MEX-Monterrey-ADM2union\n"
     ]
    }
   ],
   "source": [
    "for i in range(0,len(boundary_georef)):\n",
    "    print(i)\n",
    "    boundary_id = boundary_georef.loc[i, 'geo_name']+'-'+boundary_georef.loc[i, 'aoi_boundary_name']\n",
    "    print(boundary_id)\n",
    "    \n",
    "    # read boundaries\n",
    "    boundary_path = 'https://cities-cities4forests.s3.eu-west-3.amazonaws.com/data/boundaries/v_0/boundary-'+boundary_id+'.geojson'\n",
    "    boundary_geo = requests.get(boundary_path).json()\n",
    "    boundary_geo_ee = geemap.geojson_to_ee(boundary_geo)\n",
    "    \n",
    "    # Download ee.Image for Land cover as GeoTIFF\n",
    "    geemap.ee_export_image_to_drive(\n",
    "        esa_built_up, \n",
    "        description = boundary_id + '-ESA-Landcover_built-up',\n",
    "        folder='data', \n",
    "        scale=10, \n",
    "        region=boundary_geo_ee.geometry(),\n",
    "        maxPixels = 5000000000\n",
    "    )"
   ]
  },
  {
   "cell_type": "markdown",
   "id": "05cfc0e4-47bf-4e7c-8fd7-3d9f3cf71840",
   "metadata": {},
   "source": [
    "# Upload in aws"
   ]
  },
  {
   "cell_type": "code",
   "execution_count": 30,
   "id": "a3ca4615-5492-464b-a198-b2a515bfc0ad",
   "metadata": {},
   "outputs": [
    {
     "name": "stdout",
     "output_type": "stream",
     "text": [
      "\n",
      " boundary_id: BRA-Salvador-ADM4union\n",
      "\n",
      " boundary_id: COD-Bukavu-ADM3union\n",
      "\n",
      " boundary_id: COD-Uvira-ADM3union\n",
      "\n",
      " boundary_id: COG-Brazzaville-ADM4union\n",
      "\n",
      " boundary_id: COL-Barranquilla-ADM4union\n",
      "\n",
      " boundary_id: ETH-Addis_Ababa-ADM4union\n",
      "\n",
      " boundary_id: ETH-Dire_Dawa-ADM3union\n",
      "\n",
      " boundary_id: KEN-Nairobi-ADM3union\n",
      "\n",
      " boundary_id: MDG-Antananarivo-ADM4union\n",
      "\n",
      " boundary_id: MEX-Mexico_City-ADM2union\n",
      "\n",
      " boundary_id: MEX-Monterrey-ADM2union\n"
     ]
    }
   ],
   "source": [
    "for i in range(0, len(boundary_georef)):\n",
    "    boundary_id = boundary_georef.loc[i, 'geo_name']+'-'+boundary_georef.loc[i, 'aoi_boundary_name']\n",
    "    print(\"\\n boundary_id: \"+boundary_id)\n",
    "\n",
    "    # read local raster\n",
    "    city_file = 'data\\\\' + boundary_id +'-ESA-Landcover_built-up.tif'\n",
    "    raster_path = os.path.join(out_dir, city_file)\n",
    "    \n",
    "    # upload in s3\n",
    "    s3.meta.client.upload_file(raster_path, \n",
    "                               bucket_name, \n",
    "                               'data/land_use/esa_world_cover/v_0/'+ boundary_id + '-ESA-world_cover-2020-built_up.tif',\n",
    "                               ExtraArgs={'ACL':'public-read'})"
   ]
  },
  {
   "cell_type": "code",
   "execution_count": null,
   "id": "747246f4-f354-4c7c-90c6-7eeafaf6281d",
   "metadata": {},
   "outputs": [],
   "source": []
  }
 ],
 "metadata": {
  "kernelspec": {
   "display_name": "Python 3 (ipykernel)",
   "language": "python",
   "name": "python3"
  },
  "language_info": {
   "codemirror_mode": {
    "name": "ipython",
    "version": 3
   },
   "file_extension": ".py",
   "mimetype": "text/x-python",
   "name": "python",
   "nbconvert_exporter": "python",
   "pygments_lexer": "ipython3",
   "version": "3.10.5"
  }
 },
 "nbformat": 4,
 "nbformat_minor": 5
}
