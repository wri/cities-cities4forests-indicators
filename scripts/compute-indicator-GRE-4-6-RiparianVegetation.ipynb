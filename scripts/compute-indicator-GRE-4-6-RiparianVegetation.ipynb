{
 "cells": [
  {
   "cell_type": "code",
   "execution_count": null,
   "id": "910a66a1-a3b7-4aee-98ab-2b826a1b6e3b",
   "metadata": {},
   "outputs": [],
   "source": [
    "# import sys\n",
    "# !{sys.executable} -m pip install pip earthengine-api\n",
    "# !{sys.executable} -m pip install pip geemap\n",
    "# !{sys.executable} -m pip install pip rasterstats "
   ]
  },
  {
   "cell_type": "code",
   "execution_count": null,
   "id": "dd9f259e-62a6-4b7e-b879-8628b18a8741",
   "metadata": {},
   "outputs": [],
   "source": [
    "import ee\n",
    "# ee.Authenticate()"
   ]
  },
  {
   "cell_type": "code",
   "execution_count": null,
   "id": "73901903-5245-4507-950b-3a78b2e820b8",
   "metadata": {},
   "outputs": [],
   "source": [
    "ee.Initialize()"
   ]
  },
  {
   "cell_type": "code",
   "execution_count": null,
   "id": "ff69f1a8-e7fa-40ac-81db-f9a67f1e82c6",
   "metadata": {},
   "outputs": [],
   "source": [
    "import numpy as np\n",
    "import requests\n",
    "import os\n",
    "import pandas as pd\n",
    "import rasterio\n",
    "import boto3\n",
    "import geopandas as gpd\n",
    "import io\n",
    "# from rasterstats import zonal_stats\n",
    "import fiona\n",
    "import rasterio.mask\n",
    "import geemap\n",
    "import glob"
   ]
  },
  {
   "cell_type": "code",
   "execution_count": null,
   "id": "e9de7d4d-ed34-493b-8573-ab00825ca668",
   "metadata": {},
   "outputs": [],
   "source": [
    "# hide warnings\n",
    "import warnings\n",
    "warnings.filterwarnings('ignore')"
   ]
  },
  {
   "cell_type": "markdown",
   "id": "11ea530a-3c18-423a-a28a-de82cfa137ff",
   "metadata": {},
   "source": [
    "# Read input data"
   ]
  },
  {
   "cell_type": "code",
   "execution_count": null,
   "id": "330baf82-21ca-423c-803a-37782d5d7357",
   "metadata": {},
   "outputs": [],
   "source": [
    "# define directory\n",
    "out_dir = os.getcwd()\n",
    "aws_s3_dir = \"https://cities-cities4forests.s3.eu-west-3.amazonaws.com/data\""
   ]
  },
  {
   "cell_type": "code",
   "execution_count": null,
   "id": "a863a607-504d-4ef9-8855-34e4b58c380b",
   "metadata": {},
   "outputs": [],
   "source": [
    "## create map\n",
    "Map = geemap.Map(height=\"400px\")\n",
    "#Map.set_options('HYBRID');\n",
    "Map"
   ]
  },
  {
   "cell_type": "code",
   "execution_count": null,
   "id": "0f66600a-4238-4bb0-a3f8-70195746ffd1",
   "metadata": {},
   "outputs": [],
   "source": [
    "# read HAND data to generate drainage paths \n",
    "hand30_100 = ee.ImageCollection('users/gena/global-hand/hand-100')\n",
    "hand30_1000 = ee.Image('users/gena/GlobalHAND/30m/hand-1000')\n",
    "hand30_5000 = ee.Image('users/gena/GlobalHAND/30m/hand-5000')\n",
    "srtm = ee.Image(\"USGS/SRTMGL1_003\")\n",
    "\n",
    "# Map.addLayer(hand30_5000,{},\"hand\",False)\n",
    "\n",
    "## exclude SWBD water\n",
    "swbd = ee.Image('MODIS/MOD44W/MOD44W_005_2000_02_24').select('water_mask')\n",
    "swbdMask = swbd.unmask().Not().focal_median(1) #.focal_max(5) #.add(0.2);\n",
    "\n",
    "## select HAND height by flow accumuation levels\n",
    "thresh = 0\n",
    "threshStr=str(thresh)\n",
    "FlowAccu = hand30_1000 # options: hand30_100, hand30_1000, hand30_5000\n",
    "FA = 1000 # options: 100, 1000, 5000\n",
    "FAstr=str(FA)\n",
    "HANDmFA = FlowAccu.lte(thresh).focal_max(1).focal_mode(2, 'circle', 'pixels', 5).mask(swbdMask)\n",
    "HANDmFA = HANDmFA.mask(HANDmFA)\n",
    "HANDscale =HANDmFA.projection().nominalScale()\n",
    "HANDCRS =HANDmFA.projection().crs()\n",
    "Map.addLayer(HANDmFA, {'palette':['0020ff'], 'opacity':0.8},'water (HAND < '+threshStr+'m, FA'+FAstr+')', False);\n"
   ]
  },
  {
   "cell_type": "code",
   "execution_count": null,
   "id": "812338f7-0a01-402d-b0ac-bc1ed08bc598",
   "metadata": {},
   "outputs": [],
   "source": [
    "# read and map HydroSHEDS river data\n",
    "dataset = ee.FeatureCollection('WWF/HydroSHEDS/v1/FreeFlowingRivers');\n",
    "# Paint \"RIV_ORD\" (river order) value to an image for visualization.\n",
    "datasetVis = ee.Image().byte().paint(dataset, 'RIV_ORD', 2);\n",
    "visParams = {'min': 1,'max': 10,'palette': ['08519c', '3182bd', '6baed6', 'bdd7e7', 'eff3ff']};\n",
    "\n",
    "# Map.addLayer(datasetVis, visParams, 'Free flowing rivers');\n",
    "#Map.addLayer(dataset, {}, 'Free flowing rivers', False);"
   ]
  },
  {
   "cell_type": "code",
   "execution_count": null,
   "id": "eb9e0805-361b-4829-ae56-e96839efcd06",
   "metadata": {},
   "outputs": [],
   "source": [
    "# Read surface water occurance\n",
    "water = ee.Image('JRC/GSW1_3/GlobalSurfaceWater').select(['occurrence']).gte(50);\n",
    "# water = water.reproject(**{'crs':HANDCRS,'scale':HANDscale})##'crsTransform':esa_PROJ.transform,\n",
    "\n",
    "#visualization = {'bands': ['occurrence'],'min': 50,'max': 100,'palette':['black'] };['ffffff', 'ffbbbb', '0000ff']\n",
    "# Map.addLayer(water, {'palette':['black']}, 'JRC Water occurrence',False);\n",
    "#var watermask = water.select('occurrence').gte(90).where(water.select('occurrence'),0).unmask(1).selfMask()\n"
   ]
  },
  {
   "cell_type": "code",
   "execution_count": null,
   "id": "bd455372-5ebc-4e4f-8ca7-d2f89a80eba1",
   "metadata": {},
   "outputs": [],
   "source": [
    "#Create combined water layer and mask\n",
    "#combWater = ee.ImageCollection([HANDmFA,water]).mosaic()\n",
    "combWater = HANDmFA.blend(water).gt(0)\n",
    "combWaterScale =combWater.projection().nominalScale()\n",
    "combWaterCRS =combWater.projection().crs()\n",
    "\n",
    "Map.addLayer(combWater, {'palette':['blue']}, 'Combined water',False);"
   ]
  },
  {
   "cell_type": "code",
   "execution_count": null,
   "id": "fd7b1289-ae0e-4fa2-9ab9-c6a2b8092a99",
   "metadata": {},
   "outputs": [],
   "source": [
    "# Buffer waterways by riparian zone definitions \n",
    "Distance = combWater.unmask().distance(ee.Kernel.euclidean(200, 'meters'))\n",
    "halfpixel = combWaterScale.multiply(0.5)\n",
    "## https://doi.org/10.1016/j.jenvman.2019.109391\n",
    "nutrientBuffer = Distance.updateMask(Distance.lte(ee.Number(3).subtract(halfpixel)))#.updateMask(Distance.gt(0))\n",
    "floraBuffer = Distance.updateMask(Distance.lte(ee.Number(24).subtract(halfpixel)))#.updateMask(Distance.gt(0))\n",
    "birdBuffer = Distance.updateMask(Distance.lte(ee.Number(144).subtract(halfpixel)))#.updateMask(Distance.gt(0))\n",
    "riparianBuffer = birdBuffer\n",
    "riparianMask = riparianBuffer.updateMask(riparianBuffer.gt(0))\n",
    "# riparianMask = riparianMask.reproject(**{'crs':greenCRS,'scale':greenScale})##'crsTransform':esa_PROJ.transform,\n",
    "\n",
    "# Map.addLayer(Distance,{'min': 0, 'max': 200},\"Distance\",False)\n",
    "#Map.addLayer(nutrientBuffer,{'min': 0, 'max': 200},\"nutrientBuffer\")\n",
    "#Map.addLayer(floraBuffer,{'min': 0, 'max': 200},\"floraBuffer\")\n",
    "#Map.addLayer(riparianBuffer,{'min': 0, 'max': 200},\"riparianBuffer\",False)\n",
    "Map.addLayer(riparianMask,{'min': 0, 'max': 200},\"riparianMask\")"
   ]
  },
  {
   "cell_type": "code",
   "execution_count": null,
   "id": "f5b1b32f-89ac-4508-a61b-279fe9f02805",
   "metadata": {},
   "outputs": [],
   "source": [
    "## Calculate and load vegetation and water cover rasters\n",
    "\n",
    "NDVIthreshold = 0.4 # decimal\n",
    "NDWIthreshold = 0.3 # decimal\n",
    "year = 2020\n",
    "\n",
    "yearStr = str(year)\n",
    "startdate = ''+yearStr+'-01-01'\n",
    "enddate = ''+yearStr+'-12-31'\n",
    "\n",
    "s2 = ee.ImageCollection(\"COPERNICUS/S2\")\n",
    "\n",
    "def addNDVI(image):\n",
    "  ndvi = image.normalizedDifference(['B8', 'B4']).rename('NDVI')\n",
    "  return image.addBands(ndvi)\n",
    "\n",
    "def addNDWI(image):\n",
    "  ndwi = image.normalizedDifference(['B3', 'B8']).rename('NDWI')\n",
    "  return image.addBands(ndwi)\n",
    "\n",
    "greenblue = s2.filterDate(startdate, enddate).map(addNDVI).map(addNDWI)\n",
    "green = greenblue.qualityMosaic('NDVI').select('NDVI').float();\n",
    "blue = greenblue.qualityMosaic('NDWI').select('NDWI').float();\n",
    "\n",
    "greenScale = green.projection().nominalScale()\n",
    "greenCRS = green.projection().crs()\n",
    "#green = green.addBands(ee.Image(year).rename('time_start'))\n",
    "greenmask = green.updateMask(green.select('NDVI').gte(NDVIthreshold))\n",
    "bluenmask = blue.updateMask(blue.select('NDWI').gte(NDWIthreshold))\n",
    "greenbluemask = greenmask.blend(bluenmask).rename('greenblue')\n",
    "# greenbluemask = greenbluemask.reproject(**{'crs':combWaterCRS,'scale':combWaterScale})##'crsTransform':esa_PROJ.transform,\n",
    "\n",
    "# Map.addLayer(greenmask,{},\"green areas\",False)\n",
    "Map.addLayer(greenbluemask,{},\"green/blue areas\",False)\n"
   ]
  },
  {
   "cell_type": "code",
   "execution_count": null,
   "id": "ad56f833-3631-4421-b836-acbc13f9ae61",
   "metadata": {},
   "outputs": [],
   "source": [
    "#mask green and blue pixels to riparian areas\n",
    "ripariangreenmask = greenmask.updateMask(riparianMask)\n",
    "# Map.addLayer(ripariangreenmask,{},\"green riparian areas\")\n",
    "\n",
    "ripariangreenbluemask = greenbluemask.updateMask(riparianMask)\n",
    "Map.addLayer(ripariangreenbluemask,{},\"green/blue riparian areas\")"
   ]
  },
  {
   "cell_type": "markdown",
   "id": "88e1c571-5f1e-4a24-8dd7-9222ffe1097a",
   "metadata": {
    "tags": []
   },
   "source": [
    "# Compute indicator"
   ]
  },
  {
   "cell_type": "code",
   "execution_count": null,
   "id": "d1fa5ee9-8643-433d-9275-0fbc3ba0230b",
   "metadata": {},
   "outputs": [],
   "source": [
    "# get list of c4f cities\n",
    "boundary_georef = pd.read_csv('https://cities-cities4forests.s3.eu-west-3.amazonaws.com/data/boundaries/v_0/boundary_georef.csv')\n",
    "boundary_georef"
   ]
  },
  {
   "cell_type": "code",
   "execution_count": null,
   "id": "2155f1c4-4efe-4b67-916f-29090041d975",
   "metadata": {},
   "outputs": [],
   "source": [
    "this_indicatorDF = pd.DataFrame() \n",
    "this_indicator = ee.FeatureCollection([])\n",
    "this_indicator"
   ]
  },
  {
   "cell_type": "code",
   "execution_count": null,
   "id": "8561afd3-02c3-4a46-b4b7-a3f5ae9c58d1",
   "metadata": {},
   "outputs": [],
   "source": [
    "# function to convert pixel counts to area percentages and save to FC as property\n",
    "def toPct(feat):\n",
    "    pctEq = ee.Number(1).subtract(((feat.getNumber('RiparianBlueGreenPixels')).divide(feat.getNumber('RiparianPixels'))))\n",
    "    pct = ee.Algorithms.If(\n",
    "        feat.getNumber('RiparianPixels').eq(0),\n",
    "        'NA',\n",
    "        ee.Algorithms.If(\n",
    "            pctEq.lte(0),\n",
    "            0,\n",
    "            pctEq)\n",
    "    )\n",
    "    return feat.set({\n",
    "        'PctRiparianwoBlueGreen_'+yearStr+'': pct\n",
    "  })"
   ]
  },
  {
   "cell_type": "code",
   "execution_count": null,
   "id": "627571f8-42ce-4aaf-b8fa-cea8770d6ec8",
   "metadata": {},
   "outputs": [],
   "source": [
    "# define calcuation function to get pixel counts, convert to percents and append to data frame\n",
    "def CountCalcsDF(FC,DF):\n",
    "    # reduce images to get vegetation and built-up pixel counts\n",
    "    pixelcounts = ripariangreenbluemask.reduceRegions(FC,ee.Reducer.count().setOutputs(['RiparianBlueGreenPixels']),combWaterScale)\n",
    "    pixelcounts = riparianMask.reduceRegions(pixelcounts,ee.Reducer.count().setOutputs(['RiparianPixels']),combWaterScale)\n",
    "\n",
    "    pixelcounts = pixelcounts.map(toPct).select(['geo_id','RiparianBlueGreenPixels','RiparianPixels','PctRiparianwoBlueGreen_'+yearStr+''])\n",
    "\n",
    "    # store in df and append\n",
    "    df = geemap.ee_to_pandas(pixelcounts)\n",
    "    df = df.rename(columns={'PctRiparianwoBlueGreen_'+yearStr+'': 'GRE_4_6_percentRiparianZonewoVegorWatercover'+yearStr+''})\n",
    "    DF = DF.append(df)\n",
    "    return DF\n"
   ]
  },
  {
   "cell_type": "code",
   "execution_count": null,
   "id": "5654a3cd-1bce-4d0c-8fcf-3ca921481811",
   "metadata": {},
   "outputs": [],
   "source": [
    "# use if using EE featurecollections for calculations\n",
    "# define calcuation function to get pixel counts, convert to percents and append to data frame\n",
    "def CountCalcsEE(FC,DF):\n",
    "    # reduce images to get vegetation and built-up pixel counts\n",
    "    pixelcounts = ripariangreenbluemask.reduceRegions(FC,ee.Reducer.count().setOutputs(['RiparianBlueGreenPixels']),combWaterScale)\n",
    "    pixelcounts = riparianMask.reduceRegions(pixelcounts,ee.Reducer.count().setOutputs(['RiparianPixels']),combWaterScale)\n",
    "\n",
    "    pixelcounts = pixelcounts.map(toPct).select(['geo_id','PctRiparianwoBlueGreen_'+yearStr+''])\n",
    "    \n",
    "    # amend existing FeatureCollection with pixel counts for new geographies\n",
    "    DF = ee.FeatureCollection([DF,pixelcounts]).flatten()\n",
    "    return DF\n"
   ]
  },
  {
   "cell_type": "code",
   "execution_count": null,
   "id": "b19a7e21-e324-45ec-bd84-51e0a682eaf2",
   "metadata": {},
   "outputs": [],
   "source": [
    "for i in range(0,len(boundary_georef)): #9,10):# for Mexico City\n",
    "    print(i)\n",
    "    geo_name = boundary_georef.loc[i, 'geo_name']\n",
    "    print(\"\\n geo_name: \"+geo_name)\n",
    "    \n",
    "    boundary_id_aoi = boundary_georef.loc[i, 'geo_name']+'-'+boundary_georef.loc[i, 'aoi_boundary_name']\n",
    "    boundary_id_unit = boundary_georef.loc[i, 'geo_name']+'-'+boundary_georef.loc[i, 'units_boundary_name']\n",
    "\n",
    "    \n",
    "    # process aoi level ------\n",
    "    print(\"\\n boundary_id_aoi: \"+boundary_id_aoi)\n",
    "    # read boundaries\n",
    "    boundary_path = aws_s3_dir +'/boundaries/v_0/boundary-'+boundary_id_aoi+'.geojson'\n",
    "    boundary_geo = requests.get(boundary_path).json()\n",
    "    boundary_geo_ee = geemap.geojson_to_ee(boundary_geo)\n",
    "    this_indicatorDF = CountCalcsDF(boundary_geo_ee,this_indicatorDF)\n",
    "    # this_indicator = CountCalcsEE(boundary_geo_ee,this_indicator) # run this instead if using CountCalcsEE approach\n",
    "\n",
    "\n",
    "    # process unit of analysis level ------\n",
    "    print(\"\\n boundary_id_unit: \"+boundary_id_unit)\n",
    "    # read boundaries\n",
    "    boundary_path = aws_s3_dir +'/boundaries/v_0/boundary-'+boundary_id_unit+'.geojson'\n",
    "    boundary_geo = requests.get(boundary_path).json()\n",
    "    boundary_geo_ee = geemap.geojson_to_ee(boundary_geo)\n",
    "    this_indicatorDF = CountCalcsDF(boundary_geo_ee,this_indicatorDF)\n",
    "    # this_indicator = CountCalcsEE(boundary_geo_ee,this_indicator) # run this instead if using CountCalcsEE approach\n"
   ]
  },
  {
   "cell_type": "code",
   "execution_count": null,
   "id": "6bf6671f-d6e4-4684-9d08-84f3a635be7d",
   "metadata": {},
   "outputs": [],
   "source": [
    "this_indicatorDF#.head(n=50)"
   ]
  },
  {
   "cell_type": "markdown",
   "id": "1492eef8-d72d-42ab-8631-2f26d5d75b7e",
   "metadata": {},
   "source": [
    "# Workaround for timeout problems for specific geographies"
   ]
  },
  {
   "cell_type": "code",
   "execution_count": null,
   "id": "c889190b-e5a2-47b5-bf7c-a31f9b4c4150",
   "metadata": {},
   "outputs": [],
   "source": [
    "    # if timeout problems for a geography, use CountCalcsEE and save ee.FeatureCollection as EE asset before coverting to dataframe\n",
    "    task = ee.batch.Export.table.toAsset(\n",
    "        collection = this_indicator, \n",
    "        description = 'thisindicator',\n",
    "        assetId = 'users/emackres/thisindicator',\n",
    "    )\n",
    "\n",
    "    task.start()"
   ]
  },
  {
   "cell_type": "code",
   "execution_count": null,
   "id": "68355b04-1bdd-43d3-8761-330167a0e9b8",
   "metadata": {},
   "outputs": [],
   "source": [
    "    task.status()"
   ]
  },
  {
   "cell_type": "code",
   "execution_count": null,
   "id": "bedc9638-ce67-499a-9ad2-d65491cfda24",
   "metadata": {},
   "outputs": [],
   "source": [
    "    # wait until EE asset is generated (with task status of \"COMPLETED\") before running\n",
    "    # store FC in df and apend to this_indicatorDF\n",
    "\n",
    "    FC = ee.FeatureCollection('users/emackres/thisindicator')\n",
    "    df = geemap.ee_to_pandas(FC)\n",
    "    df = df.rename(columns={'PctRiparianwoBlueGreen_'+yearStr+'': 'GRE_4_6_percentRiparianZonewoVegorWatercover'+yearStr+''})\n",
    "    this_indicatorDF = this_indicatorDF.append(df)\n"
   ]
  },
  {
   "cell_type": "code",
   "execution_count": null,
   "id": "dc8ba28c-f0f3-4a53-8243-cb35476f4d3d",
   "metadata": {},
   "outputs": [],
   "source": [
    "    this_indicatorDF"
   ]
  },
  {
   "cell_type": "code",
   "execution_count": null,
   "id": "2f63a9a9-5bb0-435c-bcfe-499eed1e77c5",
   "metadata": {},
   "outputs": [],
   "source": [
    "    #delete GEE asset \n",
    "    ee.data.deleteAsset('users/emackres/thisindicator')"
   ]
  },
  {
   "cell_type": "markdown",
   "id": "8d5abd9b-097c-4676-a500-ecd45ad77374",
   "metadata": {},
   "source": [
    "# Merge with indicator table"
   ]
  },
  {
   "cell_type": "code",
   "execution_count": null,
   "id": "731fba45-59b3-44fe-94a9-3520763dffed",
   "metadata": {},
   "outputs": [],
   "source": [
    "# read indicator table\n",
    "cities_indicators = pd.read_csv(aws_s3_dir + '/indicators/cities_indicators_v2test.csv') \n",
    "cities_indicators#.head()"
   ]
  },
  {
   "cell_type": "code",
   "execution_count": null,
   "id": "978df631-317b-4c42-8c8a-d8ee108e1715",
   "metadata": {},
   "outputs": [],
   "source": [
    "def merge_indicators(indicator_table, new_indicator_table, indicator_name):\n",
    "    if indicator_name in indicator_table.columns:\n",
    "        print(\"replace with new calculations\")\n",
    "        indicator_table.drop(indicator_name, inplace=True, axis=1)\n",
    "        new_indicator_table = new_indicator_table.drop_duplicates()\n",
    "        cities_indicators_df = indicator_table.merge(new_indicator_table[[\"geo_id\",indicator_name]], \n",
    "                                                     on='geo_id', \n",
    "                                                     how='left',\n",
    "                                                     validate='one_to_many')\n",
    "    else:\n",
    "        print(\"add new indicator\")\n",
    "        new_indicator_table = new_indicator_table.drop_duplicates()\n",
    "        cities_indicators_df = indicator_table.merge(new_indicator_table[[\"geo_id\",indicator_name]], \n",
    "                                                     on='geo_id', \n",
    "                                                     how='left',\n",
    "                                                     validate='one_to_many')\n",
    "    return(cities_indicators_df)"
   ]
  },
  {
   "cell_type": "code",
   "execution_count": null,
   "id": "ffa73a3a-ea72-42ab-81ed-589b95ef33ab",
   "metadata": {},
   "outputs": [],
   "source": [
    "cities_indicators_merged = merge_indicators(indicator_table = cities_indicators,\n",
    "                                            new_indicator_table = this_indicatorDF,\n",
    "                                            indicator_name = 'GRE_4_6_percentRiparianZonewoVegorWatercover'+yearStr+'')"
   ]
  },
  {
   "cell_type": "code",
   "execution_count": null,
   "id": "6c10c1e2-9aa9-4d43-a110-8550e4f36e0e",
   "metadata": {},
   "outputs": [],
   "source": [
    "cities_indicators_merged"
   ]
  },
  {
   "cell_type": "markdown",
   "id": "cba258d2-9e13-4fcc-bf22-4aeb3f359405",
   "metadata": {},
   "source": [
    "# Upload in aws s3"
   ]
  },
  {
   "cell_type": "code",
   "execution_count": null,
   "id": "4c059a57-b6a6-4354-b24b-f45102ec8399",
   "metadata": {},
   "outputs": [],
   "source": [
    "# connect to s3\n",
    "aws_credentials = pd.read_csv('/home/jovyan/PlanetaryComputerExamples/aws_credentials.csv')\n",
    "aws_key = aws_credentials.iloc[0]['Access key ID']\n",
    "aws_secret = aws_credentials.iloc[0]['Secret access key']\n",
    "\n",
    "s3 = boto3.resource(\n",
    "    service_name='s3',\n",
    "    aws_access_key_id=aws_key,\n",
    "    aws_secret_access_key=aws_secret\n",
    ")"
   ]
  },
  {
   "cell_type": "code",
   "execution_count": null,
   "id": "1a2235f8-fb77-40f6-91d8-908dca3fd164",
   "metadata": {},
   "outputs": [],
   "source": [
    "# upload to aws\n",
    "key_data = 'data/indicators/cities_indicators_v2test.csv'\n",
    "bucket_name = 'cities-cities4forests' \n",
    "cities_indicators_merged.to_csv(\n",
    "    f\"s3://{bucket_name}/{key_data}\",\n",
    "    index=False,\n",
    "    storage_options={\n",
    "        \"key\": aws_key,\n",
    "        \"secret\": aws_secret\n",
    "    },\n",
    ")"
   ]
  },
  {
   "cell_type": "code",
   "execution_count": null,
   "id": "db9ed391-015d-4778-acc5-37c0c7a04703",
   "metadata": {},
   "outputs": [],
   "source": [
    "# make it public\n",
    "object_acl = s3.ObjectAcl(bucket_name,key_data)\n",
    "response = object_acl.put(ACL='public-read')"
   ]
  },
  {
   "cell_type": "code",
   "execution_count": null,
   "id": "ecf202dd-5adf-44d6-83b2-bcba1e8e3d11",
   "metadata": {},
   "outputs": [],
   "source": []
  }
 ],
 "metadata": {
  "kernelspec": {
   "display_name": "Python 3 (ipykernel)",
   "language": "python",
   "name": "python3"
  },
  "language_info": {
   "codemirror_mode": {
    "name": "ipython",
    "version": 3
   },
   "file_extension": ".py",
   "mimetype": "text/x-python",
   "name": "python",
   "nbconvert_exporter": "python",
   "pygments_lexer": "ipython3",
   "version": "3.10.6"
  }
 },
 "nbformat": 4,
 "nbformat_minor": 5
}
