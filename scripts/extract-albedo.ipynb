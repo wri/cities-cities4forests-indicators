{
 "cells": [
  {
   "cell_type": "code",
   "execution_count": null,
   "id": "30ea11e8-dd5e-4c74-be11-497feb22a025",
   "metadata": {},
   "outputs": [],
   "source": [
    "# import sys\n",
    "# !{sys.executable} -m pip install pip earthengine-api\n",
    "# !{sys.executable} -m pip install pip geemap[all]"
   ]
  },
  {
   "cell_type": "code",
   "execution_count": null,
   "id": "035461fb-746d-4367-b887-f98fb8677eb9",
   "metadata": {},
   "outputs": [],
   "source": [
    "import ee\n",
    "# ee.Authenticate()"
   ]
  },
  {
   "cell_type": "code",
   "execution_count": null,
   "id": "1d44b9e6-310f-45fb-bf42-acf0277df0ab",
   "metadata": {},
   "outputs": [],
   "source": [
    "ee.Initialize()"
   ]
  },
  {
   "cell_type": "code",
   "execution_count": null,
   "id": "d3b9ad94-518d-4e80-8f70-3dcb8909f5e0",
   "metadata": {},
   "outputs": [],
   "source": [
    "import geemap\n",
    "import ipyleaflet\n",
    "import numpy as np\n",
    "import requests\n",
    "import os\n",
    "import pandas as pd\n",
    "import rasterio\n",
    "import boto3\n",
    "import geopandas as gpd\n",
    "import glob"
   ]
  },
  {
   "cell_type": "markdown",
   "id": "c02f5a68-86a7-4a3e-8c59-a3071d2ecc56",
   "metadata": {},
   "source": [
    "# Load data"
   ]
  },
  {
   "cell_type": "code",
   "execution_count": null,
   "id": "741d7a78-844f-44ab-97b0-49b57f018daa",
   "metadata": {},
   "outputs": [],
   "source": [
    "## Read Land use land cover dataset\n",
    "WC = ee.ImageCollection(\"ESA/WorldCover/v100\")\n",
    "WorldCover = WC.first();\n",
    "\n",
    "## define projection for use later\n",
    "WCprojection = WC.first().projection();  \n",
    "print('WorldCover projection:', WCprojection.getInfo());"
   ]
  },
  {
   "cell_type": "code",
   "execution_count": null,
   "id": "65c1fa38-fcf0-4d25-a020-16952a4cc9e3",
   "metadata": {},
   "outputs": [],
   "source": [
    "# get list of urbanshift cities\n",
    "boundary_georef = pd.read_csv('https://cities-cities4forests.s3.eu-west-3.amazonaws.com/data/boundaries/v_0/geo_ref.csv') \n",
    "print(boundary_georef.to_string())"
   ]
  },
  {
   "cell_type": "markdown",
   "id": "6535d63b-696b-4500-9c15-39f912e1575e",
   "metadata": {},
   "source": [
    "# Extract albedo by city"
   ]
  },
  {
   "cell_type": "code",
   "execution_count": null,
   "id": "a57b90d1-1a46-4e2f-890d-cbd4b3f6394a",
   "metadata": {},
   "outputs": [],
   "source": [
    "# set date range of interest for albedo calculation, image limit and albedo threshold\n",
    "\n",
    "date_start = '2021-01-01'\n",
    "date_end = '2022-01-01'\n",
    "image_limit = 50 # max number of images to include, sorted from least to most cloudy\n",
    "\n",
    "# define \"low albedo\" threshold\n",
    "LowAlbedoMax = 0.20 # EnergyStar steep slope minimum initial value is 0.25. 3-year value is 0.15. https://www.energystar.gov/products/building_products/roof_products/key_product_criteria\n"
   ]
  },
  {
   "cell_type": "code",
   "execution_count": null,
   "id": "0c6f60e9-1d15-45f6-af20-114f8f78416b",
   "metadata": {},
   "outputs": [],
   "source": [
    "## Configure methods\n",
    "\n",
    "# Read relevant Sentinel-2 data\n",
    "S2 = ee.ImageCollection(\"COPERNICUS/S2_SR\")\n",
    "S2C = ee.ImageCollection(\"COPERNICUS/S2_CLOUD_PROBABILITY\")\n",
    "\n",
    "MAX_CLOUD_PROB=30\n",
    "S2_ALBEDO_EQN='((B*Bw)+(G*Gw)+(R*Rw)+(NIR*NIRw)+(SWIR1*SWIR1w)+(SWIR2*SWIR2w))'\n",
    "S2_VIZ = {'bands': ['B4', 'B3', 'B2'], 'min': 0, 'max': 0.3};\n",
    "\n",
    "\n",
    "## METHODS\n",
    "\n",
    "## get cloudmasked image collection \n",
    "\n",
    "def mask_and_count_clouds(s2wc,geom):\n",
    "  s2wc=ee.Image(s2wc)\n",
    "  geom=ee.Geometry(geom.geometry())\n",
    "  is_cloud=ee.Image(s2wc.get('cloud_mask')).gt(MAX_CLOUD_PROB).rename('is_cloud')\n",
    "  nb_cloudy_pixels=is_cloud.reduceRegion(\n",
    "    reducer=ee.Reducer.sum().unweighted(), \n",
    "    geometry=geom, \n",
    "    scale=10, \n",
    "    maxPixels=1e9\n",
    "   )\n",
    "  return s2wc.updateMask(is_cloud.eq(0)).set('nb_cloudy_pixels',nb_cloudy_pixels.getNumber('is_cloud')).divide(10000)\n",
    "\n",
    "def mask_clouds_and_rescale(im):\n",
    "    clouds=ee.Image(im.get('cloud_mask')).select('probability')\n",
    "    return im.updateMask(clouds.lt(MAX_CLOUD_PROB)).divide(10000)\n",
    "\n",
    "def get_masked_s2_collection(roi,start,end):\n",
    "  criteria=(ee.Filter.And(\n",
    "            ee.Filter.date(start,end),\n",
    "            ee.Filter.bounds(roi)\n",
    "        ))\n",
    "  s2=S2.filter(criteria)#.select('B2','B3','B4','B8','B11','B12')\n",
    "  s2c=S2C.filter(criteria)\n",
    "  s2_with_clouds=(ee.Join.saveFirst('cloud_mask').apply(**{\n",
    "        'primary': ee.ImageCollection(s2),\n",
    "        'secondary': ee.ImageCollection(s2c),\n",
    "        'condition': ee.Filter.equals(**{'leftField':'system:index','rightField':'system:index'}) \n",
    "        }))\n",
    "  def _mcc(im):\n",
    "      return mask_and_count_clouds(im,roi) \n",
    "  #s2_with_clouds=ee.ImageCollection(s2_with_clouds).map(_mcc)\n",
    "  #s2_with_clouds=s2_with_clouds.limit(image_limit,'nb_cloudy_pixels')\n",
    "  s2_with_clouds=ee.ImageCollection(s2_with_clouds).map(mask_clouds_and_rescale)#.limit(image_limit,'CLOUDY_PIXEL_PERCENTAGE')\n",
    "  return  ee.ImageCollection(s2_with_clouds)\n",
    "\n",
    "# calculate albedo for images\n",
    "\n",
    "# weights derived from \n",
    "# S. Bonafoni and A. Sekertekin, \"Albedo Retrieval From Sentinel-2 by New Narrow-to-Broadband Conversion Coefficients,\" in IEEE Geoscience and Remote Sensing Letters, vol. 17, no. 9, pp. 1618-1622, Sept. 2020, doi: 10.1109/LGRS.2020.2967085.\n",
    "def calc_s2_albedo(image):\n",
    "  config={\n",
    "    'Bw':0.2266,\n",
    "    'Gw':0.1236,\n",
    "    'Rw':0.1573,\n",
    "    'NIRw':0.3417,\n",
    "    'SWIR1w':0.1170,\n",
    "    'SWIR2w':0.0338,\n",
    "    'B':image.select('B2'),\n",
    "    'G':image.select('B3'),\n",
    "    'R':image.select('B4'),\n",
    "    'NIR':image.select('B8'),\n",
    "    'SWIR1':image.select('B11'),\n",
    "    'SWIR2':image.select('B12')\n",
    "  }\n",
    "  return image.expression(S2_ALBEDO_EQN,config).double().rename('albedo')\n"
   ]
  },
  {
   "cell_type": "code",
   "execution_count": null,
   "id": "196a4d67-0243-48d1-ae95-aa90ed0cafa3",
   "metadata": {},
   "outputs": [],
   "source": [
    "for i in range(0,len(boundary_georef)):\n",
    "    print(i)\n",
    "    boundary_id = boundary_georef.loc[i, 'geo_name']+'-'+boundary_georef.loc[i, 'aoi_boundary_name']\n",
    "    print(boundary_id)\n",
    "    \n",
    "    # read boundaries\n",
    "    boundary_path = 'https://cities-cities4forests.s3.eu-west-3.amazonaws.com/data/boundaries/v_0/boundary-'+boundary_id+'.geojson'\n",
    "    boundary_geo = requests.get(boundary_path).json()\n",
    "    boundary_geo_ee = geemap.geojson_to_ee(boundary_geo)\n",
    "    \n",
    "    ## S2 MOSAIC AND ALBEDO\n",
    "    dataset = get_masked_s2_collection(boundary_geo_ee,date_start,date_end)\n",
    "    s2_albedo = dataset.map(calc_s2_albedo)\n",
    "    mosaic=dataset.mean()\n",
    "    albedoMean=s2_albedo.reduce(ee.Reducer.mean())\n",
    "    albedoMean=albedoMean.multiply(100).round().toByte() # .toFloat() # # toByte() or toFloat() to reduce file size of export\n",
    "    albedoMean=albedoMean.updateMask(albedoMean.gt(0)) # to mask 0/NoData values in toByte() format\n",
    "    albedoMeanThres = albedoMean.updateMask(albedoMean.lt(LowAlbedoMax))\n",
    "\n",
    "    # Download ee.Image of albedo as GeoTIFF\n",
    "    geemap.ee_export_image_to_drive(\n",
    "        albedoMean, \n",
    "        description = boundary_id + '-S2-albedo',\n",
    "        folder='data', \n",
    "        scale=10, \n",
    "        region=boundary_geo_ee.geometry(),\n",
    "        maxPixels = 5000000000\n",
    "    )"
   ]
  },
  {
   "cell_type": "markdown",
   "id": "48219700-c1de-4192-ac46-2455d81664a1",
   "metadata": {},
   "source": [
    "# Upload in aws\n",
    "\n",
    "Since we can't download directly the rasters locally due to their size, the rasters are stored in a google-drive folder and then downloaded locally in order to push them back to s3 bucket."
   ]
  },
  {
   "cell_type": "code",
   "execution_count": null,
   "id": "cb8fac46-b020-4d00-bb3e-9ec76687936d",
   "metadata": {},
   "outputs": [],
   "source": [
    "# connect to s3\n",
    "aws_credentials = pd.read_csv('/home/jovyan/PlanetaryComputerExamples/aws_credentials.csv')\n",
    "aws_key = aws_credentials.iloc[0]['Access key ID']\n",
    "aws_secret = aws_credentials.iloc[0]['Secret access key']\n",
    "\n",
    "s3 = boto3.resource(\n",
    "    service_name='s3',\n",
    "    aws_access_key_id=aws_key,\n",
    "    aws_secret_access_key=aws_secret\n",
    ")\n",
    "\n",
    "# specify bucket name\n",
    "bucket_name = 'cities-cities4forests' "
   ]
  },
  {
   "cell_type": "code",
   "execution_count": null,
   "id": "3ccb5f0d-d71d-4d10-83d1-571e52dc3cd4",
   "metadata": {},
   "outputs": [],
   "source": [
    "out_dir = os.getcwd()"
   ]
  },
  {
   "cell_type": "code",
   "execution_count": null,
   "id": "2ae44f0f-b2ce-4409-898e-cbf62288a7ae",
   "metadata": {},
   "outputs": [],
   "source": [
    "for i in range(0, len(boundary_georef)):\n",
    "    boundary_id = boundary_georef.loc[i, 'geo_name']+'-'+boundary_georef.loc[i, 'aoi_boundary_name']\n",
    "    geo_name = boundary_georef.loc[i, 'geo_name']\n",
    "    print(\"\\n boundary_id: \"+boundary_id)\n",
    "\n",
    "    # read local raster\n",
    "    city_file = 'data/' + boundary_id +'-S2-albedo.tif'\n",
    "    raster_path = os.path.join(out_dir, city_file)\n",
    "    \n",
    "    # upload in s3\n",
    "    s3.meta.client.upload_file(raster_path, \n",
    "                               bucket_name, \n",
    "                               'data/albedo/sentinel-2/v_0/'+ boundary_id + '-S2-albedo-2021.tif',\n",
    "                               ExtraArgs={'ACL':'public-read'})"
   ]
  },
  {
   "cell_type": "markdown",
   "id": "2f7dcc1b-04eb-4704-8f14-d405a3ecd76c",
   "metadata": {},
   "source": [
    "# Visualize data"
   ]
  },
  {
   "cell_type": "code",
   "execution_count": null,
   "id": "196625f2-a39e-4035-99b2-a1582bd61b16",
   "metadata": {},
   "outputs": [],
   "source": [
    "## create map\n",
    "Map = geemap.Map(height=\"350px\")\n",
    "Map"
   ]
  },
  {
   "cell_type": "code",
   "execution_count": null,
   "id": "93d53861-a215-414f-b686-4a945cb1dd8c",
   "metadata": {},
   "outputs": [],
   "source": [
    "## add basemap and center on area of interest\n",
    "Map.add_basemap('HYBRID')\n",
    "Map.centerObject(boundary_geo_ee, zoom=8)"
   ]
  },
  {
   "cell_type": "code",
   "execution_count": null,
   "id": "dd8ce425-2fe0-4455-a741-1045dc49eb47",
   "metadata": {},
   "outputs": [],
   "source": [
    "Map.addLayer(albedoMean),\n",
    "             {'min':0, 'max':0.5, 'palette':['white','#006400']},\n",
    "             'Tree Cover 2020 (WRI Trees in Mosaic Landscapes)',True,1)"
   ]
  }
 ],
 "metadata": {
  "kernelspec": {
   "display_name": "Python 3 (ipykernel)",
   "language": "python",
   "name": "python3"
  },
  "language_info": {
   "codemirror_mode": {
    "name": "ipython",
    "version": 3
   },
   "file_extension": ".py",
   "mimetype": "text/x-python",
   "name": "python",
   "nbconvert_exporter": "python",
   "pygments_lexer": "ipython3",
   "version": "3.8.13"
  }
 },
 "nbformat": 4,
 "nbformat_minor": 5
}
