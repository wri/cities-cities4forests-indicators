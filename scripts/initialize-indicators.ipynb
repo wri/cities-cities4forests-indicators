{
 "cells": [
  {
   "cell_type": "code",
   "execution_count": 1,
   "id": "932b0202-c9e1-4aaf-b6bb-5721b016fd15",
   "metadata": {},
   "outputs": [],
   "source": [
    "import geopandas as gpd\n",
    "import pandas as pd\n",
    "import os\n",
    "import io\n",
    "import requests\n",
    "import boto3"
   ]
  },
  {
   "cell_type": "markdown",
   "id": "1b0a9de6-9352-401c-97a3-0f6a89581aad",
   "metadata": {
    "tags": []
   },
   "source": [
    "# Load all features"
   ]
  },
  {
   "cell_type": "code",
   "execution_count": 8,
   "id": "365ca1e0-6c62-490b-b5cd-488ece800c20",
   "metadata": {},
   "outputs": [
    {
     "data": {
      "text/html": [
       "<div>\n",
       "<style scoped>\n",
       "    .dataframe tbody tr th:only-of-type {\n",
       "        vertical-align: middle;\n",
       "    }\n",
       "\n",
       "    .dataframe tbody tr th {\n",
       "        vertical-align: top;\n",
       "    }\n",
       "\n",
       "    .dataframe thead th {\n",
       "        text-align: right;\n",
       "    }\n",
       "</style>\n",
       "<table border=\"1\" class=\"dataframe\">\n",
       "  <thead>\n",
       "    <tr style=\"text-align: right;\">\n",
       "      <th></th>\n",
       "      <th>geo_id</th>\n",
       "      <th>geo_level</th>\n",
       "      <th>geo_name</th>\n",
       "      <th>geo_parent_name</th>\n",
       "      <th>creation_date</th>\n",
       "      <th>geometry</th>\n",
       "    </tr>\n",
       "  </thead>\n",
       "  <tbody>\n",
       "    <tr>\n",
       "      <th>0</th>\n",
       "      <td>BRA-Salvador_ADM4_1</td>\n",
       "      <td>ADM4</td>\n",
       "      <td>Pituaçu</td>\n",
       "      <td>BRA-Salvador</td>\n",
       "      <td>2022-08-03</td>\n",
       "      <td>MULTIPOLYGON (((-38.40125 -12.96457, -38.40126...</td>\n",
       "    </tr>\n",
       "    <tr>\n",
       "      <th>1</th>\n",
       "      <td>BRA-Salvador_ADM4_2</td>\n",
       "      <td>ADM4</td>\n",
       "      <td>Patamares</td>\n",
       "      <td>BRA-Salvador</td>\n",
       "      <td>2022-08-03</td>\n",
       "      <td>MULTIPOLYGON (((-38.39898 -12.96269, -38.39898...</td>\n",
       "    </tr>\n",
       "    <tr>\n",
       "      <th>2</th>\n",
       "      <td>BRA-Salvador_ADM4_3</td>\n",
       "      <td>ADM4</td>\n",
       "      <td>Piatã</td>\n",
       "      <td>BRA-Salvador</td>\n",
       "      <td>2022-08-03</td>\n",
       "      <td>MULTIPOLYGON (((-38.37346 -12.93345, -38.37386...</td>\n",
       "    </tr>\n",
       "    <tr>\n",
       "      <th>3</th>\n",
       "      <td>BRA-Salvador_ADM4_4</td>\n",
       "      <td>ADM4</td>\n",
       "      <td>Boca do Rio</td>\n",
       "      <td>BRA-Salvador</td>\n",
       "      <td>2022-08-03</td>\n",
       "      <td>MULTIPOLYGON (((-38.41741 -12.97578, -38.41746...</td>\n",
       "    </tr>\n",
       "    <tr>\n",
       "      <th>4</th>\n",
       "      <td>BRA-Salvador_ADM4_5</td>\n",
       "      <td>ADM4</td>\n",
       "      <td>Jardim Armação</td>\n",
       "      <td>BRA-Salvador</td>\n",
       "      <td>2022-08-03</td>\n",
       "      <td>MULTIPOLYGON (((-38.43383 -12.98742, -38.43386...</td>\n",
       "    </tr>\n",
       "  </tbody>\n",
       "</table>\n",
       "</div>"
      ],
      "text/plain": [
       "                geo_id geo_level        geo_name geo_parent_name  \\\n",
       "0  BRA-Salvador_ADM4_1      ADM4         Pituaçu    BRA-Salvador   \n",
       "1  BRA-Salvador_ADM4_2      ADM4       Patamares    BRA-Salvador   \n",
       "2  BRA-Salvador_ADM4_3      ADM4           Piatã    BRA-Salvador   \n",
       "3  BRA-Salvador_ADM4_4      ADM4     Boca do Rio    BRA-Salvador   \n",
       "4  BRA-Salvador_ADM4_5      ADM4  Jardim Armação    BRA-Salvador   \n",
       "\n",
       "  creation_date                                           geometry  \n",
       "0    2022-08-03  MULTIPOLYGON (((-38.40125 -12.96457, -38.40126...  \n",
       "1    2022-08-03  MULTIPOLYGON (((-38.39898 -12.96269, -38.39898...  \n",
       "2    2022-08-03  MULTIPOLYGON (((-38.37346 -12.93345, -38.37386...  \n",
       "3    2022-08-03  MULTIPOLYGON (((-38.41741 -12.97578, -38.41746...  \n",
       "4    2022-08-03  MULTIPOLYGON (((-38.43383 -12.98742, -38.43386...  "
      ]
     },
     "execution_count": 8,
     "metadata": {},
     "output_type": "execute_result"
    }
   ],
   "source": [
    "# get all urbanshift cities boundaries at different levels\n",
    "boundaries_cities_c4f = gpd.read_file('https://cities-cities4forests.s3.eu-west-3.amazonaws.com/data/boundaries/v_0/boundary-cities-cities4forests.geojson')\n",
    "boundaries_cities_c4f.head()"
   ]
  },
  {
   "cell_type": "markdown",
   "id": "5eb2c72e-3ccd-44ef-9438-97279595d57c",
   "metadata": {
    "tags": []
   },
   "source": [
    "# Create empty indicator data frame"
   ]
  },
  {
   "cell_type": "code",
   "execution_count": 9,
   "id": "6bc8343f-6679-4f28-9e4b-bc323d3eb55a",
   "metadata": {},
   "outputs": [
    {
     "data": {
      "text/html": [
       "<div>\n",
       "<style scoped>\n",
       "    .dataframe tbody tr th:only-of-type {\n",
       "        vertical-align: middle;\n",
       "    }\n",
       "\n",
       "    .dataframe tbody tr th {\n",
       "        vertical-align: top;\n",
       "    }\n",
       "\n",
       "    .dataframe thead th {\n",
       "        text-align: right;\n",
       "    }\n",
       "</style>\n",
       "<table border=\"1\" class=\"dataframe\">\n",
       "  <thead>\n",
       "    <tr style=\"text-align: right;\">\n",
       "      <th></th>\n",
       "      <th>geo_id</th>\n",
       "      <th>geo_level</th>\n",
       "      <th>geo_name</th>\n",
       "      <th>geo_parent_name</th>\n",
       "    </tr>\n",
       "  </thead>\n",
       "  <tbody>\n",
       "    <tr>\n",
       "      <th>0</th>\n",
       "      <td>BRA-Salvador_ADM4_1</td>\n",
       "      <td>ADM4</td>\n",
       "      <td>Pituaçu</td>\n",
       "      <td>BRA-Salvador</td>\n",
       "    </tr>\n",
       "    <tr>\n",
       "      <th>1</th>\n",
       "      <td>BRA-Salvador_ADM4_2</td>\n",
       "      <td>ADM4</td>\n",
       "      <td>Patamares</td>\n",
       "      <td>BRA-Salvador</td>\n",
       "    </tr>\n",
       "    <tr>\n",
       "      <th>2</th>\n",
       "      <td>BRA-Salvador_ADM4_3</td>\n",
       "      <td>ADM4</td>\n",
       "      <td>Piatã</td>\n",
       "      <td>BRA-Salvador</td>\n",
       "    </tr>\n",
       "    <tr>\n",
       "      <th>3</th>\n",
       "      <td>BRA-Salvador_ADM4_4</td>\n",
       "      <td>ADM4</td>\n",
       "      <td>Boca do Rio</td>\n",
       "      <td>BRA-Salvador</td>\n",
       "    </tr>\n",
       "    <tr>\n",
       "      <th>4</th>\n",
       "      <td>BRA-Salvador_ADM4_5</td>\n",
       "      <td>ADM4</td>\n",
       "      <td>Jardim Armação</td>\n",
       "      <td>BRA-Salvador</td>\n",
       "    </tr>\n",
       "  </tbody>\n",
       "</table>\n",
       "</div>"
      ],
      "text/plain": [
       "                geo_id geo_level        geo_name geo_parent_name\n",
       "0  BRA-Salvador_ADM4_1      ADM4         Pituaçu    BRA-Salvador\n",
       "1  BRA-Salvador_ADM4_2      ADM4       Patamares    BRA-Salvador\n",
       "2  BRA-Salvador_ADM4_3      ADM4           Piatã    BRA-Salvador\n",
       "3  BRA-Salvador_ADM4_4      ADM4     Boca do Rio    BRA-Salvador\n",
       "4  BRA-Salvador_ADM4_5      ADM4  Jardim Armação    BRA-Salvador"
      ]
     },
     "execution_count": 9,
     "metadata": {},
     "output_type": "execute_result"
    }
   ],
   "source": [
    "# create the table\n",
    "cities_indicators_df = pd.DataFrame(boundaries_cities_c4f.drop(columns=['geometry','creation_date']))\n",
    "cities_indicators_df.head()"
   ]
  },
  {
   "cell_type": "markdown",
   "id": "438d1a5c-c23f-4814-91e8-fa384f826d9e",
   "metadata": {
    "tags": []
   },
   "source": [
    "# Upload in aws s3"
   ]
  },
  {
   "cell_type": "code",
   "execution_count": 10,
   "id": "e17ad45e-b009-4f3e-aaa0-c570ff9f0200",
   "metadata": {},
   "outputs": [],
   "source": [
    "# connect to s3\n",
    "aws_credentials = pd.read_csv('C:\\\\Users\\\\Saif.Shabou\\\\OneDrive - World Resources Institute\\\\Documents\\\\aws\\\\credentials.csv')\n",
    "aws_key = aws_credentials.iloc[0]['Access key ID']\n",
    "aws_secret = aws_credentials.iloc[0]['Secret access key']\n",
    "\n",
    "s3 = boto3.resource(\n",
    "    service_name='s3',\n",
    "    aws_access_key_id=aws_key,\n",
    "    aws_secret_access_key=aws_secret\n",
    ")"
   ]
  },
  {
   "cell_type": "code",
   "execution_count": 11,
   "id": "eedcab66-c2b3-41b7-9b1d-4939d3a30e07",
   "metadata": {},
   "outputs": [],
   "source": [
    "# upload to aws\n",
    "key_data = 'data/indicators/cities_indicators.csv'\n",
    "bucket_name = 'cities-cities4forests' \n",
    "cities_indicators_df.to_csv(\n",
    "    f\"s3://{bucket_name}/{key_data}\",\n",
    "    index=False,\n",
    "    storage_options={\n",
    "        \"key\": aws_key,\n",
    "        \"secret\": aws_secret\n",
    "    },\n",
    ")"
   ]
  },
  {
   "cell_type": "code",
   "execution_count": 12,
   "id": "efe16dc8-e5c0-44f5-87bc-609767609a02",
   "metadata": {},
   "outputs": [],
   "source": [
    "# make it public\n",
    "object_acl = s3.ObjectAcl(bucket_name,key_data)\n",
    "response = object_acl.put(ACL='public-read')"
   ]
  },
  {
   "cell_type": "code",
   "execution_count": null,
   "id": "14eb28f6-593c-43d4-9fe7-e3fb956993fa",
   "metadata": {},
   "outputs": [],
   "source": []
  }
 ],
 "metadata": {
  "kernelspec": {
   "display_name": "Python 3 (ipykernel)",
   "language": "python",
   "name": "python3"
  },
  "language_info": {
   "codemirror_mode": {
    "name": "ipython",
    "version": 3
   },
   "file_extension": ".py",
   "mimetype": "text/x-python",
   "name": "python",
   "nbconvert_exporter": "python",
   "pygments_lexer": "ipython3",
   "version": "3.10.5"
  }
 },
 "nbformat": 4,
 "nbformat_minor": 5
}
