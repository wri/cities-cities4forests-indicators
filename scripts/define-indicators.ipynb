{
 "cells": [
  {
   "cell_type": "code",
   "execution_count": 22,
   "id": "f5d75c5e-c723-47b7-9c04-96144a52d96b",
   "metadata": {},
   "outputs": [],
   "source": [
    "import os\n",
    "import pandas as pd\n",
    "import boto3"
   ]
  },
  {
   "cell_type": "code",
   "execution_count": 23,
   "id": "c262e06e-de29-4f0f-a033-27dcc3a49eb1",
   "metadata": {},
   "outputs": [
    {
     "name": "stdout",
     "output_type": "stream",
     "text": [
      "Empty DataFrame\n",
      "Columns: [theme, indicator_label, indicator_code, indicator_name, indicator_definition, data_sources, importance, methods]\n",
      "Index: []\n"
     ]
    }
   ],
   "source": [
    "# create an Empty pandas DataFrame with column names\n",
    "indicators_definitions = pd.DataFrame(columns = ['theme', 'indicator_label', 'indicator_code','indicator_name',\n",
    "                                                 'indicator_definition','data_sources','importance','methods'])\n",
    "print(indicators_definitions)"
   ]
  },
  {
   "cell_type": "markdown",
   "id": "ee53b994-5a5b-480d-a624-c709cf7097ca",
   "metadata": {},
   "source": [
    "# Theme: Health - Heat"
   ]
  },
  {
   "cell_type": "markdown",
   "id": "69330815-5ec1-4245-9402-1a27b1c047e5",
   "metadata": {},
   "source": [
    "## Indicator: Percent of Tree cover"
   ]
  },
  {
   "cell_type": "code",
   "execution_count": 24,
   "id": "594ee764-4977-4649-864b-6b44f8fb5a9b",
   "metadata": {},
   "outputs": [
    {
     "name": "stderr",
     "output_type": "stream",
     "text": [
      "C:\\Users\\Saif.Shabou\\AppData\\Local\\Temp\\ipykernel_21848\\2195164166.py:2: FutureWarning: The frame.append method is deprecated and will be removed from pandas in a future version. Use pandas.concat instead.\n",
      "  indicators_definitions = indicators_definitions.append({'theme' : 'Health - Heat',\n"
     ]
    },
    {
     "data": {
      "text/html": [
       "<div>\n",
       "<style scoped>\n",
       "    .dataframe tbody tr th:only-of-type {\n",
       "        vertical-align: middle;\n",
       "    }\n",
       "\n",
       "    .dataframe tbody tr th {\n",
       "        vertical-align: top;\n",
       "    }\n",
       "\n",
       "    .dataframe thead th {\n",
       "        text-align: right;\n",
       "    }\n",
       "</style>\n",
       "<table border=\"1\" class=\"dataframe\">\n",
       "  <thead>\n",
       "    <tr style=\"text-align: right;\">\n",
       "      <th></th>\n",
       "      <th>theme</th>\n",
       "      <th>indicator_label</th>\n",
       "      <th>indicator_code</th>\n",
       "      <th>indicator_name</th>\n",
       "      <th>indicator_definition</th>\n",
       "      <th>data_sources</th>\n",
       "      <th>importance</th>\n",
       "      <th>methods</th>\n",
       "    </tr>\n",
       "  </thead>\n",
       "  <tbody>\n",
       "    <tr>\n",
       "      <th>0</th>\n",
       "      <td>Health - Heat</td>\n",
       "      <td>Percent of Tree cover</td>\n",
       "      <td>HEA_1</td>\n",
       "      <td>percent_of_tree_cover</td>\n",
       "      <td>This indicator is computed as the average perc...</td>\n",
       "      <td>Tree Mosaic Land</td>\n",
       "      <td></td>\n",
       "      <td></td>\n",
       "    </tr>\n",
       "  </tbody>\n",
       "</table>\n",
       "</div>"
      ],
      "text/plain": [
       "           theme        indicator_label indicator_code         indicator_name  \\\n",
       "0  Health - Heat  Percent of Tree cover          HEA_1  percent_of_tree_cover   \n",
       "\n",
       "                                indicator_definition      data_sources  \\\n",
       "0  This indicator is computed as the average perc...  Tree Mosaic Land   \n",
       "\n",
       "  importance methods  \n",
       "0                     "
      ]
     },
     "execution_count": 24,
     "metadata": {},
     "output_type": "execute_result"
    }
   ],
   "source": [
    "# Percent of Tree cover\n",
    "indicators_definitions = indicators_definitions.append({'theme' : 'Health - Heat', \n",
    "                                                        'indicator_label' : 'Percent of Tree cover', \n",
    "                                                        'indicator_code' : 'HEA_1',\n",
    "                                                        'indicator_name' : 'percent_of_tree_cover',\n",
    "                                                       'indicator_definition' : 'This indicator is computed as the average percent of area with tree cover within the administrative boundaries of the city.',\n",
    "                                                       'data_sources' : 'Tree Mosaic Land',\n",
    "                                                       'importance' : ' ',\n",
    "                                                       'methods' : ' '}, \n",
    "                                                       ignore_index = True)\n",
    "indicators_definitions"
   ]
  },
  {
   "cell_type": "markdown",
   "id": "3a4ed207-5899-4a9d-8e3d-fd3594ea1a5c",
   "metadata": {},
   "source": [
    "# Theme: Greenspace access"
   ]
  },
  {
   "cell_type": "markdown",
   "id": "09de12c9-6a96-4a34-8872-6c3549a3d0ed",
   "metadata": {},
   "source": [
    "## Indicator: Open space for public use"
   ]
  },
  {
   "cell_type": "code",
   "execution_count": 25,
   "id": "07465ce6-f2c4-4d3b-af4f-b6b5c8d827b8",
   "metadata": {},
   "outputs": [
    {
     "name": "stderr",
     "output_type": "stream",
     "text": [
      "C:\\Users\\Saif.Shabou\\AppData\\Local\\Temp\\ipykernel_21848\\2805661541.py:1: FutureWarning: The frame.append method is deprecated and will be removed from pandas in a future version. Use pandas.concat instead.\n",
      "  indicators_definitions = indicators_definitions.append({'theme' : 'Greenspace access',\n"
     ]
    },
    {
     "data": {
      "text/html": [
       "<div>\n",
       "<style scoped>\n",
       "    .dataframe tbody tr th:only-of-type {\n",
       "        vertical-align: middle;\n",
       "    }\n",
       "\n",
       "    .dataframe tbody tr th {\n",
       "        vertical-align: top;\n",
       "    }\n",
       "\n",
       "    .dataframe thead th {\n",
       "        text-align: right;\n",
       "    }\n",
       "</style>\n",
       "<table border=\"1\" class=\"dataframe\">\n",
       "  <thead>\n",
       "    <tr style=\"text-align: right;\">\n",
       "      <th></th>\n",
       "      <th>theme</th>\n",
       "      <th>indicator_label</th>\n",
       "      <th>indicator_code</th>\n",
       "      <th>indicator_name</th>\n",
       "      <th>indicator_definition</th>\n",
       "      <th>data_sources</th>\n",
       "      <th>importance</th>\n",
       "      <th>methods</th>\n",
       "    </tr>\n",
       "  </thead>\n",
       "  <tbody>\n",
       "    <tr>\n",
       "      <th>0</th>\n",
       "      <td>Health - Heat</td>\n",
       "      <td>Percent of Tree cover</td>\n",
       "      <td>HEA_1</td>\n",
       "      <td>percent_of_tree_cover</td>\n",
       "      <td>This indicator is computed as the average perc...</td>\n",
       "      <td>Tree Mosaic Land</td>\n",
       "      <td></td>\n",
       "      <td></td>\n",
       "    </tr>\n",
       "    <tr>\n",
       "      <th>1</th>\n",
       "      <td>Greenspace access</td>\n",
       "      <td>Open space for public use</td>\n",
       "      <td>GRE_3_1</td>\n",
       "      <td>GRE_3_1_percentOpenSpaceinBuiltup</td>\n",
       "      <td>Availability and area of public open space, su...</td>\n",
       "      <td>ESA World Cover, Open Street Map</td>\n",
       "      <td>Availability and area of public open space, su...</td>\n",
       "      <td>This indicator uses polygon data on categories...</td>\n",
       "    </tr>\n",
       "  </tbody>\n",
       "</table>\n",
       "</div>"
      ],
      "text/plain": [
       "               theme            indicator_label indicator_code  \\\n",
       "0      Health - Heat      Percent of Tree cover          HEA_1   \n",
       "1  Greenspace access  Open space for public use        GRE_3_1   \n",
       "\n",
       "                      indicator_name  \\\n",
       "0              percent_of_tree_cover   \n",
       "1  GRE_3_1_percentOpenSpaceinBuiltup   \n",
       "\n",
       "                                indicator_definition  \\\n",
       "0  This indicator is computed as the average perc...   \n",
       "1  Availability and area of public open space, su...   \n",
       "\n",
       "                       data_sources  \\\n",
       "0                  Tree Mosaic Land   \n",
       "1  ESA World Cover, Open Street Map   \n",
       "\n",
       "                                          importance  \\\n",
       "0                                                      \n",
       "1  Availability and area of public open space, su...   \n",
       "\n",
       "                                             methods  \n",
       "0                                                     \n",
       "1  This indicator uses polygon data on categories...  "
      ]
     },
     "execution_count": 25,
     "metadata": {},
     "output_type": "execute_result"
    }
   ],
   "source": [
    "indicators_definitions = indicators_definitions.append({'theme' : 'Greenspace access', \n",
    "                                                        'indicator_label' : 'Open space for public use', \n",
    "                                                        'indicator_code' : 'GRE_3_1',\n",
    "                                                        'indicator_name' : 'GRE_3_1_percentOpenSpaceinBuiltup',\n",
    "                                                       'indicator_definition' : 'Availability and area of public open space, such as parks, is a key indicator to assess quality of life for residents of a city. Open spaces provide recreation opportunities and can provide ecosystem services and habitat. Indicators of open space are included in the Sustainable Development Goals (Indicator 11.7.1) and the Singapore Index on Cities Biodiversity.',\n",
    "                                                       'data_sources' : 'ESA World Cover, Open Street Map',\n",
    "                                                       'importance' : 'Availability and area of public open space, such as parks, is a key indicator to assess quality of life for residents of a city. Open spaces provide recreation opportunities and can provide ecosystem services and habitat. Indicators of open space are included in the Sustainable Development Goals (Indicator 11.7.1) and the Singapore Index on Cities Biodiversity.',\n",
    "                                                       'methods' : 'This indicator uses polygon data on categories of open space as retrieved from OpenStreetMap in August 2022. The OpenStreetMap tags used to retrieve these areas are ''park'', ''nature_reserve'', ''common'', ''playground'', ''pitch'', and ''track'' in the ''leisure'' category and ''protected_area'' and ''national_park'' in the ''boundary'' category. Status as open space or non-open space for each pixel of built land are derived using the built-up class from ESA WorldCover as a mask. Finally, the count of masked pixels of open space is use to calculate the percent of built area that is open space.'}, \n",
    "                                                       ignore_index = True)\n",
    "indicators_definitions"
   ]
  },
  {
   "cell_type": "markdown",
   "id": "569cd25b-ec9a-4ecd-8a1f-bb7e7e418ceb",
   "metadata": {},
   "source": [
    "## Indicator: Access to public open space"
   ]
  },
  {
   "cell_type": "code",
   "execution_count": 26,
   "id": "fb376675-6b1e-4e3f-91d4-965c1cac631d",
   "metadata": {},
   "outputs": [
    {
     "name": "stderr",
     "output_type": "stream",
     "text": [
      "C:\\Users\\Saif.Shabou\\AppData\\Local\\Temp\\ipykernel_21848\\2230695861.py:1: FutureWarning: The frame.append method is deprecated and will be removed from pandas in a future version. Use pandas.concat instead.\n",
      "  indicators_definitions = indicators_definitions.append({'theme' : 'Greenspace access',\n"
     ]
    },
    {
     "data": {
      "text/html": [
       "<div>\n",
       "<style scoped>\n",
       "    .dataframe tbody tr th:only-of-type {\n",
       "        vertical-align: middle;\n",
       "    }\n",
       "\n",
       "    .dataframe tbody tr th {\n",
       "        vertical-align: top;\n",
       "    }\n",
       "\n",
       "    .dataframe thead th {\n",
       "        text-align: right;\n",
       "    }\n",
       "</style>\n",
       "<table border=\"1\" class=\"dataframe\">\n",
       "  <thead>\n",
       "    <tr style=\"text-align: right;\">\n",
       "      <th></th>\n",
       "      <th>theme</th>\n",
       "      <th>indicator_label</th>\n",
       "      <th>indicator_code</th>\n",
       "      <th>indicator_name</th>\n",
       "      <th>indicator_definition</th>\n",
       "      <th>data_sources</th>\n",
       "      <th>importance</th>\n",
       "      <th>methods</th>\n",
       "    </tr>\n",
       "  </thead>\n",
       "  <tbody>\n",
       "    <tr>\n",
       "      <th>0</th>\n",
       "      <td>Health - Heat</td>\n",
       "      <td>Percent of Tree cover</td>\n",
       "      <td>HEA_1</td>\n",
       "      <td>percent_of_tree_cover</td>\n",
       "      <td>This indicator is computed as the average perc...</td>\n",
       "      <td>Tree Mosaic Land</td>\n",
       "      <td></td>\n",
       "      <td></td>\n",
       "    </tr>\n",
       "    <tr>\n",
       "      <th>1</th>\n",
       "      <td>Greenspace access</td>\n",
       "      <td>Open space for public use</td>\n",
       "      <td>GRE_3_1</td>\n",
       "      <td>GRE_3_1_percentOpenSpaceinBuiltup</td>\n",
       "      <td>Availability and area of public open space, su...</td>\n",
       "      <td>ESA World Cover, Open Street Map</td>\n",
       "      <td>Availability and area of public open space, su...</td>\n",
       "      <td>This indicator uses polygon data on categories...</td>\n",
       "    </tr>\n",
       "    <tr>\n",
       "      <th>2</th>\n",
       "      <td>Greenspace access</td>\n",
       "      <td>Access to public open space</td>\n",
       "      <td>GRE_3_2</td>\n",
       "      <td>GRE_3_2_percentPopwOpenSpaceAccess</td>\n",
       "      <td>Percent of population with access to public op...</td>\n",
       "      <td>WorldPop, Open Street Map</td>\n",
       "      <td>Availability of open space in a city is also a...</td>\n",
       "      <td>This indicator makes use of gridded population...</td>\n",
       "    </tr>\n",
       "  </tbody>\n",
       "</table>\n",
       "</div>"
      ],
      "text/plain": [
       "               theme              indicator_label indicator_code  \\\n",
       "0      Health - Heat        Percent of Tree cover          HEA_1   \n",
       "1  Greenspace access    Open space for public use        GRE_3_1   \n",
       "2  Greenspace access  Access to public open space        GRE_3_2   \n",
       "\n",
       "                       indicator_name  \\\n",
       "0               percent_of_tree_cover   \n",
       "1   GRE_3_1_percentOpenSpaceinBuiltup   \n",
       "2  GRE_3_2_percentPopwOpenSpaceAccess   \n",
       "\n",
       "                                indicator_definition  \\\n",
       "0  This indicator is computed as the average perc...   \n",
       "1  Availability and area of public open space, su...   \n",
       "2  Percent of population with access to public op...   \n",
       "\n",
       "                       data_sources  \\\n",
       "0                  Tree Mosaic Land   \n",
       "1  ESA World Cover, Open Street Map   \n",
       "2         WorldPop, Open Street Map   \n",
       "\n",
       "                                          importance  \\\n",
       "0                                                      \n",
       "1  Availability and area of public open space, su...   \n",
       "2  Availability of open space in a city is also a...   \n",
       "\n",
       "                                             methods  \n",
       "0                                                     \n",
       "1  This indicator uses polygon data on categories...  \n",
       "2  This indicator makes use of gridded population...  "
      ]
     },
     "execution_count": 26,
     "metadata": {},
     "output_type": "execute_result"
    }
   ],
   "source": [
    "indicators_definitions = indicators_definitions.append({'theme' : 'Greenspace access', \n",
    "                                                        'indicator_label' : 'Access to public open space', \n",
    "                                                        'indicator_code' : 'GRE_3_2',\n",
    "                                                        'indicator_name' : 'GRE_3_2_percentPopwOpenSpaceAccess',\n",
    "                                                       'indicator_definition' : 'Percent of population with access to public open space within walking distance (400m)',\n",
    "                                                       'data_sources' : 'WorldPop, Open Street Map',\n",
    "                                                       'importance' : 'Availability of open space in a city is also a function of its ease of access and who does or does not have easy access. As a result, spatial distribution of open space across the city and its alignment with the location of population, and its accessibility within walking distance (commonly defined at 400 meters) is a critical indicator to understand how many city residents are well served by open space.',\n",
    "                                                       'methods' : 'This indicator makes use of gridded population at 100-meter resolution from the WorldPop project as accessed on Earth Engine. The open space polygons retrieved from OpenStreetMap are buffered by 400 meters to derive recreation catchment areas. The population within those recreation catchment areas is calculated and then converted to percent by dividing that value by the total population of the area of interest'}, \n",
    "                                                       ignore_index = True)\n",
    "indicators_definitions"
   ]
  },
  {
   "cell_type": "markdown",
   "id": "58fa1910-6e1b-4f3e-9264-f76567998b27",
   "metadata": {},
   "source": [
    "## Indicator: Access to tree cover"
   ]
  },
  {
   "cell_type": "code",
   "execution_count": 27,
   "id": "c4aa979d-2204-4329-a208-b42d45e2d15b",
   "metadata": {},
   "outputs": [
    {
     "name": "stderr",
     "output_type": "stream",
     "text": [
      "C:\\Users\\Saif.Shabou\\AppData\\Local\\Temp\\ipykernel_21848\\1497801048.py:1: FutureWarning: The frame.append method is deprecated and will be removed from pandas in a future version. Use pandas.concat instead.\n",
      "  indicators_definitions = indicators_definitions.append({'theme' : 'Greenspace access',\n"
     ]
    },
    {
     "data": {
      "text/html": [
       "<div>\n",
       "<style scoped>\n",
       "    .dataframe tbody tr th:only-of-type {\n",
       "        vertical-align: middle;\n",
       "    }\n",
       "\n",
       "    .dataframe tbody tr th {\n",
       "        vertical-align: top;\n",
       "    }\n",
       "\n",
       "    .dataframe thead th {\n",
       "        text-align: right;\n",
       "    }\n",
       "</style>\n",
       "<table border=\"1\" class=\"dataframe\">\n",
       "  <thead>\n",
       "    <tr style=\"text-align: right;\">\n",
       "      <th></th>\n",
       "      <th>theme</th>\n",
       "      <th>indicator_label</th>\n",
       "      <th>indicator_code</th>\n",
       "      <th>indicator_name</th>\n",
       "      <th>indicator_definition</th>\n",
       "      <th>data_sources</th>\n",
       "      <th>importance</th>\n",
       "      <th>methods</th>\n",
       "    </tr>\n",
       "  </thead>\n",
       "  <tbody>\n",
       "    <tr>\n",
       "      <th>0</th>\n",
       "      <td>Health - Heat</td>\n",
       "      <td>Percent of Tree cover</td>\n",
       "      <td>HEA_1</td>\n",
       "      <td>percent_of_tree_cover</td>\n",
       "      <td>This indicator is computed as the average perc...</td>\n",
       "      <td>Tree Mosaic Land</td>\n",
       "      <td></td>\n",
       "      <td></td>\n",
       "    </tr>\n",
       "    <tr>\n",
       "      <th>1</th>\n",
       "      <td>Greenspace access</td>\n",
       "      <td>Open space for public use</td>\n",
       "      <td>GRE_3_1</td>\n",
       "      <td>GRE_3_1_percentOpenSpaceinBuiltup</td>\n",
       "      <td>Availability and area of public open space, su...</td>\n",
       "      <td>ESA World Cover, Open Street Map</td>\n",
       "      <td>Availability and area of public open space, su...</td>\n",
       "      <td>This indicator uses polygon data on categories...</td>\n",
       "    </tr>\n",
       "    <tr>\n",
       "      <th>2</th>\n",
       "      <td>Greenspace access</td>\n",
       "      <td>Access to public open space</td>\n",
       "      <td>GRE_3_2</td>\n",
       "      <td>GRE_3_2_percentPopwOpenSpaceAccess</td>\n",
       "      <td>Percent of population with access to public op...</td>\n",
       "      <td>WorldPop, Open Street Map</td>\n",
       "      <td>Availability of open space in a city is also a...</td>\n",
       "      <td>This indicator makes use of gridded population...</td>\n",
       "    </tr>\n",
       "    <tr>\n",
       "      <th>3</th>\n",
       "      <td>Greenspace access</td>\n",
       "      <td>Access to tree cover</td>\n",
       "      <td>GRE_3_3</td>\n",
       "      <td>GRE_3_3_percentPopwTreeCoverAcess</td>\n",
       "      <td>Percent of population with threshold level (10...</td>\n",
       "      <td>WorldPop, Tree Mosaic Land</td>\n",
       "      <td>Access to tree cover is also an important indi...</td>\n",
       "      <td>This indicator uses 10-meter resolution tree c...</td>\n",
       "    </tr>\n",
       "  </tbody>\n",
       "</table>\n",
       "</div>"
      ],
      "text/plain": [
       "               theme              indicator_label indicator_code  \\\n",
       "0      Health - Heat        Percent of Tree cover          HEA_1   \n",
       "1  Greenspace access    Open space for public use        GRE_3_1   \n",
       "2  Greenspace access  Access to public open space        GRE_3_2   \n",
       "3  Greenspace access         Access to tree cover        GRE_3_3   \n",
       "\n",
       "                       indicator_name  \\\n",
       "0               percent_of_tree_cover   \n",
       "1   GRE_3_1_percentOpenSpaceinBuiltup   \n",
       "2  GRE_3_2_percentPopwOpenSpaceAccess   \n",
       "3   GRE_3_3_percentPopwTreeCoverAcess   \n",
       "\n",
       "                                indicator_definition  \\\n",
       "0  This indicator is computed as the average perc...   \n",
       "1  Availability and area of public open space, su...   \n",
       "2  Percent of population with access to public op...   \n",
       "3  Percent of population with threshold level (10...   \n",
       "\n",
       "                       data_sources  \\\n",
       "0                  Tree Mosaic Land   \n",
       "1  ESA World Cover, Open Street Map   \n",
       "2         WorldPop, Open Street Map   \n",
       "3        WorldPop, Tree Mosaic Land   \n",
       "\n",
       "                                          importance  \\\n",
       "0                                                      \n",
       "1  Availability and area of public open space, su...   \n",
       "2  Availability of open space in a city is also a...   \n",
       "3  Access to tree cover is also an important indi...   \n",
       "\n",
       "                                             methods  \n",
       "0                                                     \n",
       "1  This indicator uses polygon data on categories...  \n",
       "2  This indicator makes use of gridded population...  \n",
       "3  This indicator uses 10-meter resolution tree c...  "
      ]
     },
     "execution_count": 27,
     "metadata": {},
     "output_type": "execute_result"
    }
   ],
   "source": [
    "indicators_definitions = indicators_definitions.append({'theme' : 'Greenspace access', \n",
    "                                                        'indicator_label' : 'Access to tree cover', \n",
    "                                                        'indicator_code' : 'GRE_3_3',\n",
    "                                                        'indicator_name' : 'GRE_3_3_percentPopwTreeCoverAcess',\n",
    "                                                       'indicator_definition' : 'Percent of population with threshold level (10%+) of tree cover within walking distance (400m)',\n",
    "                                                       'data_sources' : 'WorldPop, Tree Mosaic Land',\n",
    "                                                       'importance' : 'Access to tree cover is also an important indicator of quality greenspace, whether it is public or private space. Privately maintained trees also provide a variety of public benefits from clean air to heat mitigation and shade. This indicator considers all trees within walking distance (400 meters) for each resident of the city as an indicator of the quality of greenspace that they interact with in an average day.',\n",
    "                                                       'methods' : 'This indicator uses 10-meter resolution tree cover data for 2020 from the Trees in Mosaic Landscapes dataset and gridded population at 100-meter resolution from the WorldPop project as retrieved from Earth Engine. A neighborhood reduction method using a circular kernel of 400 meters is applied to the tree cover layer to determine the percentage tree cover within 400 meters of each pixel in the area of interest. This results is then used to mask the population layer to only include pixels with at least 10% tree cover within 400 meters. The population of this masked population layer is then calculated and then converted to percent by dividing that value by the total population of the area of interest.'}, \n",
    "                                                       ignore_index = True)\n",
    "indicators_definitions"
   ]
  },
  {
   "cell_type": "markdown",
   "id": "49efb428-9437-4f27-b8ed-a9140ae9f700",
   "metadata": {},
   "source": [
    "# Upload to aws s3"
   ]
  },
  {
   "cell_type": "code",
   "execution_count": 28,
   "id": "39f9b147-29a8-4ac2-bdff-fb838df6b005",
   "metadata": {},
   "outputs": [],
   "source": [
    "# connect to s3\n",
    "aws_credentials = pd.read_csv('C:\\\\Users\\\\Saif.Shabou\\\\OneDrive - World Resources Institute\\\\Documents\\\\aws\\\\credentials.csv')\n",
    "aws_key = aws_credentials.iloc[0]['Access key ID']\n",
    "aws_secret = aws_credentials.iloc[0]['Secret access key']\n",
    "\n",
    "s3 = boto3.resource(\n",
    "    service_name='s3',\n",
    "    aws_access_key_id=aws_key,\n",
    "    aws_secret_access_key=aws_secret\n",
    ")"
   ]
  },
  {
   "cell_type": "code",
   "execution_count": 29,
   "id": "0818d0aa-2ef3-47b8-a31c-f687179d8d3b",
   "metadata": {},
   "outputs": [],
   "source": [
    "# upload to aws\n",
    "key_data = 'data/indicators/indicators_definition.csv'\n",
    "bucket_name = 'cities-cities4forests' \n",
    "indicators_definitions.to_csv(\n",
    "    f\"s3://{bucket_name}/{key_data}\",\n",
    "    index=False,\n",
    "    storage_options={\n",
    "        \"key\": aws_key,\n",
    "        \"secret\": aws_secret\n",
    "    },\n",
    ")"
   ]
  },
  {
   "cell_type": "code",
   "execution_count": 30,
   "id": "923bb4ff-e24e-4f20-a7dd-37035a1a8cdc",
   "metadata": {},
   "outputs": [],
   "source": [
    "# make it public\n",
    "object_acl = s3.ObjectAcl(bucket_name,key_data)\n",
    "response = object_acl.put(ACL='public-read')"
   ]
  },
  {
   "cell_type": "code",
   "execution_count": null,
   "id": "74fa5e58-a1a4-455f-b9ef-22548ea66ec0",
   "metadata": {},
   "outputs": [],
   "source": []
  }
 ],
 "metadata": {
  "kernelspec": {
   "display_name": "Python 3 (ipykernel)",
   "language": "python",
   "name": "python3"
  },
  "language_info": {
   "codemirror_mode": {
    "name": "ipython",
    "version": 3
   },
   "file_extension": ".py",
   "mimetype": "text/x-python",
   "name": "python",
   "nbconvert_exporter": "python",
   "pygments_lexer": "ipython3",
   "version": "3.10.5"
  }
 },
 "nbformat": 4,
 "nbformat_minor": 5
}
